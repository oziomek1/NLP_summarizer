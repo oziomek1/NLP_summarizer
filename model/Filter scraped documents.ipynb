{
 "cells": [
  {
   "cell_type": "code",
   "execution_count": 1,
   "metadata": {},
   "outputs": [],
   "source": [
    "import json\n",
    "import matplotlib.pyplot as plt\n",
    "import numpy as np\n",
    "import pandas as pd\n",
    "import re\n",
    "import os\n",
    "import spacy\n",
    "\n",
    "from glob import glob\n",
    "from typing import Callable\n",
    "from typing import Dict\n",
    "from typing import List\n",
    "from typing import Tuple"
   ]
  },
  {
   "cell_type": "code",
   "execution_count": 2,
   "metadata": {},
   "outputs": [],
   "source": [
    "nlp = spacy.load('pl_spacy_model', disable=['ner', 'parser'])"
   ]
  },
  {
   "cell_type": "code",
   "execution_count": 3,
   "metadata": {},
   "outputs": [
    {
     "name": "stdout",
     "output_type": "stream",
     "text": [
      "    3806 ../PLArticlesScraper/PLArticlesScraper/scrapy_output/bankier.jsonl\n",
      "     789 ../PLArticlesScraper/PLArticlesScraper/scrapy_output/bankier_moto.jsonl\n",
      "    4702 ../PLArticlesScraper/PLArticlesScraper/scrapy_output/bryla.jsonl\n",
      "   12946 ../PLArticlesScraper/PLArticlesScraper/scrapy_output/gazetakrakowska.jsonl\n",
      "    5905 ../PLArticlesScraper/PLArticlesScraper/scrapy_output/krakowwpigulce.jsonl\n",
      "      93 ../PLArticlesScraper/PLArticlesScraper/scrapy_output/mamstartup.jsonl\n",
      "     356 ../PLArticlesScraper/PLArticlesScraper/scrapy_output/naszemiasto.jsonl\n",
      "   67651 ../PLArticlesScraper/PLArticlesScraper/scrapy_output/nowiny24.jsonl\n",
      "    5280 ../PLArticlesScraper/PLArticlesScraper/scrapy_output/nowymarketing.jsonl\n",
      "   25686 ../PLArticlesScraper/PLArticlesScraper/scrapy_output/polki.jsonl\n",
      "   29133 ../PLArticlesScraper/PLArticlesScraper/scrapy_output/spidersweb.jsonl\n",
      "   78389 ../PLArticlesScraper/PLArticlesScraper/scrapy_output/sport.jsonl\n",
      "    3536 ../PLArticlesScraper/PLArticlesScraper/scrapy_output/strefainwestorow.jsonl\n",
      "    3939 ../PLArticlesScraper/PLArticlesScraper/scrapy_output/sztukaarchitektury.jsonl\n",
      "    6664 ../PLArticlesScraper/PLArticlesScraper/scrapy_output/wirtualnemedia_biznes.jsonl\n",
      "     476 ../PLArticlesScraper/PLArticlesScraper/scrapy_output/wnp.jsonl\n",
      "  249351 total\n"
     ]
    }
   ],
   "source": [
    "!wc -l ../PLArticlesScraper/PLArticlesScraper/scrapy_output/*.jsonl"
   ]
  },
  {
   "cell_type": "code",
   "execution_count": 4,
   "metadata": {},
   "outputs": [],
   "source": [
    "class FilesReader:\n",
    "    def __init__(self, data_paths: str):\n",
    "        self.data_paths = data_paths\n",
    "        self.files = glob(data_paths + '*')\n",
    "        self.files.sort()\n",
    "        self._get_file_names()\n",
    "        self.data = None\n",
    "        \n",
    "    def _get_file_names(self):\n",
    "        self.file_names = [\n",
    "            os.path.basename(file).split('.')[0]\n",
    "            for file in self.files\n",
    "        ]\n",
    "        \n",
    "    def read_json_lines_files(self) -> None:\n",
    "        self.data = dict(zip(\n",
    "            self.file_names, \n",
    "            (pd.DataFrame(self._read_json_lines_file(file)) for file in self.files),\n",
    "        ))\n",
    "        \n",
    "    def _read_json_lines_file(self, file: str) -> list:\n",
    "        list_of_lines = []\n",
    "        with open(file, 'r', encoding='utf-8') as opened_file:\n",
    "            for line in opened_file:\n",
    "                list_of_lines.append(json.loads(line.rstrip('\\n|\\r')))\n",
    "        return list_of_lines"
   ]
  },
  {
   "cell_type": "code",
   "execution_count": 5,
   "metadata": {},
   "outputs": [],
   "source": [
    "class Filterer:\n",
    "    MIN_MAX_LENGTH = (5, 100)\n",
    "    \n",
    "    def __init__(\n",
    "        self, \n",
    "        title_lead_length_limit: Tuple[int, int]=MIN_MAX_LENGTH, \n",
    "        text_length_limit: Tuple[int, int]=MIN_MAX_LENGTH, \n",
    "        reset_index: bool=True,\n",
    "    ):\n",
    "        self.title_lead_length_limit = title_lead_length_limit\n",
    "        self.text_length_limit = text_length_limit\n",
    "        self.column_types = ['header', 'text']\n",
    "        self.default_header_columns = ['title', 'lead']\n",
    "        self.default_text_columns = ['text']\n",
    "        self.reset_index=True\n",
    "        self.set_conditions(title_lead_length=title_lead_length_limit, text_length=text_length_limit)\n",
    "        \n",
    "    def get_default_columns(self, skip_title: bool=True) -> Dict[str, List[str]]:\n",
    "        header_columns = self.default_header_columns\n",
    "        if skip_title:\n",
    "            header_columns = [header for header in self.default_header_columns if header != 'title']\n",
    "        return dict(zip(self.column_types, (header_columns, self.default_text_columns)))\n",
    "    \n",
    "    def get_default_conditions(self) -> Dict[str, Callable]:\n",
    "        return dict(zip(self.column_types, self.conditions)) \n",
    "    \n",
    "    def set_conditions(\n",
    "        self, \n",
    "        title_lead_length: Tuple[int, int]=MIN_MAX_LENGTH, \n",
    "        text_length: Tuple[int, int]=MIN_MAX_LENGTH,\n",
    "    ) -> None:\n",
    "        self.conditions = [\n",
    "            self.set_condition(title_lead_length), self.set_condition(text_length)\n",
    "        ]\n",
    "        \n",
    "    def set_condition(self, length: Tuple[int, int]) -> Callable:\n",
    "        return lambda x: max(length[0], 1) <= len(\" \".join(x).strip().split()) <= length[1] \\\n",
    "            if isinstance(x, list) else max(length[0], 1) <= len(x.strip().split()) <= length[1]\n",
    "        \n",
    "    def filter_site_data(\n",
    "        self, \n",
    "        data: pd.DataFrame, \n",
    "        columns_names: Dict[str, List[str]]=None, \n",
    "        conditions: Dict[str, Callable]=None,\n",
    "        skip_title: bool=True,\n",
    "    ) -> pd.DataFrame:\n",
    "        if not columns_names:\n",
    "            columns_names = self.get_default_columns()\n",
    "        if not conditions:\n",
    "            conditions = self.get_default_conditions()\n",
    "\n",
    "        for column_type, col_names in columns_names.items():\n",
    "            column_condition = conditions[column_type]\n",
    "            for col_name in col_names:\n",
    "                data = data[data[col_name].map(column_condition)]\n",
    "        if self.reset_index:\n",
    "            return data.reset_index(drop=True)\n",
    "        return data"
   ]
  },
  {
   "cell_type": "code",
   "execution_count": 56,
   "metadata": {},
   "outputs": [],
   "source": [
    "samples = [\n",
    "    \" sa as as a a dsas\",\n",
    "    [\"sad\", \"sad\", \"dsa\", \"as a sadad asdsad dsa\"],\n",
    "    [\"asodi asdop saop sa op aso ap dopa spas. a das da ad asdad\"],\n",
    "]"
   ]
  },
  {
   "cell_type": "code",
   "execution_count": 186,
   "metadata": {},
   "outputs": [],
   "source": [
    "class UtilsCounter:\n",
    "    def __init__(self):\n",
    "        pass\n",
    "    \n",
    "    def calculate_words(self, text, return_words=False):\n",
    "        words = self.strip_text(words)\n",
    "        words = self.tokenize_text(words)\n",
    "        number_of_words = len(words)\n",
    "        if return_words:\n",
    "            return number_of_words, words\n",
    "        return number_of_words\n",
    "    \n",
    "    def remove_html_elements(self, text, elements_to_preserve=None):\n",
    "        pass\n",
    "    \n",
    "    def strip_text(self, text):\n",
    "        if text:\n",
    "            text = \" \".join(text).strip().split() if isinstance(text, list) else \"\".join(text).strip().split()\n",
    "            return text\n",
    "        return \"\"\n",
    "    \n",
    "    def tokenize_text(self, text):\n",
    "        text = re.sub(\"(\\\\t|\\\\r|\\\\n)\", ' ', str(text)) # tab or newline chars\n",
    "        text = re.sub(\"(__+|-+|~+|\\+\\++|\\.\\.+|\\-\\s+|\\:+)\", ' ', str(text))\n",
    "        text = re.sub(\"\\s+\", ' ', str(text)) # remove whitespaces\n",
    "\n",
    "        text = re.sub(r\"[<>()|&©ø\\[\\]\\'\\\"\\`,;~*]\", '', str(text))\n",
    "        text = re.sub(r\"[?!]\", '.', str(text))\n",
    "        return [tok.text for tok in nlp.tokenizer(text)]"
   ]
  },
  {
   "cell_type": "code",
   "execution_count": 187,
   "metadata": {},
   "outputs": [],
   "source": [
    "utilsCounter = UtilsCounter()"
   ]
  },
  {
   "cell_type": "code",
   "execution_count": 148,
   "metadata": {},
   "outputs": [],
   "source": [
    "file_reader = FilesReader(data_paths='../PLArticlesScraper/PLArticlesScraper/scrapy_output/')"
   ]
  },
  {
   "cell_type": "code",
   "execution_count": 149,
   "metadata": {},
   "outputs": [],
   "source": [
    "file_reader.read_json_lines_files()"
   ]
  },
  {
   "cell_type": "code",
   "execution_count": 10,
   "metadata": {},
   "outputs": [
    {
     "data": {
      "text/html": [
       "<div>\n",
       "<style scoped>\n",
       "    .dataframe tbody tr th:only-of-type {\n",
       "        vertical-align: middle;\n",
       "    }\n",
       "\n",
       "    .dataframe tbody tr th {\n",
       "        vertical-align: top;\n",
       "    }\n",
       "\n",
       "    .dataframe thead th {\n",
       "        text-align: right;\n",
       "    }\n",
       "</style>\n",
       "<table border=\"1\" class=\"dataframe\">\n",
       "  <thead>\n",
       "    <tr style=\"text-align: right;\">\n",
       "      <th></th>\n",
       "      <th>url</th>\n",
       "      <th>title</th>\n",
       "      <th>lead</th>\n",
       "      <th>text</th>\n",
       "      <th>text_main_points</th>\n",
       "    </tr>\n",
       "  </thead>\n",
       "  <tbody>\n",
       "    <tr>\n",
       "      <th>0</th>\n",
       "      <td>https://www.bankier.pl/wiadomosc/Oszustwo-SMS-...</td>\n",
       "      <td>[\"Pieniądze z Państwa konta przekazane do NBP\"...</td>\n",
       "      <td>[Największy bank w Polsce bije na alarm: oszuś...</td>\n",
       "      <td>[\"Przekażcie dalej i ostrzeżcie znajomych\" - a...</td>\n",
       "      <td>[]</td>\n",
       "    </tr>\n",
       "    <tr>\n",
       "      <th>1</th>\n",
       "      <td>https://www.bankier.pl/wiadomosc/Zakaz-handlu-...</td>\n",
       "      <td>[Zakaz handlu zawieszony z powodu koronawirusa...</td>\n",
       "      <td>[Zawieszenie wejścia w życie wszelkich ustaw w...</td>\n",
       "      <td>[\\r\\nJak czytamy w stanowisku KIG przysłanym w...</td>\n",
       "      <td>[]</td>\n",
       "    </tr>\n",
       "    <tr>\n",
       "      <th>2</th>\n",
       "      <td>https://www.bankier.pl/wiadomosc/Czechy-zamyka...</td>\n",
       "      <td>[Czechy zamykają sklepy i restauracje]</td>\n",
       "      <td>[Władze Republiki Czeskiej poinformowały w noc...</td>\n",
       "      <td>[Otwarte będą natomiast wszystkie stacje benzy...</td>\n",
       "      <td>[]</td>\n",
       "    </tr>\n",
       "    <tr>\n",
       "      <th>3</th>\n",
       "      <td>https://www.bankier.pl/wiadomosc/5-tematow-min...</td>\n",
       "      <td>[5 tematów mijającego tygodnia ważnych dla two...</td>\n",
       "      <td>[W mijającym tygodniu\\r\\nopisywaliśmy szereg t...</td>\n",
       "      <td>[W ramach cyklu „5\\r\\ntematów minionego tygodn...</td>\n",
       "      <td>[]</td>\n",
       "    </tr>\n",
       "    <tr>\n",
       "      <th>4</th>\n",
       "      <td>https://www.bankier.pl/wiadomosc/Turczynowicz-...</td>\n",
       "      <td>[Turczynowicz-Kieryłło rezygnuje funkcji szefo...</td>\n",
       "      <td>[Z uwagi na stan zdrowia nie będę pełnić już f...</td>\n",
       "      <td>[\\r\\n, \"Moi Drodzy, z uwagi na stan zdrowia ni...</td>\n",
       "      <td>[]</td>\n",
       "    </tr>\n",
       "  </tbody>\n",
       "</table>\n",
       "</div>"
      ],
      "text/plain": [
       "                                                 url  \\\n",
       "0  https://www.bankier.pl/wiadomosc/Oszustwo-SMS-...   \n",
       "1  https://www.bankier.pl/wiadomosc/Zakaz-handlu-...   \n",
       "2  https://www.bankier.pl/wiadomosc/Czechy-zamyka...   \n",
       "3  https://www.bankier.pl/wiadomosc/5-tematow-min...   \n",
       "4  https://www.bankier.pl/wiadomosc/Turczynowicz-...   \n",
       "\n",
       "                                               title  \\\n",
       "0  [\"Pieniądze z Państwa konta przekazane do NBP\"...   \n",
       "1  [Zakaz handlu zawieszony z powodu koronawirusa...   \n",
       "2             [Czechy zamykają sklepy i restauracje]   \n",
       "3  [5 tematów mijającego tygodnia ważnych dla two...   \n",
       "4  [Turczynowicz-Kieryłło rezygnuje funkcji szefo...   \n",
       "\n",
       "                                                lead  \\\n",
       "0  [Największy bank w Polsce bije na alarm: oszuś...   \n",
       "1  [Zawieszenie wejścia w życie wszelkich ustaw w...   \n",
       "2  [Władze Republiki Czeskiej poinformowały w noc...   \n",
       "3  [W mijającym tygodniu\\r\\nopisywaliśmy szereg t...   \n",
       "4  [Z uwagi na stan zdrowia nie będę pełnić już f...   \n",
       "\n",
       "                                                text text_main_points  \n",
       "0  [\"Przekażcie dalej i ostrzeżcie znajomych\" - a...               []  \n",
       "1  [\\r\\nJak czytamy w stanowisku KIG przysłanym w...               []  \n",
       "2  [Otwarte będą natomiast wszystkie stacje benzy...               []  \n",
       "3  [W ramach cyklu „5\\r\\ntematów minionego tygodn...               []  \n",
       "4  [\\r\\n, \"Moi Drodzy, z uwagi na stan zdrowia ni...               []  "
      ]
     },
     "execution_count": 10,
     "metadata": {},
     "output_type": "execute_result"
    }
   ],
   "source": [
    "file_reader.data['bankier'].head()"
   ]
  },
  {
   "cell_type": "code",
   "execution_count": 150,
   "metadata": {},
   "outputs": [
    {
     "name": "stdout",
     "output_type": "stream",
     "text": [
      "bankier : 201\n",
      "bankier_moto : 797\n",
      "bankier_previous : 3806\n",
      "bryla : 4702\n",
      "gazetakrakowska : 12946\n",
      "krakowwpigulce : 5905\n",
      "mamstartup : 93\n",
      "naszemiasto : 356\n",
      "nowiny24 : 67651\n",
      "nowymarketing : 5280\n",
      "polki : 25686\n",
      "spidersweb : 29133\n",
      "sport : 78389\n",
      "strefainwestorow : 3536\n",
      "sztukaarchitektury : 3939\n",
      "wirtualnemedia_biznes : 6664\n",
      "wnp : 476\n"
     ]
    }
   ],
   "source": [
    "for key in file_reader.data.keys():\n",
    "    print(f'{key} : {len(file_reader.data[key])}')"
   ]
  },
  {
   "cell_type": "markdown",
   "metadata": {},
   "source": [
    "### Plot histograms"
   ]
  },
  {
   "cell_type": "code",
   "execution_count": 190,
   "metadata": {},
   "outputs": [],
   "source": [
    "def plot_data_for_column(data, file_names, column, bins=25, max_percentile=1, x_limit=None, normalize=False):\n",
    "    plt.figure(figsize=(16, 8))\n",
    "    for i, file_name in enumerate(file_names):\n",
    "        file_dataframe = data[file_name]\n",
    "        file_dataframe = file_dataframe[file_dataframe[column].map(lambda x: len(utilsCounter.strip_text(x))) < \\\n",
    "            file_dataframe[column].map(lambda x: len(utilsCounter.strip_text(x))).quantile(max_percentile)\n",
    "        ]\n",
    "        try:\n",
    "            file_dataframe.applymap(lambda x: len(utilsCounter.strip_text(x)))[column].plot.hist(\n",
    "                bins=bins, title=f'Length of {column}s', label=file_name, legend=True, logy=True, \n",
    "                density=1 if normalize else None, color=plt.cm.tab20(i), alpha=0.8\n",
    "            )\n",
    "        except TypeError:\n",
    "            continue\n",
    "    plt.show()"
   ]
  },
  {
   "cell_type": "code",
   "execution_count": 191,
   "metadata": {},
   "outputs": [
    {
     "data": {
      "image/png": "[encoded data removed]",
      "text/plain": [
       "<Figure size 1152x576 with 1 Axes>"
      ]
     },
     "metadata": {
      "needs_background": "light"
     },
     "output_type": "display_data"
    }
   ],
   "source": [
    "plot_data_for_column(file_reader.data, file_reader.file_names, column='title', max_percentile=.9)"
   ]
  },
  {
   "cell_type": "code",
   "execution_count": 192,
   "metadata": {},
   "outputs": [
    {
     "data": {
      "image/png": "[encoded data removed]",
      "text/plain": [
       "<Figure size 1152x576 with 1 Axes>"
      ]
     },
     "metadata": {
      "needs_background": "light"
     },
     "output_type": "display_data"
    }
   ],
   "source": [
    "plot_data_for_column(file_reader.data, file_reader.file_names, column='lead', max_percentile=.9)"
   ]
  },
  {
   "cell_type": "code",
   "execution_count": 193,
   "metadata": {},
   "outputs": [
    {
     "data": {
      "image/png": "[encoded data removed]",
      "text/plain": [
       "<Figure size 1152x576 with 1 Axes>"
      ]
     },
     "metadata": {
      "needs_background": "light"
     },
     "output_type": "display_data"
    }
   ],
   "source": [
    "plot_data_for_column(file_reader.data, file_reader.file_names, column='text', max_percentile=.9)"
   ]
  },
  {
   "cell_type": "code",
   "execution_count": 196,
   "metadata": {},
   "outputs": [],
   "source": [
    "def plot_data_for_column_single(data, file_names, column, bins=25, max_percentile=1, x_limit=None, normalize=False):\n",
    "    for i, file_name in enumerate(file_names):\n",
    "        plt.figure(figsize=(12, 5))\n",
    "        file_dataframe = data[file_name]\n",
    "        file_dataframe = file_dataframe[file_dataframe[column].map(lambda x: len(utilsCounter.strip_text(x))) < \\\n",
    "            file_dataframe[column].map(lambda x: len(utilsCounter.strip_text(x))).quantile(max_percentile)\n",
    "        ]\n",
    "        try:\n",
    "            file_dataframe.applymap(lambda x: len(utilsCounter.strip_text(x)))[column].plot.hist(\n",
    "                bins=bins, title=f'Length of {column}s', label=file_name, legend=True, logy=False, \n",
    "                density=1 if normalize else None, color=plt.cm.tab20(i), alpha=1\n",
    "            )\n",
    "        except TypeError:\n",
    "            continue\n",
    "        plt.show()"
   ]
  },
  {
   "cell_type": "code",
   "execution_count": 197,
   "metadata": {},
   "outputs": [
    {
     "data": {
      "image/png": "[encoded data removed]",
      "text/plain": [
       "<Figure size 864x360 with 1 Axes>"
      ]
     },
     "metadata": {
      "needs_background": "light"
     },
     "output_type": "display_data"
    },
    {
     "data": {
      "image/png": "[encoded data removed]",
      "text/plain": [
       "<Figure size 864x360 with 1 Axes>"
      ]
     },
     "metadata": {
      "needs_background": "light"
     },
     "output_type": "display_data"
    },
    {
     "data": {
      "image/png": "[encoded data removed]",
      "text/plain": [
       "<Figure size 864x360 with 1 Axes>"
      ]
     },
     "metadata": {
      "needs_background": "light"
     },
     "output_type": "display_data"
    },
    {
     "data": {
      "image/png": "[encoded data removed]",
      "text/plain": [
       "<Figure size 864x360 with 1 Axes>"
      ]
     },
     "metadata": {
      "needs_background": "light"
     },
     "output_type": "display_data"
    },
    {
     "data": {
      "image/png": "[encoded data removed]",
      "text/plain": [
       "<Figure size 864x360 with 1 Axes>"
      ]
     },
     "metadata": {
      "needs_background": "light"
     },
     "output_type": "display_data"
    },
    {
     "data": {
      "image/png": "[encoded data removed]",
      "text/plain": [
       "<Figure size 864x360 with 1 Axes>"
      ]
     },
     "metadata": {
      "needs_background": "light"
     },
     "output_type": "display_data"
    },
    {
     "data": {
      "image/png": "[encoded data removed]",
      "text/plain": [
       "<Figure size 864x360 with 1 Axes>"
      ]
     },
     "metadata": {
      "needs_background": "light"
     },
     "output_type": "display_data"
    },
    {
     "data": {
      "image/png": "[encoded data removed]",
      "text/plain": [
       "<Figure size 864x360 with 1 Axes>"
      ]
     },
     "metadata": {
      "needs_background": "light"
     },
     "output_type": "display_data"
    },
    {
     "data": {
      "image/png": "[encoded data removed]",
      "text/plain": [
       "<Figure size 864x360 with 1 Axes>"
      ]
     },
     "metadata": {
      "needs_background": "light"
     },
     "output_type": "display_data"
    },
    {
     "data": {
      "image/png": "[encoded data removed]",
      "text/plain": [
       "<Figure size 864x360 with 1 Axes>"
      ]
     },
     "metadata": {
      "needs_background": "light"
     },
     "output_type": "display_data"
    },
    {
     "data": {
      "image/png": "[encoded data removed]",
      "text/plain": [
       "<Figure size 864x360 with 1 Axes>"
      ]
     },
     "metadata": {
      "needs_background": "light"
     },
     "output_type": "display_data"
    },
    {
     "data": {
      "image/png": "[encoded data removed]",
      "text/plain": [
       "<Figure size 864x360 with 1 Axes>"
      ]
     },
     "metadata": {
      "needs_background": "light"
     },
     "output_type": "display_data"
    },
    {
     "data": {
      "image/png": "[encoded data removed]",
      "text/plain": [
       "<Figure size 864x360 with 1 Axes>"
      ]
     },
     "metadata": {
      "needs_background": "light"
     },
     "output_type": "display_data"
    },
    {
     "data": {
      "image/png": "[encoded data removed]",
      "text/plain": [
       "<Figure size 864x360 with 1 Axes>"
      ]
     },
     "metadata": {
      "needs_background": "light"
     },
     "output_type": "display_data"
    },
    {
     "data": {
      "image/png": "[encoded data removed]",
      "text/plain": [
       "<Figure size 864x360 with 1 Axes>"
      ]
     },
     "metadata": {
      "needs_background": "light"
     },
     "output_type": "display_data"
    },
    {
     "data": {
      "image/png": "[encoded data removed]",
      "text/plain": [
       "<Figure size 864x360 with 1 Axes>"
      ]
     },
     "metadata": {
      "needs_background": "light"
     },
     "output_type": "display_data"
    },
    {
     "data": {
      "image/png": "[encoded data removed]",
      "text/plain": [
       "<Figure size 864x360 with 1 Axes>"
      ]
     },
     "metadata": {
      "needs_background": "light"
     },
     "output_type": "display_data"
    }
   ],
   "source": [
    "plot_data_for_column_single(file_reader.data, file_reader.file_names, column='lead', max_percentile=1)"
   ]
  },
  {
   "cell_type": "markdown",
   "metadata": {},
   "source": [
    "# Filter data"
   ]
  },
  {
   "cell_type": "code",
   "execution_count": 202,
   "metadata": {},
   "outputs": [],
   "source": [
    "filterer = Filterer(title_lead_length_limit=(10, 200), text_length_limit=(40, 2000))"
   ]
  },
  {
   "cell_type": "code",
   "execution_count": 203,
   "metadata": {
    "scrolled": true
   },
   "outputs": [
    {
     "data": {
      "text/html": [
       "<div>\n",
       "<style scoped>\n",
       "    .dataframe tbody tr th:only-of-type {\n",
       "        vertical-align: middle;\n",
       "    }\n",
       "\n",
       "    .dataframe tbody tr th {\n",
       "        vertical-align: top;\n",
       "    }\n",
       "\n",
       "    .dataframe thead th {\n",
       "        text-align: right;\n",
       "    }\n",
       "</style>\n",
       "<table border=\"1\" class=\"dataframe\">\n",
       "  <thead>\n",
       "    <tr style=\"text-align: right;\">\n",
       "      <th></th>\n",
       "      <th>url</th>\n",
       "      <th>title</th>\n",
       "      <th>lead</th>\n",
       "      <th>text</th>\n",
       "    </tr>\n",
       "  </thead>\n",
       "  <tbody>\n",
       "    <tr>\n",
       "      <th>0</th>\n",
       "      <td>https://gazetakrakowska.pl/jordanow-w-nocy-spl...</td>\n",
       "      <td>[Jordanów. W nocy spłonął tartak. Niemal 70 st...</td>\n",
       "      <td>[Nocny pożar w Jordanowie w powiecie suskim. W...</td>\n",
       "      <td>[Ogień został zauważony o godz. 3.30 w nocy. N...</td>\n",
       "    </tr>\n",
       "    <tr>\n",
       "      <th>1</th>\n",
       "      <td>https://gazetakrakowska.pl/koronawirus-w-nowym...</td>\n",
       "      <td>[Koronawirus w Nowym Sączu. Wracający z zagran...</td>\n",
       "      <td>[Sądeczanie, którzy wracają do domu z zagranic...</td>\n",
       "      <td>[Wielu Sądeczan pracujących zagranicą w związk...</td>\n",
       "    </tr>\n",
       "    <tr>\n",
       "      <th>2</th>\n",
       "      <td>https://gazetakrakowska.pl/krakow-trwa-budowa-...</td>\n",
       "      <td>[Kraków. Trwa budowa wodnego placu zabaw w par...</td>\n",
       "      <td>[Postępują prace związane z budową wodnego pla...</td>\n",
       "      <td>[Wodny , plac zabaw,  w parku Jordana to jedno...</td>\n",
       "    </tr>\n",
       "    <tr>\n",
       "      <th>3</th>\n",
       "      <td>https://gazetakrakowska.pl/koronawirus-tarnow-...</td>\n",
       "      <td>[Koronawirus Tarnów. Wracający z zagranicy nie...</td>\n",
       "      <td>[Mieszkańcy Tarnowa i regionu, którzy planują ...</td>\n",
       "      <td>[Pani Katarzyna spod Tarnowa pracowała dotąd w...</td>\n",
       "    </tr>\n",
       "    <tr>\n",
       "      <th>4</th>\n",
       "      <td>https://gazetakrakowska.pl/koronawirus-francis...</td>\n",
       "      <td>[Koronawirus. Franciszkanie z Krakowa zachęcaj...</td>\n",
       "      <td>[W trakcie walki z epidemią koronawirusa, w Po...</td>\n",
       "      <td>[Powstają różne inicjatywy, jak wspierać tych,...</td>\n",
       "    </tr>\n",
       "  </tbody>\n",
       "</table>\n",
       "</div>"
      ],
      "text/plain": [
       "                                                 url  \\\n",
       "0  https://gazetakrakowska.pl/jordanow-w-nocy-spl...   \n",
       "1  https://gazetakrakowska.pl/koronawirus-w-nowym...   \n",
       "2  https://gazetakrakowska.pl/krakow-trwa-budowa-...   \n",
       "3  https://gazetakrakowska.pl/koronawirus-tarnow-...   \n",
       "4  https://gazetakrakowska.pl/koronawirus-francis...   \n",
       "\n",
       "                                               title  \\\n",
       "0  [Jordanów. W nocy spłonął tartak. Niemal 70 st...   \n",
       "1  [Koronawirus w Nowym Sączu. Wracający z zagran...   \n",
       "2  [Kraków. Trwa budowa wodnego placu zabaw w par...   \n",
       "3  [Koronawirus Tarnów. Wracający z zagranicy nie...   \n",
       "4  [Koronawirus. Franciszkanie z Krakowa zachęcaj...   \n",
       "\n",
       "                                                lead  \\\n",
       "0  [Nocny pożar w Jordanowie w powiecie suskim. W...   \n",
       "1  [Sądeczanie, którzy wracają do domu z zagranic...   \n",
       "2  [Postępują prace związane z budową wodnego pla...   \n",
       "3  [Mieszkańcy Tarnowa i regionu, którzy planują ...   \n",
       "4  [W trakcie walki z epidemią koronawirusa, w Po...   \n",
       "\n",
       "                                                text  \n",
       "0  [Ogień został zauważony o godz. 3.30 w nocy. N...  \n",
       "1  [Wielu Sądeczan pracujących zagranicą w związk...  \n",
       "2  [Wodny , plac zabaw,  w parku Jordana to jedno...  \n",
       "3  [Pani Katarzyna spod Tarnowa pracowała dotąd w...  \n",
       "4  [Powstają różne inicjatywy, jak wspierać tych,...  "
      ]
     },
     "execution_count": 203,
     "metadata": {},
     "output_type": "execute_result"
    }
   ],
   "source": [
    "test_filtered = filterer.filter_site_data(file_reader.data['gazetakrakowska'])\n",
    "test_filtered.head()"
   ]
  },
  {
   "cell_type": "markdown",
   "metadata": {},
   "source": [
    "### Max"
   ]
  },
  {
   "cell_type": "code",
   "execution_count": 204,
   "metadata": {},
   "outputs": [
    {
     "data": {
      "text/plain": [
       "url         1\n",
       "title      26\n",
       "lead      172\n",
       "text     1887\n",
       "dtype: int64"
      ]
     },
     "execution_count": 204,
     "metadata": {},
     "output_type": "execute_result"
    }
   ],
   "source": [
    "test_filtered.applymap(lambda x: len(\" \".join(x).strip().split()) if isinstance(x, list) else len(x.strip().split())).max()"
   ]
  },
  {
   "cell_type": "markdown",
   "metadata": {},
   "source": [
    "### Min"
   ]
  },
  {
   "cell_type": "code",
   "execution_count": 205,
   "metadata": {},
   "outputs": [
    {
     "data": {
      "text/plain": [
       "url       1\n",
       "title     0\n",
       "lead     10\n",
       "text     40\n",
       "dtype: int64"
      ]
     },
     "execution_count": 205,
     "metadata": {},
     "output_type": "execute_result"
    }
   ],
   "source": [
    "test_filtered.applymap(lambda x: len(\" \".join(x).strip().split()) if isinstance(x, list) else len(x.strip().split())).min()"
   ]
  },
  {
   "cell_type": "code",
   "execution_count": 206,
   "metadata": {},
   "outputs": [],
   "source": [
    "data_filtered = {}"
   ]
  },
  {
   "cell_type": "code",
   "execution_count": 207,
   "metadata": {},
   "outputs": [],
   "source": [
    "for site in file_reader.file_names:\n",
    "    data_filtered[site] = filterer.filter_site_data(file_reader.data[site])"
   ]
  },
  {
   "cell_type": "code",
   "execution_count": 208,
   "metadata": {},
   "outputs": [],
   "source": [
    "from IPython.display import display"
   ]
  },
  {
   "cell_type": "code",
   "execution_count": 209,
   "metadata": {},
   "outputs": [
    {
     "data": {
      "text/plain": [
       "'bankier'"
      ]
     },
     "metadata": {},
     "output_type": "display_data"
    },
    {
     "data": {
      "text/plain": [
       "0"
      ]
     },
     "metadata": {},
     "output_type": "display_data"
    },
    {
     "data": {
      "text/html": [
       "<div>\n",
       "<style scoped>\n",
       "    .dataframe tbody tr th:only-of-type {\n",
       "        vertical-align: middle;\n",
       "    }\n",
       "\n",
       "    .dataframe tbody tr th {\n",
       "        vertical-align: top;\n",
       "    }\n",
       "\n",
       "    .dataframe thead th {\n",
       "        text-align: right;\n",
       "    }\n",
       "</style>\n",
       "<table border=\"1\" class=\"dataframe\">\n",
       "  <thead>\n",
       "    <tr style=\"text-align: right;\">\n",
       "      <th></th>\n",
       "    </tr>\n",
       "  </thead>\n",
       "  <tbody>\n",
       "  </tbody>\n",
       "</table>\n",
       "</div>"
      ],
      "text/plain": [
       "Empty DataFrame\n",
       "Columns: []\n",
       "Index: []"
      ]
     },
     "metadata": {},
     "output_type": "display_data"
    },
    {
     "data": {
      "text/plain": [
       "'bankier_moto'"
      ]
     },
     "metadata": {},
     "output_type": "display_data"
    },
    {
     "data": {
      "text/plain": [
       "650"
      ]
     },
     "metadata": {},
     "output_type": "display_data"
    },
    {
     "data": {
      "text/html": [
       "<div>\n",
       "<style scoped>\n",
       "    .dataframe tbody tr th:only-of-type {\n",
       "        vertical-align: middle;\n",
       "    }\n",
       "\n",
       "    .dataframe tbody tr th {\n",
       "        vertical-align: top;\n",
       "    }\n",
       "\n",
       "    .dataframe thead th {\n",
       "        text-align: right;\n",
       "    }\n",
       "</style>\n",
       "<table border=\"1\" class=\"dataframe\">\n",
       "  <thead>\n",
       "    <tr style=\"text-align: right;\">\n",
       "      <th></th>\n",
       "      <th>url</th>\n",
       "      <th>title</th>\n",
       "      <th>lead</th>\n",
       "      <th>text</th>\n",
       "    </tr>\n",
       "  </thead>\n",
       "  <tbody>\n",
       "    <tr>\n",
       "      <th>0</th>\n",
       "      <td>https://www.bankier.pl/moto/koronawirus-przysp...</td>\n",
       "      <td>[Koronawirus przyspieszy sprzedaż samochodów o...</td>\n",
       "      <td>[Epidemia koronawirusa przyspieszy rozwój sprz...</td>\n",
       "      <td>[Według Balcerzyka, choć sprzedaż bezpośrednia...</td>\n",
       "    </tr>\n",
       "    <tr>\n",
       "      <th>1</th>\n",
       "      <td>https://www.bankier.pl/moto/auta-w-polsce-truj...</td>\n",
       "      <td>[Auta w Polsce trują najmocniej w Europie]</td>\n",
       "      <td>[Samochody zarejestrowane w Polsce emitowały w...</td>\n",
       "      <td>[Samochody zarejestrowane w Polsce emitowały w...</td>\n",
       "    </tr>\n",
       "    <tr>\n",
       "      <th>2</th>\n",
       "      <td>https://www.bankier.pl/moto/przebieg-auta-pod-...</td>\n",
       "      <td>[Przebieg auta pod większą kontrolą]</td>\n",
       "      <td>[Kontrolowanie stanu liczników ma być antidotu...</td>\n",
       "      <td>[Jak podaje gazeta, od 15 marca w życie wchodz...</td>\n",
       "    </tr>\n",
       "    <tr>\n",
       "      <th>3</th>\n",
       "      <td>https://www.bankier.pl/moto/darmowe-parkingi-w...</td>\n",
       "      <td>[Darmowe parkingi w Krakowie do końca marca]</td>\n",
       "      <td>[Od niedzieli do końca marca nie będzie poboru...</td>\n",
       "      <td>[„Chcemy ułatwić funkcjonowanie tym osobom, kt...</td>\n",
       "    </tr>\n",
       "    <tr>\n",
       "      <th>4</th>\n",
       "      <td>https://www.bankier.pl/moto/fabryka-opla-w-gli...</td>\n",
       "      <td>[Fabryka Opla w Gliwicach zawiesza produkcję; ...</td>\n",
       "      <td>[Od wtorku gliwicka fabryka samochodów Opla, n...</td>\n",
       "      <td>[Od wtorku gliwicka fabryka samochodów Opla, n...</td>\n",
       "    </tr>\n",
       "  </tbody>\n",
       "</table>\n",
       "</div>"
      ],
      "text/plain": [
       "                                                 url  \\\n",
       "0  https://www.bankier.pl/moto/koronawirus-przysp...   \n",
       "1  https://www.bankier.pl/moto/auta-w-polsce-truj...   \n",
       "2  https://www.bankier.pl/moto/przebieg-auta-pod-...   \n",
       "3  https://www.bankier.pl/moto/darmowe-parkingi-w...   \n",
       "4  https://www.bankier.pl/moto/fabryka-opla-w-gli...   \n",
       "\n",
       "                                               title  \\\n",
       "0  [Koronawirus przyspieszy sprzedaż samochodów o...   \n",
       "1         [Auta w Polsce trują najmocniej w Europie]   \n",
       "2               [Przebieg auta pod większą kontrolą]   \n",
       "3       [Darmowe parkingi w Krakowie do końca marca]   \n",
       "4  [Fabryka Opla w Gliwicach zawiesza produkcję; ...   \n",
       "\n",
       "                                                lead  \\\n",
       "0  [Epidemia koronawirusa przyspieszy rozwój sprz...   \n",
       "1  [Samochody zarejestrowane w Polsce emitowały w...   \n",
       "2  [Kontrolowanie stanu liczników ma być antidotu...   \n",
       "3  [Od niedzieli do końca marca nie będzie poboru...   \n",
       "4  [Od wtorku gliwicka fabryka samochodów Opla, n...   \n",
       "\n",
       "                                                text  \n",
       "0  [Według Balcerzyka, choć sprzedaż bezpośrednia...  \n",
       "1  [Samochody zarejestrowane w Polsce emitowały w...  \n",
       "2  [Jak podaje gazeta, od 15 marca w życie wchodz...  \n",
       "3  [„Chcemy ułatwić funkcjonowanie tym osobom, kt...  \n",
       "4  [Od wtorku gliwicka fabryka samochodów Opla, n...  "
      ]
     },
     "metadata": {},
     "output_type": "display_data"
    },
    {
     "data": {
      "text/plain": [
       "'bankier_previous'"
      ]
     },
     "metadata": {},
     "output_type": "display_data"
    },
    {
     "data": {
      "text/plain": [
       "3142"
      ]
     },
     "metadata": {},
     "output_type": "display_data"
    },
    {
     "data": {
      "text/html": [
       "<div>\n",
       "<style scoped>\n",
       "    .dataframe tbody tr th:only-of-type {\n",
       "        vertical-align: middle;\n",
       "    }\n",
       "\n",
       "    .dataframe tbody tr th {\n",
       "        vertical-align: top;\n",
       "    }\n",
       "\n",
       "    .dataframe thead th {\n",
       "        text-align: right;\n",
       "    }\n",
       "</style>\n",
       "<table border=\"1\" class=\"dataframe\">\n",
       "  <thead>\n",
       "    <tr style=\"text-align: right;\">\n",
       "      <th></th>\n",
       "      <th>url</th>\n",
       "      <th>title</th>\n",
       "      <th>lead</th>\n",
       "      <th>text</th>\n",
       "      <th>text_main_points</th>\n",
       "    </tr>\n",
       "  </thead>\n",
       "  <tbody>\n",
       "    <tr>\n",
       "      <th>0</th>\n",
       "      <td>https://www.bankier.pl/wiadomosc/Oszustwo-SMS-...</td>\n",
       "      <td>[\"Pieniądze z Państwa konta przekazane do NBP\"...</td>\n",
       "      <td>[Największy bank w Polsce bije na alarm: oszuś...</td>\n",
       "      <td>[\"Przekażcie dalej i ostrzeżcie znajomych\" - a...</td>\n",
       "      <td>[]</td>\n",
       "    </tr>\n",
       "    <tr>\n",
       "      <th>1</th>\n",
       "      <td>https://www.bankier.pl/wiadomosc/Zakaz-handlu-...</td>\n",
       "      <td>[Zakaz handlu zawieszony z powodu koronawirusa...</td>\n",
       "      <td>[Zawieszenie wejścia w życie wszelkich ustaw w...</td>\n",
       "      <td>[\\r\\nJak czytamy w stanowisku KIG przysłanym w...</td>\n",
       "      <td>[]</td>\n",
       "    </tr>\n",
       "    <tr>\n",
       "      <th>2</th>\n",
       "      <td>https://www.bankier.pl/wiadomosc/Czechy-zamyka...</td>\n",
       "      <td>[Czechy zamykają sklepy i restauracje]</td>\n",
       "      <td>[Władze Republiki Czeskiej poinformowały w noc...</td>\n",
       "      <td>[Otwarte będą natomiast wszystkie stacje benzy...</td>\n",
       "      <td>[]</td>\n",
       "    </tr>\n",
       "    <tr>\n",
       "      <th>3</th>\n",
       "      <td>https://www.bankier.pl/wiadomosc/5-tematow-min...</td>\n",
       "      <td>[5 tematów mijającego tygodnia ważnych dla two...</td>\n",
       "      <td>[W mijającym tygodniu\\r\\nopisywaliśmy szereg t...</td>\n",
       "      <td>[W ramach cyklu „5\\r\\ntematów minionego tygodn...</td>\n",
       "      <td>[]</td>\n",
       "    </tr>\n",
       "    <tr>\n",
       "      <th>4</th>\n",
       "      <td>https://www.bankier.pl/wiadomosc/Turczynowicz-...</td>\n",
       "      <td>[Turczynowicz-Kieryłło rezygnuje funkcji szefo...</td>\n",
       "      <td>[Z uwagi na stan zdrowia nie będę pełnić już f...</td>\n",
       "      <td>[\\r\\n, \"Moi Drodzy, z uwagi na stan zdrowia ni...</td>\n",
       "      <td>[]</td>\n",
       "    </tr>\n",
       "  </tbody>\n",
       "</table>\n",
       "</div>"
      ],
      "text/plain": [
       "                                                 url  \\\n",
       "0  https://www.bankier.pl/wiadomosc/Oszustwo-SMS-...   \n",
       "1  https://www.bankier.pl/wiadomosc/Zakaz-handlu-...   \n",
       "2  https://www.bankier.pl/wiadomosc/Czechy-zamyka...   \n",
       "3  https://www.bankier.pl/wiadomosc/5-tematow-min...   \n",
       "4  https://www.bankier.pl/wiadomosc/Turczynowicz-...   \n",
       "\n",
       "                                               title  \\\n",
       "0  [\"Pieniądze z Państwa konta przekazane do NBP\"...   \n",
       "1  [Zakaz handlu zawieszony z powodu koronawirusa...   \n",
       "2             [Czechy zamykają sklepy i restauracje]   \n",
       "3  [5 tematów mijającego tygodnia ważnych dla two...   \n",
       "4  [Turczynowicz-Kieryłło rezygnuje funkcji szefo...   \n",
       "\n",
       "                                                lead  \\\n",
       "0  [Największy bank w Polsce bije na alarm: oszuś...   \n",
       "1  [Zawieszenie wejścia w życie wszelkich ustaw w...   \n",
       "2  [Władze Republiki Czeskiej poinformowały w noc...   \n",
       "3  [W mijającym tygodniu\\r\\nopisywaliśmy szereg t...   \n",
       "4  [Z uwagi na stan zdrowia nie będę pełnić już f...   \n",
       "\n",
       "                                                text text_main_points  \n",
       "0  [\"Przekażcie dalej i ostrzeżcie znajomych\" - a...               []  \n",
       "1  [\\r\\nJak czytamy w stanowisku KIG przysłanym w...               []  \n",
       "2  [Otwarte będą natomiast wszystkie stacje benzy...               []  \n",
       "3  [W ramach cyklu „5\\r\\ntematów minionego tygodn...               []  \n",
       "4  [\\r\\n, \"Moi Drodzy, z uwagi na stan zdrowia ni...               []  "
      ]
     },
     "metadata": {},
     "output_type": "display_data"
    },
    {
     "data": {
      "text/plain": [
       "'bryla'"
      ]
     },
     "metadata": {},
     "output_type": "display_data"
    },
    {
     "data": {
      "text/plain": [
       "3506"
      ]
     },
     "metadata": {},
     "output_type": "display_data"
    },
    {
     "data": {
      "text/html": [
       "<div>\n",
       "<style scoped>\n",
       "    .dataframe tbody tr th:only-of-type {\n",
       "        vertical-align: middle;\n",
       "    }\n",
       "\n",
       "    .dataframe tbody tr th {\n",
       "        vertical-align: top;\n",
       "    }\n",
       "\n",
       "    .dataframe thead th {\n",
       "        text-align: right;\n",
       "    }\n",
       "</style>\n",
       "<table border=\"1\" class=\"dataframe\">\n",
       "  <thead>\n",
       "    <tr style=\"text-align: right;\">\n",
       "      <th></th>\n",
       "      <th>url</th>\n",
       "      <th>title</th>\n",
       "      <th>lead</th>\n",
       "      <th>text</th>\n",
       "    </tr>\n",
       "  </thead>\n",
       "  <tbody>\n",
       "    <tr>\n",
       "      <th>0</th>\n",
       "      <td>http://www.bryla.pl/bryla/1,85298,12455850,Wer...</td>\n",
       "      <td>[Wertykalna fawela, czyli Wieża Davida w Carac...</td>\n",
       "      <td>[Niedokończony wieżowiec w Caracas został spon...</td>\n",
       "      <td>[Pamiętacie historię , opuszczonego wieżowca S...</td>\n",
       "    </tr>\n",
       "    <tr>\n",
       "      <th>1</th>\n",
       "      <td>http://www.bryla.pl/bryla/7,85301,24940681,wil...</td>\n",
       "      <td>[Willa w Kościelisku - nowoczesny dom z szacun...</td>\n",
       "      <td>[Ten dom jednorodzinny w Kościelisku, autorstw...</td>\n",
       "      <td>[Willa Frame w Kościelisku to najnowszy projek...</td>\n",
       "    </tr>\n",
       "    <tr>\n",
       "      <th>2</th>\n",
       "      <td>http://www.bryla.pl/vittorio-gregotti-nie-zyje...</td>\n",
       "      <td>[Vittorio Gregotti nie żyje. Włoski architekt,...</td>\n",
       "      <td>[Vittorio Gregotti zmarł 15 marca w Mediolanie...</td>\n",
       "      <td>[Vittorio Gregotti urodził się w 1927 roku w N...</td>\n",
       "    </tr>\n",
       "    <tr>\n",
       "      <th>3</th>\n",
       "      <td>http://www.bryla.pl/tak-bedzie-wygladal-tzw-pl...</td>\n",
       "      <td>[Tak będzie wyglądał tzw. plac trójkątny na Pr...</td>\n",
       "      <td>[Lustrzane zadaszenie i park kieszonkowy.  Mar...</td>\n",
       "      <td>[Kilka dni temu ogłoszono wyniki konkursu urba...</td>\n",
       "    </tr>\n",
       "    <tr>\n",
       "      <th>4</th>\n",
       "      <td>http://www.bryla.pl/li-edelkoort-koronawirus-s...</td>\n",
       "      <td>[Li Edelkoort: koronawirus spowoduje kwarantan...</td>\n",
       "      <td>[Jaki wpływ będzie miała epidemia koronowirusa...</td>\n",
       "      <td>[Lidewij Edelkoort zajmuje się przewidywaniem ...</td>\n",
       "    </tr>\n",
       "  </tbody>\n",
       "</table>\n",
       "</div>"
      ],
      "text/plain": [
       "                                                 url  \\\n",
       "0  http://www.bryla.pl/bryla/1,85298,12455850,Wer...   \n",
       "1  http://www.bryla.pl/bryla/7,85301,24940681,wil...   \n",
       "2  http://www.bryla.pl/vittorio-gregotti-nie-zyje...   \n",
       "3  http://www.bryla.pl/tak-bedzie-wygladal-tzw-pl...   \n",
       "4  http://www.bryla.pl/li-edelkoort-koronawirus-s...   \n",
       "\n",
       "                                               title  \\\n",
       "0  [Wertykalna fawela, czyli Wieża Davida w Carac...   \n",
       "1  [Willa w Kościelisku - nowoczesny dom z szacun...   \n",
       "2  [Vittorio Gregotti nie żyje. Włoski architekt,...   \n",
       "3  [Tak będzie wyglądał tzw. plac trójkątny na Pr...   \n",
       "4  [Li Edelkoort: koronawirus spowoduje kwarantan...   \n",
       "\n",
       "                                                lead  \\\n",
       "0  [Niedokończony wieżowiec w Caracas został spon...   \n",
       "1  [Ten dom jednorodzinny w Kościelisku, autorstw...   \n",
       "2  [Vittorio Gregotti zmarł 15 marca w Mediolanie...   \n",
       "3  [Lustrzane zadaszenie i park kieszonkowy.  Mar...   \n",
       "4  [Jaki wpływ będzie miała epidemia koronowirusa...   \n",
       "\n",
       "                                                text  \n",
       "0  [Pamiętacie historię , opuszczonego wieżowca S...  \n",
       "1  [Willa Frame w Kościelisku to najnowszy projek...  \n",
       "2  [Vittorio Gregotti urodził się w 1927 roku w N...  \n",
       "3  [Kilka dni temu ogłoszono wyniki konkursu urba...  \n",
       "4  [Lidewij Edelkoort zajmuje się przewidywaniem ...  "
      ]
     },
     "metadata": {},
     "output_type": "display_data"
    },
    {
     "data": {
      "text/plain": [
       "'gazetakrakowska'"
      ]
     },
     "metadata": {},
     "output_type": "display_data"
    },
    {
     "data": {
      "text/plain": [
       "9570"
      ]
     },
     "metadata": {},
     "output_type": "display_data"
    },
    {
     "data": {
      "text/html": [
       "<div>\n",
       "<style scoped>\n",
       "    .dataframe tbody tr th:only-of-type {\n",
       "        vertical-align: middle;\n",
       "    }\n",
       "\n",
       "    .dataframe tbody tr th {\n",
       "        vertical-align: top;\n",
       "    }\n",
       "\n",
       "    .dataframe thead th {\n",
       "        text-align: right;\n",
       "    }\n",
       "</style>\n",
       "<table border=\"1\" class=\"dataframe\">\n",
       "  <thead>\n",
       "    <tr style=\"text-align: right;\">\n",
       "      <th></th>\n",
       "      <th>url</th>\n",
       "      <th>title</th>\n",
       "      <th>lead</th>\n",
       "      <th>text</th>\n",
       "    </tr>\n",
       "  </thead>\n",
       "  <tbody>\n",
       "    <tr>\n",
       "      <th>0</th>\n",
       "      <td>https://gazetakrakowska.pl/jordanow-w-nocy-spl...</td>\n",
       "      <td>[Jordanów. W nocy spłonął tartak. Niemal 70 st...</td>\n",
       "      <td>[Nocny pożar w Jordanowie w powiecie suskim. W...</td>\n",
       "      <td>[Ogień został zauważony o godz. 3.30 w nocy. N...</td>\n",
       "    </tr>\n",
       "    <tr>\n",
       "      <th>1</th>\n",
       "      <td>https://gazetakrakowska.pl/koronawirus-w-nowym...</td>\n",
       "      <td>[Koronawirus w Nowym Sączu. Wracający z zagran...</td>\n",
       "      <td>[Sądeczanie, którzy wracają do domu z zagranic...</td>\n",
       "      <td>[Wielu Sądeczan pracujących zagranicą w związk...</td>\n",
       "    </tr>\n",
       "    <tr>\n",
       "      <th>2</th>\n",
       "      <td>https://gazetakrakowska.pl/krakow-trwa-budowa-...</td>\n",
       "      <td>[Kraków. Trwa budowa wodnego placu zabaw w par...</td>\n",
       "      <td>[Postępują prace związane z budową wodnego pla...</td>\n",
       "      <td>[Wodny , plac zabaw,  w parku Jordana to jedno...</td>\n",
       "    </tr>\n",
       "    <tr>\n",
       "      <th>3</th>\n",
       "      <td>https://gazetakrakowska.pl/koronawirus-tarnow-...</td>\n",
       "      <td>[Koronawirus Tarnów. Wracający z zagranicy nie...</td>\n",
       "      <td>[Mieszkańcy Tarnowa i regionu, którzy planują ...</td>\n",
       "      <td>[Pani Katarzyna spod Tarnowa pracowała dotąd w...</td>\n",
       "    </tr>\n",
       "    <tr>\n",
       "      <th>4</th>\n",
       "      <td>https://gazetakrakowska.pl/koronawirus-francis...</td>\n",
       "      <td>[Koronawirus. Franciszkanie z Krakowa zachęcaj...</td>\n",
       "      <td>[W trakcie walki z epidemią koronawirusa, w Po...</td>\n",
       "      <td>[Powstają różne inicjatywy, jak wspierać tych,...</td>\n",
       "    </tr>\n",
       "  </tbody>\n",
       "</table>\n",
       "</div>"
      ],
      "text/plain": [
       "                                                 url  \\\n",
       "0  https://gazetakrakowska.pl/jordanow-w-nocy-spl...   \n",
       "1  https://gazetakrakowska.pl/koronawirus-w-nowym...   \n",
       "2  https://gazetakrakowska.pl/krakow-trwa-budowa-...   \n",
       "3  https://gazetakrakowska.pl/koronawirus-tarnow-...   \n",
       "4  https://gazetakrakowska.pl/koronawirus-francis...   \n",
       "\n",
       "                                               title  \\\n",
       "0  [Jordanów. W nocy spłonął tartak. Niemal 70 st...   \n",
       "1  [Koronawirus w Nowym Sączu. Wracający z zagran...   \n",
       "2  [Kraków. Trwa budowa wodnego placu zabaw w par...   \n",
       "3  [Koronawirus Tarnów. Wracający z zagranicy nie...   \n",
       "4  [Koronawirus. Franciszkanie z Krakowa zachęcaj...   \n",
       "\n",
       "                                                lead  \\\n",
       "0  [Nocny pożar w Jordanowie w powiecie suskim. W...   \n",
       "1  [Sądeczanie, którzy wracają do domu z zagranic...   \n",
       "2  [Postępują prace związane z budową wodnego pla...   \n",
       "3  [Mieszkańcy Tarnowa i regionu, którzy planują ...   \n",
       "4  [W trakcie walki z epidemią koronawirusa, w Po...   \n",
       "\n",
       "                                                text  \n",
       "0  [Ogień został zauważony o godz. 3.30 w nocy. N...  \n",
       "1  [Wielu Sądeczan pracujących zagranicą w związk...  \n",
       "2  [Wodny , plac zabaw,  w parku Jordana to jedno...  \n",
       "3  [Pani Katarzyna spod Tarnowa pracowała dotąd w...  \n",
       "4  [Powstają różne inicjatywy, jak wspierać tych,...  "
      ]
     },
     "metadata": {},
     "output_type": "display_data"
    },
    {
     "data": {
      "text/plain": [
       "'krakowwpigulce'"
      ]
     },
     "metadata": {},
     "output_type": "display_data"
    },
    {
     "data": {
      "text/plain": [
       "3956"
      ]
     },
     "metadata": {},
     "output_type": "display_data"
    },
    {
     "data": {
      "text/html": [
       "<div>\n",
       "<style scoped>\n",
       "    .dataframe tbody tr th:only-of-type {\n",
       "        vertical-align: middle;\n",
       "    }\n",
       "\n",
       "    .dataframe tbody tr th {\n",
       "        vertical-align: top;\n",
       "    }\n",
       "\n",
       "    .dataframe thead th {\n",
       "        text-align: right;\n",
       "    }\n",
       "</style>\n",
       "<table border=\"1\" class=\"dataframe\">\n",
       "  <thead>\n",
       "    <tr style=\"text-align: right;\">\n",
       "      <th></th>\n",
       "      <th>url</th>\n",
       "      <th>title</th>\n",
       "      <th>lead</th>\n",
       "      <th>text</th>\n",
       "    </tr>\n",
       "  </thead>\n",
       "  <tbody>\n",
       "    <tr>\n",
       "      <th>0</th>\n",
       "      <td>https://krakowwpigulce.pl/2020/03/18/koronawir...</td>\n",
       "      <td>[Koronawirus w Polsce: 8 lat więzienia za prze...</td>\n",
       "      <td>[Ministerstwo Zdrowia ostrzegało, że osoby prz...</td>\n",
       "      <td>[W większości kwarantanna jest utrzymywana, al...</td>\n",
       "    </tr>\n",
       "    <tr>\n",
       "      <th>1</th>\n",
       "      <td>https://krakowwpigulce.pl/2020/03/18/zwolnil-w...</td>\n",
       "      <td>[Zwolnił Wam internet? To przez… koronawirusa]</td>\n",
       "      <td>[Pandemia koronawirusa ma wpływ na wszystkie a...</td>\n",
       "      <td>[SpeedTest.pl, serwis do testowania prędkości ...</td>\n",
       "    </tr>\n",
       "    <tr>\n",
       "      <th>2</th>\n",
       "      <td>https://krakowwpigulce.pl/2020/03/17/koronawir...</td>\n",
       "      <td>[Koronawirus: osoby z tą grupą krwi zarażają s...</td>\n",
       "      <td>[Zespół Chińskich naukowców kierowanych przez ...</td>\n",
       "      <td>[Badacze sprawdzili grupę krwi ponad 2 tys, pa...</td>\n",
       "    </tr>\n",
       "    <tr>\n",
       "      <th>3</th>\n",
       "      <td>https://krakowwpigulce.pl/2020/03/18/platnosci...</td>\n",
       "      <td>[Płatności bez kodu PIN do 100 złotych już w t...</td>\n",
       "      <td>[Mastercard już w ten weekend podniesie limit ...</td>\n",
       "      <td>[Formalnie nowe regulacje wejdą w życie w nocy...</td>\n",
       "    </tr>\n",
       "    <tr>\n",
       "      <th>4</th>\n",
       "      <td>https://krakowwpigulce.pl/2020/03/18/lekarka-o...</td>\n",
       "      <td>[Lekarka objęta kwarantanną przyjmowała pacjen...</td>\n",
       "      <td>[Sprawa z woj. Śląskiego, niemniej bulwersując...</td>\n",
       "      <td>[Jako pierwszy sprawę opisał lokalny portal no...</td>\n",
       "    </tr>\n",
       "  </tbody>\n",
       "</table>\n",
       "</div>"
      ],
      "text/plain": [
       "                                                 url  \\\n",
       "0  https://krakowwpigulce.pl/2020/03/18/koronawir...   \n",
       "1  https://krakowwpigulce.pl/2020/03/18/zwolnil-w...   \n",
       "2  https://krakowwpigulce.pl/2020/03/17/koronawir...   \n",
       "3  https://krakowwpigulce.pl/2020/03/18/platnosci...   \n",
       "4  https://krakowwpigulce.pl/2020/03/18/lekarka-o...   \n",
       "\n",
       "                                               title  \\\n",
       "0  [Koronawirus w Polsce: 8 lat więzienia za prze...   \n",
       "1     [Zwolnił Wam internet? To przez… koronawirusa]   \n",
       "2  [Koronawirus: osoby z tą grupą krwi zarażają s...   \n",
       "3  [Płatności bez kodu PIN do 100 złotych już w t...   \n",
       "4  [Lekarka objęta kwarantanną przyjmowała pacjen...   \n",
       "\n",
       "                                                lead  \\\n",
       "0  [Ministerstwo Zdrowia ostrzegało, że osoby prz...   \n",
       "1  [Pandemia koronawirusa ma wpływ na wszystkie a...   \n",
       "2  [Zespół Chińskich naukowców kierowanych przez ...   \n",
       "3  [Mastercard już w ten weekend podniesie limit ...   \n",
       "4  [Sprawa z woj. Śląskiego, niemniej bulwersując...   \n",
       "\n",
       "                                                text  \n",
       "0  [W większości kwarantanna jest utrzymywana, al...  \n",
       "1  [SpeedTest.pl, serwis do testowania prędkości ...  \n",
       "2  [Badacze sprawdzili grupę krwi ponad 2 tys, pa...  \n",
       "3  [Formalnie nowe regulacje wejdą w życie w nocy...  \n",
       "4  [Jako pierwszy sprawę opisał lokalny portal no...  "
      ]
     },
     "metadata": {},
     "output_type": "display_data"
    },
    {
     "data": {
      "text/plain": [
       "'mamstartup'"
      ]
     },
     "metadata": {},
     "output_type": "display_data"
    },
    {
     "data": {
      "text/plain": [
       "91"
      ]
     },
     "metadata": {},
     "output_type": "display_data"
    },
    {
     "data": {
      "text/html": [
       "<div>\n",
       "<style scoped>\n",
       "    .dataframe tbody tr th:only-of-type {\n",
       "        vertical-align: middle;\n",
       "    }\n",
       "\n",
       "    .dataframe tbody tr th {\n",
       "        vertical-align: top;\n",
       "    }\n",
       "\n",
       "    .dataframe thead th {\n",
       "        text-align: right;\n",
       "    }\n",
       "</style>\n",
       "<table border=\"1\" class=\"dataframe\">\n",
       "  <thead>\n",
       "    <tr style=\"text-align: right;\">\n",
       "      <th></th>\n",
       "      <th>url</th>\n",
       "      <th>title</th>\n",
       "      <th>lead</th>\n",
       "      <th>text</th>\n",
       "      <th>text_list</th>\n",
       "    </tr>\n",
       "  </thead>\n",
       "  <tbody>\n",
       "    <tr>\n",
       "      <th>0</th>\n",
       "      <td>https://mamstartup.pl/jak-w-zwiazku-z-koronawi...</td>\n",
       "      <td>[Jak w związku z koronawirusem wdrożyliśmy pra...</td>\n",
       "      <td>[\\n                            Czasami musisz ...</td>\n",
       "      <td>[Do tej pory w 40-osobowym zespole TimeCamp ty...</td>\n",
       "      <td>[]</td>\n",
       "    </tr>\n",
       "    <tr>\n",
       "      <th>1</th>\n",
       "      <td>https://mamstartup.pl/jak-zwiekszyc-sprzedaz-d...</td>\n",
       "      <td>[Jak zwiększyć sprzedaż dzięki TikTok?, {{ pos...</td>\n",
       "      <td>[\\n                            Co trzeciemu uż...</td>\n",
       "      <td>[Pierwsze wydanie aplikacji TikTok (pod nazwą ...</td>\n",
       "      <td>[]</td>\n",
       "    </tr>\n",
       "    <tr>\n",
       "      <th>2</th>\n",
       "      <td>https://mamstartup.pl/ggpredict-zwyciezca-konk...</td>\n",
       "      <td>[GGPredict zwycięzcą konkursu ł.pitch Start-up...</td>\n",
       "      <td>[\\n                            GGPredict zosta...</td>\n",
       "      <td>[GGPredict to twórca aplikacji zwiększającej o...</td>\n",
       "      <td>[]</td>\n",
       "    </tr>\n",
       "    <tr>\n",
       "      <th>3</th>\n",
       "      <td>https://mamstartup.pl/polski-sensdx-pracuje-na...</td>\n",
       "      <td>[Polski SensDx pracuje nad testem do wykrywani...</td>\n",
       "      <td>[\\n                            Działający w Gd...</td>\n",
       "      <td>[Już udało się wyselekcjonować białka charakte...</td>\n",
       "      <td>[]</td>\n",
       "    </tr>\n",
       "    <tr>\n",
       "      <th>4</th>\n",
       "      <td>https://mamstartup.pl/zen-i-mastercard-przygot...</td>\n",
       "      <td>[ZEN i Mastercard przygotowują się do wprowadz...</td>\n",
       "      <td>[\\n                            ZEN, pierwszy p...</td>\n",
       "      <td>[Aktualnie ZEN opracowuje strategię marketingo...</td>\n",
       "      <td>[]</td>\n",
       "    </tr>\n",
       "  </tbody>\n",
       "</table>\n",
       "</div>"
      ],
      "text/plain": [
       "                                                 url  \\\n",
       "0  https://mamstartup.pl/jak-w-zwiazku-z-koronawi...   \n",
       "1  https://mamstartup.pl/jak-zwiekszyc-sprzedaz-d...   \n",
       "2  https://mamstartup.pl/ggpredict-zwyciezca-konk...   \n",
       "3  https://mamstartup.pl/polski-sensdx-pracuje-na...   \n",
       "4  https://mamstartup.pl/zen-i-mastercard-przygot...   \n",
       "\n",
       "                                               title  \\\n",
       "0  [Jak w związku z koronawirusem wdrożyliśmy pra...   \n",
       "1  [Jak zwiększyć sprzedaż dzięki TikTok?, {{ pos...   \n",
       "2  [GGPredict zwycięzcą konkursu ł.pitch Start-up...   \n",
       "3  [Polski SensDx pracuje nad testem do wykrywani...   \n",
       "4  [ZEN i Mastercard przygotowują się do wprowadz...   \n",
       "\n",
       "                                                lead  \\\n",
       "0  [\\n                            Czasami musisz ...   \n",
       "1  [\\n                            Co trzeciemu uż...   \n",
       "2  [\\n                            GGPredict zosta...   \n",
       "3  [\\n                            Działający w Gd...   \n",
       "4  [\\n                            ZEN, pierwszy p...   \n",
       "\n",
       "                                                text text_list  \n",
       "0  [Do tej pory w 40-osobowym zespole TimeCamp ty...        []  \n",
       "1  [Pierwsze wydanie aplikacji TikTok (pod nazwą ...        []  \n",
       "2  [GGPredict to twórca aplikacji zwiększającej o...        []  \n",
       "3  [Już udało się wyselekcjonować białka charakte...        []  \n",
       "4  [Aktualnie ZEN opracowuje strategię marketingo...        []  "
      ]
     },
     "metadata": {},
     "output_type": "display_data"
    },
    {
     "data": {
      "text/plain": [
       "'naszemiasto'"
      ]
     },
     "metadata": {},
     "output_type": "display_data"
    },
    {
     "data": {
      "text/plain": [
       "254"
      ]
     },
     "metadata": {},
     "output_type": "display_data"
    },
    {
     "data": {
      "text/html": [
       "<div>\n",
       "<style scoped>\n",
       "    .dataframe tbody tr th:only-of-type {\n",
       "        vertical-align: middle;\n",
       "    }\n",
       "\n",
       "    .dataframe tbody tr th {\n",
       "        vertical-align: top;\n",
       "    }\n",
       "\n",
       "    .dataframe thead th {\n",
       "        text-align: right;\n",
       "    }\n",
       "</style>\n",
       "<table border=\"1\" class=\"dataframe\">\n",
       "  <thead>\n",
       "    <tr style=\"text-align: right;\">\n",
       "      <th></th>\n",
       "      <th>url</th>\n",
       "      <th>title</th>\n",
       "      <th>lead</th>\n",
       "      <th>text</th>\n",
       "    </tr>\n",
       "  </thead>\n",
       "  <tbody>\n",
       "    <tr>\n",
       "      <th>0</th>\n",
       "      <td>https://poznan.naszemiasto.pl/koronawirus-w-po...</td>\n",
       "      <td>[Koronawirus w Poznaniu: 15. osoba zakażona w ...</td>\n",
       "      <td>[U kolejnej osoby w Wielkopolsce potwierdzono ...</td>\n",
       "      <td>[Zobacz też: , Poznaniacy urządzają pikniki na...</td>\n",
       "    </tr>\n",
       "    <tr>\n",
       "      <th>1</th>\n",
       "      <td>https://lodz.naszemiasto.pl/bezplatne-e-booki-...</td>\n",
       "      <td>[Bezpłatne e-booki dla czytelników Biblioteki ...</td>\n",
       "      <td>[Biblioteka Miejska w Łodzi uruchomiła usługę ...</td>\n",
       "      <td>[- Łodzianie mogą bezpłatnie skorzystać z wyku...</td>\n",
       "    </tr>\n",
       "    <tr>\n",
       "      <th>2</th>\n",
       "      <td>https://krakow.naszemiasto.pl/tak-pracownicy-p...</td>\n",
       "      <td>[Tak pracownicy pierwszej linii chronią się pr...</td>\n",
       "      <td>[Koronawirus w Polsce odbił się na każdej sfer...</td>\n",
       "      <td>[Mimo koronawirusa do pracy chodzą: lekarze, p...</td>\n",
       "    </tr>\n",
       "    <tr>\n",
       "      <th>3</th>\n",
       "      <td>https://lodz.naszemiasto.pl/krzysztof-zajas-ch...</td>\n",
       "      <td>[Krzysztof Zajas: \"Chciałem nadać policyjnej r...</td>\n",
       "      <td>[Z Krzysztofem Zajasem, autorem książki \"Skowy...</td>\n",
       "      <td>[Pochodzi Pan z Oświęcimia, następnie związał ...</td>\n",
       "    </tr>\n",
       "    <tr>\n",
       "      <th>4</th>\n",
       "      <td>https://wroclaw.naszemiasto.pl/grillowanie-we-...</td>\n",
       "      <td>[Grillowanie we Wrocławiu może dużo kosztować....</td>\n",
       "      <td>[Straż miejska będzie karała grillujących w mi...</td>\n",
       "      <td>[- Grillującym grozi 500 zł grzywny – potwierd...</td>\n",
       "    </tr>\n",
       "  </tbody>\n",
       "</table>\n",
       "</div>"
      ],
      "text/plain": [
       "                                                 url  \\\n",
       "0  https://poznan.naszemiasto.pl/koronawirus-w-po...   \n",
       "1  https://lodz.naszemiasto.pl/bezplatne-e-booki-...   \n",
       "2  https://krakow.naszemiasto.pl/tak-pracownicy-p...   \n",
       "3  https://lodz.naszemiasto.pl/krzysztof-zajas-ch...   \n",
       "4  https://wroclaw.naszemiasto.pl/grillowanie-we-...   \n",
       "\n",
       "                                               title  \\\n",
       "0  [Koronawirus w Poznaniu: 15. osoba zakażona w ...   \n",
       "1  [Bezpłatne e-booki dla czytelników Biblioteki ...   \n",
       "2  [Tak pracownicy pierwszej linii chronią się pr...   \n",
       "3  [Krzysztof Zajas: \"Chciałem nadać policyjnej r...   \n",
       "4  [Grillowanie we Wrocławiu może dużo kosztować....   \n",
       "\n",
       "                                                lead  \\\n",
       "0  [U kolejnej osoby w Wielkopolsce potwierdzono ...   \n",
       "1  [Biblioteka Miejska w Łodzi uruchomiła usługę ...   \n",
       "2  [Koronawirus w Polsce odbił się na każdej sfer...   \n",
       "3  [Z Krzysztofem Zajasem, autorem książki \"Skowy...   \n",
       "4  [Straż miejska będzie karała grillujących w mi...   \n",
       "\n",
       "                                                text  \n",
       "0  [Zobacz też: , Poznaniacy urządzają pikniki na...  \n",
       "1  [- Łodzianie mogą bezpłatnie skorzystać z wyku...  \n",
       "2  [Mimo koronawirusa do pracy chodzą: lekarze, p...  \n",
       "3  [Pochodzi Pan z Oświęcimia, następnie związał ...  \n",
       "4  [- Grillującym grozi 500 zł grzywny – potwierd...  "
      ]
     },
     "metadata": {},
     "output_type": "display_data"
    },
    {
     "data": {
      "text/plain": [
       "'nowiny24'"
      ]
     },
     "metadata": {},
     "output_type": "display_data"
    },
    {
     "data": {
      "text/plain": [
       "51665"
      ]
     },
     "metadata": {},
     "output_type": "display_data"
    },
    {
     "data": {
      "text/html": [
       "<div>\n",
       "<style scoped>\n",
       "    .dataframe tbody tr th:only-of-type {\n",
       "        vertical-align: middle;\n",
       "    }\n",
       "\n",
       "    .dataframe tbody tr th {\n",
       "        vertical-align: top;\n",
       "    }\n",
       "\n",
       "    .dataframe thead th {\n",
       "        text-align: right;\n",
       "    }\n",
       "</style>\n",
       "<table border=\"1\" class=\"dataframe\">\n",
       "  <thead>\n",
       "    <tr style=\"text-align: right;\">\n",
       "      <th></th>\n",
       "      <th>url</th>\n",
       "      <th>title</th>\n",
       "      <th>lead</th>\n",
       "      <th>text</th>\n",
       "    </tr>\n",
       "  </thead>\n",
       "  <tbody>\n",
       "    <tr>\n",
       "      <th>0</th>\n",
       "      <td>https://nowiny24.pl/ministerstwo-zdrowia-poinf...</td>\n",
       "      <td>[Ministerstwo zdrowia poinformowało o kolejnym...</td>\n",
       "      <td>[W piątek po godz. 16 Ministerstwo Zdrowia poi...</td>\n",
       "      <td>[Wśród zakażonych w naszym regionie zmarło dwi...</td>\n",
       "    </tr>\n",
       "    <tr>\n",
       "      <th>1</th>\n",
       "      <td>https://nowiny24.pl/plyn-do-podlog-zamiast-sro...</td>\n",
       "      <td>[Płyn do podłóg zamiast środków wirusobójczych...</td>\n",
       "      <td>[Do redakcji Nowin zadzwoniła mieszkanka Rzesz...</td>\n",
       "      <td>[- Problem jest taki, że w tych trudnych czasa...</td>\n",
       "    </tr>\n",
       "    <tr>\n",
       "      <th>2</th>\n",
       "      <td>https://nowiny24.pl/19letni-kierowca-bmw-uciek...</td>\n",
       "      <td>[19-letni kierowca BMW uciekał przed policją w...</td>\n",
       "      <td>[Policjanci prowadzili pościg za kierowcą BMW,...</td>\n",
       "      <td>[Funkcjonariusze rzeszowskiego oddziału prewen...</td>\n",
       "    </tr>\n",
       "    <tr>\n",
       "      <th>3</th>\n",
       "      <td>https://nowiny24.pl/w-mielcu-pijany-60latek-gr...</td>\n",
       "      <td>[W Mielcu pijany 60-latek groził ekspedientkom...</td>\n",
       "      <td>[Pijany 60-latek chciał kupić alkohol w sklepi...</td>\n",
       "      <td>[W środę przed godz. 19, do sklepu przy al. Du...</td>\n",
       "    </tr>\n",
       "    <tr>\n",
       "      <th>4</th>\n",
       "      <td>https://nowiny24.pl/jacht-rzeszowiak-plynie-w-...</td>\n",
       "      <td>[Jacht „Rzeszowiak” płynie w tym roku na Horn ...</td>\n",
       "      <td>[Decyzja zapadła – w tym roku jacht \"Rzeszowia...</td>\n",
       "      <td>[- Taka wyprawa to spore wyzwanie – mów kapita...</td>\n",
       "    </tr>\n",
       "  </tbody>\n",
       "</table>\n",
       "</div>"
      ],
      "text/plain": [
       "                                                 url  \\\n",
       "0  https://nowiny24.pl/ministerstwo-zdrowia-poinf...   \n",
       "1  https://nowiny24.pl/plyn-do-podlog-zamiast-sro...   \n",
       "2  https://nowiny24.pl/19letni-kierowca-bmw-uciek...   \n",
       "3  https://nowiny24.pl/w-mielcu-pijany-60latek-gr...   \n",
       "4  https://nowiny24.pl/jacht-rzeszowiak-plynie-w-...   \n",
       "\n",
       "                                               title  \\\n",
       "0  [Ministerstwo zdrowia poinformowało o kolejnym...   \n",
       "1  [Płyn do podłóg zamiast środków wirusobójczych...   \n",
       "2  [19-letni kierowca BMW uciekał przed policją w...   \n",
       "3  [W Mielcu pijany 60-latek groził ekspedientkom...   \n",
       "4  [Jacht „Rzeszowiak” płynie w tym roku na Horn ...   \n",
       "\n",
       "                                                lead  \\\n",
       "0  [W piątek po godz. 16 Ministerstwo Zdrowia poi...   \n",
       "1  [Do redakcji Nowin zadzwoniła mieszkanka Rzesz...   \n",
       "2  [Policjanci prowadzili pościg za kierowcą BMW,...   \n",
       "3  [Pijany 60-latek chciał kupić alkohol w sklepi...   \n",
       "4  [Decyzja zapadła – w tym roku jacht \"Rzeszowia...   \n",
       "\n",
       "                                                text  \n",
       "0  [Wśród zakażonych w naszym regionie zmarło dwi...  \n",
       "1  [- Problem jest taki, że w tych trudnych czasa...  \n",
       "2  [Funkcjonariusze rzeszowskiego oddziału prewen...  \n",
       "3  [W środę przed godz. 19, do sklepu przy al. Du...  \n",
       "4  [- Taka wyprawa to spore wyzwanie – mów kapita...  "
      ]
     },
     "metadata": {},
     "output_type": "display_data"
    },
    {
     "data": {
      "text/plain": [
       "'nowymarketing'"
      ]
     },
     "metadata": {},
     "output_type": "display_data"
    },
    {
     "data": {
      "text/plain": [
       "2381"
      ]
     },
     "metadata": {},
     "output_type": "display_data"
    },
    {
     "data": {
      "text/html": [
       "<div>\n",
       "<style scoped>\n",
       "    .dataframe tbody tr th:only-of-type {\n",
       "        vertical-align: middle;\n",
       "    }\n",
       "\n",
       "    .dataframe tbody tr th {\n",
       "        vertical-align: top;\n",
       "    }\n",
       "\n",
       "    .dataframe thead th {\n",
       "        text-align: right;\n",
       "    }\n",
       "</style>\n",
       "<table border=\"1\" class=\"dataframe\">\n",
       "  <thead>\n",
       "    <tr style=\"text-align: right;\">\n",
       "      <th></th>\n",
       "      <th>url</th>\n",
       "      <th>title</th>\n",
       "      <th>lead</th>\n",
       "      <th>text</th>\n",
       "    </tr>\n",
       "  </thead>\n",
       "  <tbody>\n",
       "    <tr>\n",
       "      <th>0</th>\n",
       "      <td>https://nowymarketing.pl/a/25483,koronamarketi...</td>\n",
       "      <td>[Koronamarketing, czyli jak marki radzą sobie ...</td>\n",
       "      <td>[W okresie kwarantanny kluczowym zadaniem mark...</td>\n",
       "      <td>[&lt;p&gt;Czy przypominacie sobie podobną sytuację, ...</td>\n",
       "    </tr>\n",
       "    <tr>\n",
       "      <th>1</th>\n",
       "      <td>https://nowymarketing.pl/a/25462,jak-koronawir...</td>\n",
       "      <td>[Jak koronawirus wpływa na branżę reklamową? –...</td>\n",
       "      <td>[Jak pokazuje najnowszy raport MediaCom istotn...</td>\n",
       "      <td>[&lt;p class=\"small\"&gt;&lt;a href=\"https://nowymarketi...</td>\n",
       "    </tr>\n",
       "    <tr>\n",
       "      <th>2</th>\n",
       "      <td>https://nowymarketing.pl/a/25460,akcja-swiatec...</td>\n",
       "      <td>[Akcja świąteczna #SzaryEkran [case study]]</td>\n",
       "      <td>[6 milionów zaangażowanych odbiorców, najwięks...</td>\n",
       "      <td>[&lt;p&gt;...zmieniając kolor ekranu na szary. &lt;/p&gt;,...</td>\n",
       "    </tr>\n",
       "    <tr>\n",
       "      <th>3</th>\n",
       "      <td>https://nowymarketing.pl/a/25470,the-uncensore...</td>\n",
       "      <td>[The Uncensored Library: W grze Minecraft poja...</td>\n",
       "      <td>[Międzynarodowa organizacja Reporters Without ...</td>\n",
       "      <td>[&lt;p&gt;Z okazji tegorocznego światowego dnia prze...</td>\n",
       "    </tr>\n",
       "    <tr>\n",
       "      <th>4</th>\n",
       "      <td>https://nowymarketing.pl/a/25463,volvo-stworzy...</td>\n",
       "      <td>[Volvo stworzyło billboard, który oczyszcza po...</td>\n",
       "      <td>[Portugalski oddział Volvo zainstalował w Port...</td>\n",
       "      <td>[&lt;p&gt;Codziennie spotykamy na ulicach setki bill...</td>\n",
       "    </tr>\n",
       "  </tbody>\n",
       "</table>\n",
       "</div>"
      ],
      "text/plain": [
       "                                                 url  \\\n",
       "0  https://nowymarketing.pl/a/25483,koronamarketi...   \n",
       "1  https://nowymarketing.pl/a/25462,jak-koronawir...   \n",
       "2  https://nowymarketing.pl/a/25460,akcja-swiatec...   \n",
       "3  https://nowymarketing.pl/a/25470,the-uncensore...   \n",
       "4  https://nowymarketing.pl/a/25463,volvo-stworzy...   \n",
       "\n",
       "                                               title  \\\n",
       "0  [Koronamarketing, czyli jak marki radzą sobie ...   \n",
       "1  [Jak koronawirus wpływa na branżę reklamową? –...   \n",
       "2        [Akcja świąteczna #SzaryEkran [case study]]   \n",
       "3  [The Uncensored Library: W grze Minecraft poja...   \n",
       "4  [Volvo stworzyło billboard, który oczyszcza po...   \n",
       "\n",
       "                                                lead  \\\n",
       "0  [W okresie kwarantanny kluczowym zadaniem mark...   \n",
       "1  [Jak pokazuje najnowszy raport MediaCom istotn...   \n",
       "2  [6 milionów zaangażowanych odbiorców, najwięks...   \n",
       "3  [Międzynarodowa organizacja Reporters Without ...   \n",
       "4  [Portugalski oddział Volvo zainstalował w Port...   \n",
       "\n",
       "                                                text  \n",
       "0  [<p>Czy przypominacie sobie podobną sytuację, ...  \n",
       "1  [<p class=\"small\"><a href=\"https://nowymarketi...  \n",
       "2  [<p>...zmieniając kolor ekranu na szary. </p>,...  \n",
       "3  [<p>Z okazji tegorocznego światowego dnia prze...  \n",
       "4  [<p>Codziennie spotykamy na ulicach setki bill...  "
      ]
     },
     "metadata": {},
     "output_type": "display_data"
    },
    {
     "data": {
      "text/plain": [
       "'polki'"
      ]
     },
     "metadata": {},
     "output_type": "display_data"
    },
    {
     "data": {
      "text/plain": [
       "14611"
      ]
     },
     "metadata": {},
     "output_type": "display_data"
    },
    {
     "data": {
      "text/html": [
       "<div>\n",
       "<style scoped>\n",
       "    .dataframe tbody tr th:only-of-type {\n",
       "        vertical-align: middle;\n",
       "    }\n",
       "\n",
       "    .dataframe tbody tr th {\n",
       "        vertical-align: top;\n",
       "    }\n",
       "\n",
       "    .dataframe thead th {\n",
       "        text-align: right;\n",
       "    }\n",
       "</style>\n",
       "<table border=\"1\" class=\"dataframe\">\n",
       "  <thead>\n",
       "    <tr style=\"text-align: right;\">\n",
       "      <th></th>\n",
       "      <th>url</th>\n",
       "      <th>title</th>\n",
       "      <th>lead</th>\n",
       "      <th>text</th>\n",
       "    </tr>\n",
       "  </thead>\n",
       "  <tbody>\n",
       "    <tr>\n",
       "      <th>0</th>\n",
       "      <td>https://polki.pl/zdrowie/choroby,ibuprofen-vs-...</td>\n",
       "      <td>[Ibuprofen vs paracetamol – dlaczego jednego z...</td>\n",
       "      <td>[Nie bierz ibuprofenu, gdy podejrzewasz u sieb...</td>\n",
       "      <td>[\\n, Spis treści:, \\n, Światowa Organizacja Zd...</td>\n",
       "    </tr>\n",
       "    <tr>\n",
       "      <th>1</th>\n",
       "      <td>https://polki.pl/zdrowie/choroby,koronawirus-c...</td>\n",
       "      <td>[Co dziś wiemy o pracach nad szczepionką na ko...</td>\n",
       "      <td>[Naukowcy z Kanady wyizolowali wirusa SARS-CoV...</td>\n",
       "      <td>[\\n, Koronawirus dotarł do ponad 60 krajów i z...</td>\n",
       "    </tr>\n",
       "    <tr>\n",
       "      <th>2</th>\n",
       "      <td>https://polki.pl/zdrowie/choroby,szczepionka-j...</td>\n",
       "      <td>[Szczepionka na koronawirusa - jak jest testow...</td>\n",
       "      <td>[Pandemia koronawirusa wymusza na naukowcach p...</td>\n",
       "      <td>[&lt;h2&gt;\\nJak wygląda praca nad szczepionkami?&lt;/h...</td>\n",
       "    </tr>\n",
       "    <tr>\n",
       "      <th>3</th>\n",
       "      <td>https://polki.pl/zdrowie/choroby,20-waznych-py...</td>\n",
       "      <td>[20 ważnych pytań o koronawirusa. Te rzeczy tr...</td>\n",
       "      <td>[Czy można zachorować dwa razy? Jakie leki są ...</td>\n",
       "      <td>[\\nOsób zarażonych koronawirusem jest w Polsce...</td>\n",
       "    </tr>\n",
       "    <tr>\n",
       "      <th>4</th>\n",
       "      <td>https://polki.pl/zdrowie/choroby,jak-chronic-o...</td>\n",
       "      <td>[Jak chronić osoby starsze przed koronawirusem...</td>\n",
       "      <td>[Immunolodzy ostrzegają, że wirus SARS-CoV-2 j...</td>\n",
       "      <td>[\\nEksperci nadal nie znają odpowiedzi na wiel...</td>\n",
       "    </tr>\n",
       "  </tbody>\n",
       "</table>\n",
       "</div>"
      ],
      "text/plain": [
       "                                                 url  \\\n",
       "0  https://polki.pl/zdrowie/choroby,ibuprofen-vs-...   \n",
       "1  https://polki.pl/zdrowie/choroby,koronawirus-c...   \n",
       "2  https://polki.pl/zdrowie/choroby,szczepionka-j...   \n",
       "3  https://polki.pl/zdrowie/choroby,20-waznych-py...   \n",
       "4  https://polki.pl/zdrowie/choroby,jak-chronic-o...   \n",
       "\n",
       "                                               title  \\\n",
       "0  [Ibuprofen vs paracetamol – dlaczego jednego z...   \n",
       "1  [Co dziś wiemy o pracach nad szczepionką na ko...   \n",
       "2  [Szczepionka na koronawirusa - jak jest testow...   \n",
       "3  [20 ważnych pytań o koronawirusa. Te rzeczy tr...   \n",
       "4  [Jak chronić osoby starsze przed koronawirusem...   \n",
       "\n",
       "                                                lead  \\\n",
       "0  [Nie bierz ibuprofenu, gdy podejrzewasz u sieb...   \n",
       "1  [Naukowcy z Kanady wyizolowali wirusa SARS-CoV...   \n",
       "2  [Pandemia koronawirusa wymusza na naukowcach p...   \n",
       "3  [Czy można zachorować dwa razy? Jakie leki są ...   \n",
       "4  [Immunolodzy ostrzegają, że wirus SARS-CoV-2 j...   \n",
       "\n",
       "                                                text  \n",
       "0  [\\n, Spis treści:, \\n, Światowa Organizacja Zd...  \n",
       "1  [\\n, Koronawirus dotarł do ponad 60 krajów i z...  \n",
       "2  [<h2>\\nJak wygląda praca nad szczepionkami?</h...  \n",
       "3  [\\nOsób zarażonych koronawirusem jest w Polsce...  \n",
       "4  [\\nEksperci nadal nie znają odpowiedzi na wiel...  "
      ]
     },
     "metadata": {},
     "output_type": "display_data"
    },
    {
     "data": {
      "text/plain": [
       "'spidersweb'"
      ]
     },
     "metadata": {},
     "output_type": "display_data"
    },
    {
     "data": {
      "text/plain": [
       "27214"
      ]
     },
     "metadata": {},
     "output_type": "display_data"
    },
    {
     "data": {
      "text/html": [
       "<div>\n",
       "<style scoped>\n",
       "    .dataframe tbody tr th:only-of-type {\n",
       "        vertical-align: middle;\n",
       "    }\n",
       "\n",
       "    .dataframe tbody tr th {\n",
       "        vertical-align: top;\n",
       "    }\n",
       "\n",
       "    .dataframe thead th {\n",
       "        text-align: right;\n",
       "    }\n",
       "</style>\n",
       "<table border=\"1\" class=\"dataframe\">\n",
       "  <thead>\n",
       "    <tr style=\"text-align: right;\">\n",
       "      <th></th>\n",
       "      <th>url</th>\n",
       "      <th>title</th>\n",
       "      <th>lead</th>\n",
       "      <th>text</th>\n",
       "    </tr>\n",
       "  </thead>\n",
       "  <tbody>\n",
       "    <tr>\n",
       "      <th>0</th>\n",
       "      <td>https://www.spidersweb.pl/2020/03/koronawirus-...</td>\n",
       "      <td>&lt;h1 class=\"white\"&gt;Wielka Brytania i Szwecja le...</td>\n",
       "      <td>[Epidemia spowodowana koronawirusem potrwa w W...</td>\n",
       "      <td>[&lt;p&gt;&lt;strong&gt;Epidemia spowodowana koronawirusem...</td>\n",
       "    </tr>\n",
       "    <tr>\n",
       "      <th>1</th>\n",
       "      <td>https://spidersweb.pl/bizblog/gotowka-podatek-...</td>\n",
       "      <td>&lt;h1 class=\"b-post__title\"&gt;\\nKoronawirus do spó...</td>\n",
       "      <td>[Polacy już dawno zapomnieli o wywieszkach w s...</td>\n",
       "      <td>[&lt;p&gt;&lt;strong&gt;Polacy już dawno zapomnieli o wywi...</td>\n",
       "    </tr>\n",
       "    <tr>\n",
       "      <th>2</th>\n",
       "      <td>https://www.spidersweb.pl/2020/03/koronawirus-...</td>\n",
       "      <td>&lt;h1 class=\"white\"&gt;Idzie kryzys tak ogromny, ja...</td>\n",
       "      <td>[Nie pamiętam. Nie pamiętam takich czasów, mim...</td>\n",
       "      <td>[&lt;p&gt;&lt;strong&gt;Nie pamiętam. Nie pamiętam takich ...</td>\n",
       "    </tr>\n",
       "    <tr>\n",
       "      <th>3</th>\n",
       "      <td>https://www.spidersweb.pl/2020/03/koronawirus-...</td>\n",
       "      <td>&lt;h1 class=\"white\"&gt;#HomeOffice: Koronawirus zam...</td>\n",
       "      <td>[Pandemia koronawirusa to dla wielu koniecznoś...</td>\n",
       "      <td>[&lt;p&gt;&lt;strong&gt;Pandemia koronawirusa to dla wielu...</td>\n",
       "    </tr>\n",
       "    <tr>\n",
       "      <th>4</th>\n",
       "      <td>https://www.spidersweb.pl/2020/03/platnosci-be...</td>\n",
       "      <td>&lt;h1 class=\"white\"&gt;Sprzedawca wprowadza PIN za ...</td>\n",
       "      <td>[Brudna mamona jest siedliskiem bakterii i wir...</td>\n",
       "      <td>[&lt;p&gt;&lt;strong&gt;Brudna mamona jest siedliskiem bak...</td>\n",
       "    </tr>\n",
       "  </tbody>\n",
       "</table>\n",
       "</div>"
      ],
      "text/plain": [
       "                                                 url  \\\n",
       "0  https://www.spidersweb.pl/2020/03/koronawirus-...   \n",
       "1  https://spidersweb.pl/bizblog/gotowka-podatek-...   \n",
       "2  https://www.spidersweb.pl/2020/03/koronawirus-...   \n",
       "3  https://www.spidersweb.pl/2020/03/koronawirus-...   \n",
       "4  https://www.spidersweb.pl/2020/03/platnosci-be...   \n",
       "\n",
       "                                               title  \\\n",
       "0  <h1 class=\"white\">Wielka Brytania i Szwecja le...   \n",
       "1  <h1 class=\"b-post__title\">\\nKoronawirus do spó...   \n",
       "2  <h1 class=\"white\">Idzie kryzys tak ogromny, ja...   \n",
       "3  <h1 class=\"white\">#HomeOffice: Koronawirus zam...   \n",
       "4  <h1 class=\"white\">Sprzedawca wprowadza PIN za ...   \n",
       "\n",
       "                                                lead  \\\n",
       "0  [Epidemia spowodowana koronawirusem potrwa w W...   \n",
       "1  [Polacy już dawno zapomnieli o wywieszkach w s...   \n",
       "2  [Nie pamiętam. Nie pamiętam takich czasów, mim...   \n",
       "3  [Pandemia koronawirusa to dla wielu koniecznoś...   \n",
       "4  [Brudna mamona jest siedliskiem bakterii i wir...   \n",
       "\n",
       "                                                text  \n",
       "0  [<p><strong>Epidemia spowodowana koronawirusem...  \n",
       "1  [<p><strong>Polacy już dawno zapomnieli o wywi...  \n",
       "2  [<p><strong>Nie pamiętam. Nie pamiętam takich ...  \n",
       "3  [<p><strong>Pandemia koronawirusa to dla wielu...  \n",
       "4  [<p><strong>Brudna mamona jest siedliskiem bak...  "
      ]
     },
     "metadata": {},
     "output_type": "display_data"
    },
    {
     "data": {
      "text/plain": [
       "'sport'"
      ]
     },
     "metadata": {},
     "output_type": "display_data"
    },
    {
     "data": {
      "text/plain": [
       "71101"
      ]
     },
     "metadata": {},
     "output_type": "display_data"
    },
    {
     "data": {
      "text/html": [
       "<div>\n",
       "<style scoped>\n",
       "    .dataframe tbody tr th:only-of-type {\n",
       "        vertical-align: middle;\n",
       "    }\n",
       "\n",
       "    .dataframe tbody tr th {\n",
       "        vertical-align: top;\n",
       "    }\n",
       "\n",
       "    .dataframe thead th {\n",
       "        text-align: right;\n",
       "    }\n",
       "</style>\n",
       "<table border=\"1\" class=\"dataframe\">\n",
       "  <thead>\n",
       "    <tr style=\"text-align: right;\">\n",
       "      <th></th>\n",
       "      <th>url</th>\n",
       "      <th>title</th>\n",
       "      <th>lead</th>\n",
       "      <th>text</th>\n",
       "    </tr>\n",
       "  </thead>\n",
       "  <tbody>\n",
       "    <tr>\n",
       "      <th>0</th>\n",
       "      <td>https://www.sport.pl/pilka/7,64946,25802268,to...</td>\n",
       "      <td>[\\n    \\n        Tomasz Hajto pożyczył 200 tys...</td>\n",
       "      <td>[Jak udało nam się ustalić, Rafał Kosiec pożyc...</td>\n",
       "      <td>[Ponad 200 tysięcy złotych - tyle według naszy...</td>\n",
       "    </tr>\n",
       "    <tr>\n",
       "      <th>1</th>\n",
       "      <td>https://www.sport.pl/pilka/7,65041,25727002,cu...</td>\n",
       "      <td>[\\n    \\n        Słowa tabu w Bayernie. \"Skoro...</td>\n",
       "      <td>[We wtorek Chelsea zagra z Bayernem Monachium ...</td>\n",
       "      <td>[Zaraz po tym, jak , Bayern Monachium,  wyloso...</td>\n",
       "    </tr>\n",
       "    <tr>\n",
       "      <th>2</th>\n",
       "      <td>https://www.sport.pl/pilka/7,65041,25731646,le...</td>\n",
       "      <td>[\\n    \\n        Lewandowski wskazywał bohater...</td>\n",
       "      <td>[Najpierw Robert Lewandowski nie wykorzystał d...</td>\n",
       "      <td>[Od początku było widać, że dla Lewandowskiego...</td>\n",
       "    </tr>\n",
       "    <tr>\n",
       "      <th>3</th>\n",
       "      <td>https://www.sport.pl/pilka/7,65041,25732068,fe...</td>\n",
       "      <td>[\\n    \\n        Fenomen, piłkarska wersja Bol...</td>\n",
       "      <td>[Jak na najlepszy wynalazek przystało, Alphons...</td>\n",
       "      <td>[Wtorkowy mecz był dla , Alphonso Davisa,  wyj...</td>\n",
       "    </tr>\n",
       "    <tr>\n",
       "      <th>4</th>\n",
       "      <td>https://www.sport.pl/pilka/7,65041,25731783,le...</td>\n",
       "      <td>[\\n    \\n        \"Lewandowski jest bliżej Złot...</td>\n",
       "      <td>[Robert Lewandowski był kluczowym piłkarzem me...</td>\n",
       "      <td>[Bayern Monachium pokonał na wyjeździe Chelsea...</td>\n",
       "    </tr>\n",
       "  </tbody>\n",
       "</table>\n",
       "</div>"
      ],
      "text/plain": [
       "                                                 url  \\\n",
       "0  https://www.sport.pl/pilka/7,64946,25802268,to...   \n",
       "1  https://www.sport.pl/pilka/7,65041,25727002,cu...   \n",
       "2  https://www.sport.pl/pilka/7,65041,25731646,le...   \n",
       "3  https://www.sport.pl/pilka/7,65041,25732068,fe...   \n",
       "4  https://www.sport.pl/pilka/7,65041,25731783,le...   \n",
       "\n",
       "                                               title  \\\n",
       "0  [\\n    \\n        Tomasz Hajto pożyczył 200 tys...   \n",
       "1  [\\n    \\n        Słowa tabu w Bayernie. \"Skoro...   \n",
       "2  [\\n    \\n        Lewandowski wskazywał bohater...   \n",
       "3  [\\n    \\n        Fenomen, piłkarska wersja Bol...   \n",
       "4  [\\n    \\n        \"Lewandowski jest bliżej Złot...   \n",
       "\n",
       "                                                lead  \\\n",
       "0  [Jak udało nam się ustalić, Rafał Kosiec pożyc...   \n",
       "1  [We wtorek Chelsea zagra z Bayernem Monachium ...   \n",
       "2  [Najpierw Robert Lewandowski nie wykorzystał d...   \n",
       "3  [Jak na najlepszy wynalazek przystało, Alphons...   \n",
       "4  [Robert Lewandowski był kluczowym piłkarzem me...   \n",
       "\n",
       "                                                text  \n",
       "0  [Ponad 200 tysięcy złotych - tyle według naszy...  \n",
       "1  [Zaraz po tym, jak , Bayern Monachium,  wyloso...  \n",
       "2  [Od początku było widać, że dla Lewandowskiego...  \n",
       "3  [Wtorkowy mecz był dla , Alphonso Davisa,  wyj...  \n",
       "4  [Bayern Monachium pokonał na wyjeździe Chelsea...  "
      ]
     },
     "metadata": {},
     "output_type": "display_data"
    },
    {
     "data": {
      "text/plain": [
       "'strefainwestorow'"
      ]
     },
     "metadata": {},
     "output_type": "display_data"
    },
    {
     "data": {
      "text/plain": [
       "3171"
      ]
     },
     "metadata": {},
     "output_type": "display_data"
    },
    {
     "data": {
      "text/html": [
       "<div>\n",
       "<style scoped>\n",
       "    .dataframe tbody tr th:only-of-type {\n",
       "        vertical-align: middle;\n",
       "    }\n",
       "\n",
       "    .dataframe tbody tr th {\n",
       "        vertical-align: top;\n",
       "    }\n",
       "\n",
       "    .dataframe thead th {\n",
       "        text-align: right;\n",
       "    }\n",
       "</style>\n",
       "<table border=\"1\" class=\"dataframe\">\n",
       "  <thead>\n",
       "    <tr style=\"text-align: right;\">\n",
       "      <th></th>\n",
       "      <th>url</th>\n",
       "      <th>title</th>\n",
       "      <th>lead</th>\n",
       "      <th>text</th>\n",
       "    </tr>\n",
       "  </thead>\n",
       "  <tbody>\n",
       "    <tr>\n",
       "      <th>0</th>\n",
       "      <td>https://strefainwestorow.pl/artykuly/gielda-us...</td>\n",
       "      <td>[Apple zamyka wszystkie sklepy poza Chinami ab...</td>\n",
       "      <td>[Apple poinformowało, że zamyka wszystkie swoj...</td>\n",
       "      <td>[Apple poinformowało, że zamyka wszystkie swoj...</td>\n",
       "    </tr>\n",
       "    <tr>\n",
       "      <th>1</th>\n",
       "      <td>https://strefainwestorow.pl/artykuly/ludzie/20...</td>\n",
       "      <td>[Czy kobiety interesują się rynkiem kapitałowy...</td>\n",
       "      <td>[Na rynku kapitałowym dominuje płeć męska. A i...</td>\n",
       "      <td>[Na rynku kapitałowym dominuje płeć męska. A i...</td>\n",
       "    </tr>\n",
       "    <tr>\n",
       "      <th>2</th>\n",
       "      <td>https://strefainwestorow.pl/artykuly/fundusze-...</td>\n",
       "      <td>[Wyniki funduszy inwestycyjnych quant w USA ro...</td>\n",
       "      <td>[Fundusze oparte na zautomatyzowanych strategi...</td>\n",
       "      <td>[Fundusze oparte na zautomatyzowanych strategi...</td>\n",
       "    </tr>\n",
       "    <tr>\n",
       "      <th>3</th>\n",
       "      <td>https://strefainwestorow.pl/artykuly/dywidendy...</td>\n",
       "      <td>[Wzrost dywidendy z 1 zł do 24 zł w 18 lat - p...</td>\n",
       "      <td>[Grupa Kęty jest jedną z najdłużej notowanych ...</td>\n",
       "      <td>[Grupa Kęty jest jedną z najdłużej notowanych ...</td>\n",
       "    </tr>\n",
       "    <tr>\n",
       "      <th>4</th>\n",
       "      <td>https://strefainwestorow.pl/artykuly/prawo/202...</td>\n",
       "      <td>[Rząd mobilizuje siły przeciw koronawirusowi. ...</td>\n",
       "      <td>[Od 8 marca obowiązuje ustawa wprowadzająca sz...</td>\n",
       "      <td>[Od 8 marca obowiązuje ustawa wprowadzająca sz...</td>\n",
       "    </tr>\n",
       "  </tbody>\n",
       "</table>\n",
       "</div>"
      ],
      "text/plain": [
       "                                                 url  \\\n",
       "0  https://strefainwestorow.pl/artykuly/gielda-us...   \n",
       "1  https://strefainwestorow.pl/artykuly/ludzie/20...   \n",
       "2  https://strefainwestorow.pl/artykuly/fundusze-...   \n",
       "3  https://strefainwestorow.pl/artykuly/dywidendy...   \n",
       "4  https://strefainwestorow.pl/artykuly/prawo/202...   \n",
       "\n",
       "                                               title  \\\n",
       "0  [Apple zamyka wszystkie sklepy poza Chinami ab...   \n",
       "1  [Czy kobiety interesują się rynkiem kapitałowy...   \n",
       "2  [Wyniki funduszy inwestycyjnych quant w USA ro...   \n",
       "3  [Wzrost dywidendy z 1 zł do 24 zł w 18 lat - p...   \n",
       "4  [Rząd mobilizuje siły przeciw koronawirusowi. ...   \n",
       "\n",
       "                                                lead  \\\n",
       "0  [Apple poinformowało, że zamyka wszystkie swoj...   \n",
       "1  [Na rynku kapitałowym dominuje płeć męska. A i...   \n",
       "2  [Fundusze oparte na zautomatyzowanych strategi...   \n",
       "3  [Grupa Kęty jest jedną z najdłużej notowanych ...   \n",
       "4  [Od 8 marca obowiązuje ustawa wprowadzająca sz...   \n",
       "\n",
       "                                                text  \n",
       "0  [Apple poinformowało, że zamyka wszystkie swoj...  \n",
       "1  [Na rynku kapitałowym dominuje płeć męska. A i...  \n",
       "2  [Fundusze oparte na zautomatyzowanych strategi...  \n",
       "3  [Grupa Kęty jest jedną z najdłużej notowanych ...  \n",
       "4  [Od 8 marca obowiązuje ustawa wprowadzająca sz...  "
      ]
     },
     "metadata": {},
     "output_type": "display_data"
    },
    {
     "data": {
      "text/plain": [
       "'sztukaarchitektury'"
      ]
     },
     "metadata": {},
     "output_type": "display_data"
    },
    {
     "data": {
      "text/plain": [
       "1027"
      ]
     },
     "metadata": {},
     "output_type": "display_data"
    },
    {
     "data": {
      "text/html": [
       "<div>\n",
       "<style scoped>\n",
       "    .dataframe tbody tr th:only-of-type {\n",
       "        vertical-align: middle;\n",
       "    }\n",
       "\n",
       "    .dataframe tbody tr th {\n",
       "        vertical-align: top;\n",
       "    }\n",
       "\n",
       "    .dataframe thead th {\n",
       "        text-align: right;\n",
       "    }\n",
       "</style>\n",
       "<table border=\"1\" class=\"dataframe\">\n",
       "  <thead>\n",
       "    <tr style=\"text-align: right;\">\n",
       "      <th></th>\n",
       "      <th>url</th>\n",
       "      <th>title</th>\n",
       "      <th>lead</th>\n",
       "      <th>text</th>\n",
       "    </tr>\n",
       "  </thead>\n",
       "  <tbody>\n",
       "    <tr>\n",
       "      <th>0</th>\n",
       "      <td>https://sztuka-architektury.pl/article/13529/v...</td>\n",
       "      <td>[Vittorio Gregotti ofiarą epidemii]</td>\n",
       "      <td>[Vittorio Gregotti urodził się w 1927 roku w p...</td>\n",
       "      <td>[&lt;p&gt; &lt;/p&gt;, &lt;p&gt;Vittorio Gregotti był czynnym ar...</td>\n",
       "    </tr>\n",
       "    <tr>\n",
       "      <th>1</th>\n",
       "      <td>https://sztuka-architektury.pl/article/13434/s...</td>\n",
       "      <td>[Serpentine Pavilion – znamy projekt budynku]</td>\n",
       "      <td>[Serpentine Pavilion ma już swoje stałe miejsc...</td>\n",
       "      <td>[&lt;p&gt; &lt;/p&gt;, &lt;p&gt;Początkowo do współpracy przy tw...</td>\n",
       "    </tr>\n",
       "    <tr>\n",
       "      <th>2</th>\n",
       "      <td>https://sztuka-architektury.pl/article/13444/o...</td>\n",
       "      <td>[Organiczny dom jednorodzinny]</td>\n",
       "      <td>[Projekt architektoniczny tego domu jednorodzi...</td>\n",
       "      <td>[&lt;p&gt; &lt;/p&gt;, &lt;p&gt; &lt;/p&gt;, &lt;p&gt;Organiczna, a zarazem ...</td>\n",
       "    </tr>\n",
       "    <tr>\n",
       "      <th>3</th>\n",
       "      <td>https://sztuka-architektury.pl/article/13460/n...</td>\n",
       "      <td>[Niezwykły projekt z drewna – kaplica w lesie]</td>\n",
       "      <td>[Portal Archdaily.com ogłosił wyniki plebiscyt...</td>\n",
       "      <td>[&lt;p&gt; &lt;/p&gt;, &lt;p&gt;Wśród obiektów sakralnych najlep...</td>\n",
       "    </tr>\n",
       "    <tr>\n",
       "      <th>4</th>\n",
       "      <td>https://sztuka-architektury.pl/article/13462/z...</td>\n",
       "      <td>[Zobacz najciekawsze fotografie architektury]</td>\n",
       "      <td>[World Photography Organisation ogłosiła nazwi...</td>\n",
       "      <td>[&lt;p&gt; &lt;/p&gt;, &lt;p&gt;Architektura w fotografii&lt;/p&gt;, &lt;...</td>\n",
       "    </tr>\n",
       "  </tbody>\n",
       "</table>\n",
       "</div>"
      ],
      "text/plain": [
       "                                                 url  \\\n",
       "0  https://sztuka-architektury.pl/article/13529/v...   \n",
       "1  https://sztuka-architektury.pl/article/13434/s...   \n",
       "2  https://sztuka-architektury.pl/article/13444/o...   \n",
       "3  https://sztuka-architektury.pl/article/13460/n...   \n",
       "4  https://sztuka-architektury.pl/article/13462/z...   \n",
       "\n",
       "                                            title  \\\n",
       "0             [Vittorio Gregotti ofiarą epidemii]   \n",
       "1   [Serpentine Pavilion – znamy projekt budynku]   \n",
       "2                  [Organiczny dom jednorodzinny]   \n",
       "3  [Niezwykły projekt z drewna – kaplica w lesie]   \n",
       "4   [Zobacz najciekawsze fotografie architektury]   \n",
       "\n",
       "                                                lead  \\\n",
       "0  [Vittorio Gregotti urodził się w 1927 roku w p...   \n",
       "1  [Serpentine Pavilion ma już swoje stałe miejsc...   \n",
       "2  [Projekt architektoniczny tego domu jednorodzi...   \n",
       "3  [Portal Archdaily.com ogłosił wyniki plebiscyt...   \n",
       "4  [World Photography Organisation ogłosiła nazwi...   \n",
       "\n",
       "                                                text  \n",
       "0  [<p> </p>, <p>Vittorio Gregotti był czynnym ar...  \n",
       "1  [<p> </p>, <p>Początkowo do współpracy przy tw...  \n",
       "2  [<p> </p>, <p> </p>, <p>Organiczna, a zarazem ...  \n",
       "3  [<p> </p>, <p>Wśród obiektów sakralnych najlep...  \n",
       "4  [<p> </p>, <p>Architektura w fotografii</p>, <...  "
      ]
     },
     "metadata": {},
     "output_type": "display_data"
    },
    {
     "data": {
      "text/plain": [
       "'wirtualnemedia_biznes'"
      ]
     },
     "metadata": {},
     "output_type": "display_data"
    },
    {
     "data": {
      "text/plain": [
       "6598"
      ]
     },
     "metadata": {},
     "output_type": "display_data"
    },
    {
     "data": {
      "text/html": [
       "<div>\n",
       "<style scoped>\n",
       "    .dataframe tbody tr th:only-of-type {\n",
       "        vertical-align: middle;\n",
       "    }\n",
       "\n",
       "    .dataframe tbody tr th {\n",
       "        vertical-align: top;\n",
       "    }\n",
       "\n",
       "    .dataframe thead th {\n",
       "        text-align: right;\n",
       "    }\n",
       "</style>\n",
       "<table border=\"1\" class=\"dataframe\">\n",
       "  <thead>\n",
       "    <tr style=\"text-align: right;\">\n",
       "      <th></th>\n",
       "      <th>url</th>\n",
       "      <th>title</th>\n",
       "      <th>lead</th>\n",
       "      <th>text</th>\n",
       "    </tr>\n",
       "  </thead>\n",
       "  <tbody>\n",
       "    <tr>\n",
       "      <th>0</th>\n",
       "      <td>https://www.wirtualnemedia.pl/artykul/dominika...</td>\n",
       "      <td>[Dominika Kulczyk przekaże 20 mln zł na walkę ...</td>\n",
       "      <td>[Dominika Kulczyk zdecydowała się przekazać Fu...</td>\n",
       "      <td>[Środki zostaną przekazane na zakup: sprzętu d...</td>\n",
       "    </tr>\n",
       "    <tr>\n",
       "      <th>1</th>\n",
       "      <td>https://www.wirtualnemedia.pl/artykul/koronawi...</td>\n",
       "      <td>[Maspex przekaże szpitalom zakaźnym 1 mln swoi...</td>\n",
       "      <td>[Firma spożywcza Maspex, do której należą m.in...</td>\n",
       "      <td>[Maspex wyliczył, że przekaże szpitalom zakaźn...</td>\n",
       "    </tr>\n",
       "    <tr>\n",
       "      <th>2</th>\n",
       "      <td>https://www.wirtualnemedia.pl/artykul/colian-p...</td>\n",
       "      <td>[Colian przekaże słodycze i napoje szpitalom p...</td>\n",
       "      <td>[Spółka Colian (właściciel takich marek jak He...</td>\n",
       "      <td>[Spółka , Colian , zadeklarowała wysyłkę słody...</td>\n",
       "    </tr>\n",
       "    <tr>\n",
       "      <th>3</th>\n",
       "      <td>https://www.wirtualnemedia.pl/artykul/biznes24...</td>\n",
       "      <td>[Marcin Dobrowolski twarzą Biznes24. Start kan...</td>\n",
       "      <td>[Głównym prowadzącym w nowej stacji Biznes24 -...</td>\n",
       "      <td>[Biznes24 to kanał poświęcony biznesowi, gospo...</td>\n",
       "    </tr>\n",
       "    <tr>\n",
       "      <th>4</th>\n",
       "      <td>https://www.wirtualnemedia.pl/artykul/zus-wpro...</td>\n",
       "      <td>[ZUS wprowadza ułatwienia dla firm. Konfederac...</td>\n",
       "      <td>[Nie czekając na decyzje rządu w sprawie pakie...</td>\n",
       "      <td>[Zakład Ubezpieczeń Społecznych poinformował, ...</td>\n",
       "    </tr>\n",
       "  </tbody>\n",
       "</table>\n",
       "</div>"
      ],
      "text/plain": [
       "                                                 url  \\\n",
       "0  https://www.wirtualnemedia.pl/artykul/dominika...   \n",
       "1  https://www.wirtualnemedia.pl/artykul/koronawi...   \n",
       "2  https://www.wirtualnemedia.pl/artykul/colian-p...   \n",
       "3  https://www.wirtualnemedia.pl/artykul/biznes24...   \n",
       "4  https://www.wirtualnemedia.pl/artykul/zus-wpro...   \n",
       "\n",
       "                                               title  \\\n",
       "0  [Dominika Kulczyk przekaże 20 mln zł na walkę ...   \n",
       "1  [Maspex przekaże szpitalom zakaźnym 1 mln swoi...   \n",
       "2  [Colian przekaże słodycze i napoje szpitalom p...   \n",
       "3  [Marcin Dobrowolski twarzą Biznes24. Start kan...   \n",
       "4  [ZUS wprowadza ułatwienia dla firm. Konfederac...   \n",
       "\n",
       "                                                lead  \\\n",
       "0  [Dominika Kulczyk zdecydowała się przekazać Fu...   \n",
       "1  [Firma spożywcza Maspex, do której należą m.in...   \n",
       "2  [Spółka Colian (właściciel takich marek jak He...   \n",
       "3  [Głównym prowadzącym w nowej stacji Biznes24 -...   \n",
       "4  [Nie czekając na decyzje rządu w sprawie pakie...   \n",
       "\n",
       "                                                text  \n",
       "0  [Środki zostaną przekazane na zakup: sprzętu d...  \n",
       "1  [Maspex wyliczył, że przekaże szpitalom zakaźn...  \n",
       "2  [Spółka , Colian , zadeklarowała wysyłkę słody...  \n",
       "3  [Biznes24 to kanał poświęcony biznesowi, gospo...  \n",
       "4  [Zakład Ubezpieczeń Społecznych poinformował, ...  "
      ]
     },
     "metadata": {},
     "output_type": "display_data"
    },
    {
     "data": {
      "text/plain": [
       "'wnp'"
      ]
     },
     "metadata": {},
     "output_type": "display_data"
    },
    {
     "data": {
      "text/plain": [
       "200"
      ]
     },
     "metadata": {},
     "output_type": "display_data"
    },
    {
     "data": {
      "text/html": [
       "<div>\n",
       "<style scoped>\n",
       "    .dataframe tbody tr th:only-of-type {\n",
       "        vertical-align: middle;\n",
       "    }\n",
       "\n",
       "    .dataframe tbody tr th {\n",
       "        vertical-align: top;\n",
       "    }\n",
       "\n",
       "    .dataframe thead th {\n",
       "        text-align: right;\n",
       "    }\n",
       "</style>\n",
       "<table border=\"1\" class=\"dataframe\">\n",
       "  <thead>\n",
       "    <tr style=\"text-align: right;\">\n",
       "      <th></th>\n",
       "      <th>url</th>\n",
       "      <th>title</th>\n",
       "      <th>lead</th>\n",
       "      <th>text</th>\n",
       "      <th>text_main_points</th>\n",
       "    </tr>\n",
       "  </thead>\n",
       "  <tbody>\n",
       "    <tr>\n",
       "      <th>0</th>\n",
       "      <td>https://www.wnp.pl/energetyka/pge-wobec-korona...</td>\n",
       "      <td>[PGE wobec koronawirusa. Gwarantuje dostawy pr...</td>\n",
       "      <td>[Polska Grupa Energetyczna (PGE) 13 marca zape...</td>\n",
       "      <td>[\\n    , \\n\\n    , \\n\\n\\t\\n\\t\\n    Spółka odpo...</td>\n",
       "      <td>[]</td>\n",
       "    </tr>\n",
       "    <tr>\n",
       "      <th>1</th>\n",
       "      <td>https://www.wnp.pl/chemia/policzyli-ile-ciech-...</td>\n",
       "      <td>[Policzyli, ile Ciech dał całemu województwu]</td>\n",
       "      <td>[EY opublikował ekspercki raport na temat wpły...</td>\n",
       "      <td>[\\n    , \\n\\n    , \\n\\n\\t\\n\\t\\n    , \\r\\n, Obl...</td>\n",
       "      <td>[W ocenie prezesa firmy Dawida Jakubowicza Gru...</td>\n",
       "    </tr>\n",
       "    <tr>\n",
       "      <th>2</th>\n",
       "      <td>https://www.wnp.pl/przemysl-obronny/koronawiru...</td>\n",
       "      <td>[Koronawirus dopadł polską armię]</td>\n",
       "      <td>[Żarty się skończyły, zaczęły się schody. W Po...</td>\n",
       "      <td>[\\n    , \\n\\n    , \\n\\n\\t\\n\\t\\n    , \\nTo było...</td>\n",
       "      <td>[Koronawirus dopadł polską armię, gen. Jarosła...</td>\n",
       "    </tr>\n",
       "    <tr>\n",
       "      <th>3</th>\n",
       "      <td>https://www.wnp.pl/hutnictwo/arcelormittal-wzy...</td>\n",
       "      <td>[ArcelorMittal wzywa rządy UE do poparcia węgl...</td>\n",
       "      <td>[ArcelorMittal wezwał państwa członkowskie, by...</td>\n",
       "      <td>[\\n    , \\n\\n    , \\n\\n\\t\\n\\t\\n    Według Arce...</td>\n",
       "      <td>[]</td>\n",
       "    </tr>\n",
       "    <tr>\n",
       "      <th>4</th>\n",
       "      <td>https://www.wnp.pl/hutnictwo/cla-trumpa-zamyka...</td>\n",
       "      <td>[Cła Trumpa zamykają amerykańską walcownię]</td>\n",
       "      <td>[Walcownia NLMK Pensylwania musi kupować stal ...</td>\n",
       "      <td>[\\n    , \\n\\n    , \\n\\n\\t\\n\\t\\n    Walcownia N...</td>\n",
       "      <td>[]</td>\n",
       "    </tr>\n",
       "  </tbody>\n",
       "</table>\n",
       "</div>"
      ],
      "text/plain": [
       "                                                 url  \\\n",
       "0  https://www.wnp.pl/energetyka/pge-wobec-korona...   \n",
       "1  https://www.wnp.pl/chemia/policzyli-ile-ciech-...   \n",
       "2  https://www.wnp.pl/przemysl-obronny/koronawiru...   \n",
       "3  https://www.wnp.pl/hutnictwo/arcelormittal-wzy...   \n",
       "4  https://www.wnp.pl/hutnictwo/cla-trumpa-zamyka...   \n",
       "\n",
       "                                               title  \\\n",
       "0  [PGE wobec koronawirusa. Gwarantuje dostawy pr...   \n",
       "1      [Policzyli, ile Ciech dał całemu województwu]   \n",
       "2                  [Koronawirus dopadł polską armię]   \n",
       "3  [ArcelorMittal wzywa rządy UE do poparcia węgl...   \n",
       "4        [Cła Trumpa zamykają amerykańską walcownię]   \n",
       "\n",
       "                                                lead  \\\n",
       "0  [Polska Grupa Energetyczna (PGE) 13 marca zape...   \n",
       "1  [EY opublikował ekspercki raport na temat wpły...   \n",
       "2  [Żarty się skończyły, zaczęły się schody. W Po...   \n",
       "3  [ArcelorMittal wezwał państwa członkowskie, by...   \n",
       "4  [Walcownia NLMK Pensylwania musi kupować stal ...   \n",
       "\n",
       "                                                text  \\\n",
       "0  [\\n    , \\n\\n    , \\n\\n\\t\\n\\t\\n    Spółka odpo...   \n",
       "1  [\\n    , \\n\\n    , \\n\\n\\t\\n\\t\\n    , \\r\\n, Obl...   \n",
       "2  [\\n    , \\n\\n    , \\n\\n\\t\\n\\t\\n    , \\nTo było...   \n",
       "3  [\\n    , \\n\\n    , \\n\\n\\t\\n\\t\\n    Według Arce...   \n",
       "4  [\\n    , \\n\\n    , \\n\\n\\t\\n\\t\\n    Walcownia N...   \n",
       "\n",
       "                                    text_main_points  \n",
       "0                                                 []  \n",
       "1  [W ocenie prezesa firmy Dawida Jakubowicza Gru...  \n",
       "2  [Koronawirus dopadł polską armię, gen. Jarosła...  \n",
       "3                                                 []  \n",
       "4                                                 []  "
      ]
     },
     "metadata": {},
     "output_type": "display_data"
    }
   ],
   "source": [
    "for site in file_reader.file_names:\n",
    "    display(site, len(data_filtered[site]), data_filtered[site].head())"
   ]
  },
  {
   "cell_type": "code",
   "execution_count": 210,
   "metadata": {},
   "outputs": [
    {
     "data": {
      "text/plain": [
       "199137"
      ]
     },
     "execution_count": 210,
     "metadata": {},
     "output_type": "execute_result"
    }
   ],
   "source": [
    "sum([len(data_filtered[site]) for site in file_reader.file_names])"
   ]
  },
  {
   "cell_type": "markdown",
   "metadata": {},
   "source": [
    "# Merge data"
   ]
  },
  {
   "cell_type": "code",
   "execution_count": 213,
   "metadata": {},
   "outputs": [],
   "source": [
    "dataframes = []\n",
    "for site in file_reader.file_names:\n",
    "    data = data_filtered[site]\n",
    "    data['site'] = site\n",
    "    dataframes.append(data)\n",
    "\n",
    "data_all = pd.concat(dataframes, ignore_index=True)"
   ]
  },
  {
   "cell_type": "code",
   "execution_count": 214,
   "metadata": {},
   "outputs": [
    {
     "data": {
      "text/html": [
       "<div>\n",
       "<style scoped>\n",
       "    .dataframe tbody tr th:only-of-type {\n",
       "        vertical-align: middle;\n",
       "    }\n",
       "\n",
       "    .dataframe tbody tr th {\n",
       "        vertical-align: top;\n",
       "    }\n",
       "\n",
       "    .dataframe thead th {\n",
       "        text-align: right;\n",
       "    }\n",
       "</style>\n",
       "<table border=\"1\" class=\"dataframe\">\n",
       "  <thead>\n",
       "    <tr style=\"text-align: right;\">\n",
       "      <th></th>\n",
       "      <th>site</th>\n",
       "      <th>url</th>\n",
       "      <th>title</th>\n",
       "      <th>lead</th>\n",
       "      <th>text</th>\n",
       "      <th>text_main_points</th>\n",
       "      <th>text_list</th>\n",
       "    </tr>\n",
       "  </thead>\n",
       "  <tbody>\n",
       "    <tr>\n",
       "      <th>0</th>\n",
       "      <td>bankier_moto</td>\n",
       "      <td>https://www.bankier.pl/moto/koronawirus-przysp...</td>\n",
       "      <td>[Koronawirus przyspieszy sprzedaż samochodów o...</td>\n",
       "      <td>[Epidemia koronawirusa przyspieszy rozwój sprz...</td>\n",
       "      <td>[Według Balcerzyka, choć sprzedaż bezpośrednia...</td>\n",
       "      <td>NaN</td>\n",
       "      <td>NaN</td>\n",
       "    </tr>\n",
       "    <tr>\n",
       "      <th>1</th>\n",
       "      <td>bankier_moto</td>\n",
       "      <td>https://www.bankier.pl/moto/auta-w-polsce-truj...</td>\n",
       "      <td>[Auta w Polsce trują najmocniej w Europie]</td>\n",
       "      <td>[Samochody zarejestrowane w Polsce emitowały w...</td>\n",
       "      <td>[Samochody zarejestrowane w Polsce emitowały w...</td>\n",
       "      <td>NaN</td>\n",
       "      <td>NaN</td>\n",
       "    </tr>\n",
       "    <tr>\n",
       "      <th>2</th>\n",
       "      <td>bankier_moto</td>\n",
       "      <td>https://www.bankier.pl/moto/przebieg-auta-pod-...</td>\n",
       "      <td>[Przebieg auta pod większą kontrolą]</td>\n",
       "      <td>[Kontrolowanie stanu liczników ma być antidotu...</td>\n",
       "      <td>[Jak podaje gazeta, od 15 marca w życie wchodz...</td>\n",
       "      <td>NaN</td>\n",
       "      <td>NaN</td>\n",
       "    </tr>\n",
       "    <tr>\n",
       "      <th>3</th>\n",
       "      <td>bankier_moto</td>\n",
       "      <td>https://www.bankier.pl/moto/darmowe-parkingi-w...</td>\n",
       "      <td>[Darmowe parkingi w Krakowie do końca marca]</td>\n",
       "      <td>[Od niedzieli do końca marca nie będzie poboru...</td>\n",
       "      <td>[„Chcemy ułatwić funkcjonowanie tym osobom, kt...</td>\n",
       "      <td>NaN</td>\n",
       "      <td>NaN</td>\n",
       "    </tr>\n",
       "    <tr>\n",
       "      <th>4</th>\n",
       "      <td>bankier_moto</td>\n",
       "      <td>https://www.bankier.pl/moto/fabryka-opla-w-gli...</td>\n",
       "      <td>[Fabryka Opla w Gliwicach zawiesza produkcję; ...</td>\n",
       "      <td>[Od wtorku gliwicka fabryka samochodów Opla, n...</td>\n",
       "      <td>[Od wtorku gliwicka fabryka samochodów Opla, n...</td>\n",
       "      <td>NaN</td>\n",
       "      <td>NaN</td>\n",
       "    </tr>\n",
       "    <tr>\n",
       "      <th>...</th>\n",
       "      <td>...</td>\n",
       "      <td>...</td>\n",
       "      <td>...</td>\n",
       "      <td>...</td>\n",
       "      <td>...</td>\n",
       "      <td>...</td>\n",
       "      <td>...</td>\n",
       "    </tr>\n",
       "    <tr>\n",
       "      <th>199132</th>\n",
       "      <td>wnp</td>\n",
       "      <td>https://www.wnp.pl/nafta/lotos-przekaze-5-mln-...</td>\n",
       "      <td>[Lotos przekaże 5 mln zł na walkę z koronawiru...</td>\n",
       "      <td>[Grupa Lotos za pośrednictwem Fundacji Lotos z...</td>\n",
       "      <td>[\\n    , \\n\\n    , \\n\\n\\t\\n\\t\\n    Wsparcie re...</td>\n",
       "      <td>[]</td>\n",
       "      <td>NaN</td>\n",
       "    </tr>\n",
       "    <tr>\n",
       "      <th>199133</th>\n",
       "      <td>wnp</td>\n",
       "      <td>https://www.wnp.pl/gazownictwo/gazprom-ma-wiel...</td>\n",
       "      <td>[Gazprom ma wielki problem. Gaz się przestał s...</td>\n",
       "      <td>[Tylko 19 mln m3 gazu sprzedał podczas ostatni...</td>\n",
       "      <td>[\\n    , \\n\\n    , \\n\\n\\t\\n\\t\\n    Elektronicz...</td>\n",
       "      <td>[]</td>\n",
       "      <td>NaN</td>\n",
       "    </tr>\n",
       "    <tr>\n",
       "      <th>199134</th>\n",
       "      <td>wnp</td>\n",
       "      <td>https://www.wnp.pl/budownictwo/dane-planistycz...</td>\n",
       "      <td>[Dane planistyczne będą powszechnie dostępne]</td>\n",
       "      <td>[Jak poinformowało 13 marca Ministerstwo Rozwo...</td>\n",
       "      <td>[\\n    , \\n\\n    , \\n\\n\\t\\n\\t\\n    , \\n\\n, \\n-...</td>\n",
       "      <td>[W komunikacie na okolicznośc dalszych prac le...</td>\n",
       "      <td>NaN</td>\n",
       "    </tr>\n",
       "    <tr>\n",
       "      <th>199135</th>\n",
       "      <td>wnp</td>\n",
       "      <td>https://www.wnp.pl/energetyka/cieplownictwo/se...</td>\n",
       "      <td>[Sefako ma pełny portfel zamówień]</td>\n",
       "      <td>[Portfel zamówień na 2020 r. mamy już praktycz...</td>\n",
       "      <td>[\\n    , \\n\\n    , \\n\\n\\t\\n\\t\\n    , \\nPrzypom...</td>\n",
       "      <td>[Aktualnie kluczowym zleceniem Sefako jest war...</td>\n",
       "      <td>NaN</td>\n",
       "    </tr>\n",
       "    <tr>\n",
       "      <th>199136</th>\n",
       "      <td>wnp</td>\n",
       "      <td>https://www.wnp.pl/energetyka/cieplownictwo/wa...</td>\n",
       "      <td>[Warszawa: Awaria ciepłownicza na Pradze-Półno...</td>\n",
       "      <td>[W piątek wieczorem na warszawskiej Pradze-Pół...</td>\n",
       "      <td>[\\n    , \\n\\n    , \\n\\n\\t\\n\\t\\n    Jako pierws...</td>\n",
       "      <td>[]</td>\n",
       "      <td>NaN</td>\n",
       "    </tr>\n",
       "  </tbody>\n",
       "</table>\n",
       "<p>199137 rows × 7 columns</p>\n",
       "</div>"
      ],
      "text/plain": [
       "                site                                                url  \\\n",
       "0       bankier_moto  https://www.bankier.pl/moto/koronawirus-przysp...   \n",
       "1       bankier_moto  https://www.bankier.pl/moto/auta-w-polsce-truj...   \n",
       "2       bankier_moto  https://www.bankier.pl/moto/przebieg-auta-pod-...   \n",
       "3       bankier_moto  https://www.bankier.pl/moto/darmowe-parkingi-w...   \n",
       "4       bankier_moto  https://www.bankier.pl/moto/fabryka-opla-w-gli...   \n",
       "...              ...                                                ...   \n",
       "199132           wnp  https://www.wnp.pl/nafta/lotos-przekaze-5-mln-...   \n",
       "199133           wnp  https://www.wnp.pl/gazownictwo/gazprom-ma-wiel...   \n",
       "199134           wnp  https://www.wnp.pl/budownictwo/dane-planistycz...   \n",
       "199135           wnp  https://www.wnp.pl/energetyka/cieplownictwo/se...   \n",
       "199136           wnp  https://www.wnp.pl/energetyka/cieplownictwo/wa...   \n",
       "\n",
       "                                                    title  \\\n",
       "0       [Koronawirus przyspieszy sprzedaż samochodów o...   \n",
       "1              [Auta w Polsce trują najmocniej w Europie]   \n",
       "2                    [Przebieg auta pod większą kontrolą]   \n",
       "3            [Darmowe parkingi w Krakowie do końca marca]   \n",
       "4       [Fabryka Opla w Gliwicach zawiesza produkcję; ...   \n",
       "...                                                   ...   \n",
       "199132  [Lotos przekaże 5 mln zł na walkę z koronawiru...   \n",
       "199133  [Gazprom ma wielki problem. Gaz się przestał s...   \n",
       "199134      [Dane planistyczne będą powszechnie dostępne]   \n",
       "199135                 [Sefako ma pełny portfel zamówień]   \n",
       "199136  [Warszawa: Awaria ciepłownicza na Pradze-Półno...   \n",
       "\n",
       "                                                     lead  \\\n",
       "0       [Epidemia koronawirusa przyspieszy rozwój sprz...   \n",
       "1       [Samochody zarejestrowane w Polsce emitowały w...   \n",
       "2       [Kontrolowanie stanu liczników ma być antidotu...   \n",
       "3       [Od niedzieli do końca marca nie będzie poboru...   \n",
       "4       [Od wtorku gliwicka fabryka samochodów Opla, n...   \n",
       "...                                                   ...   \n",
       "199132  [Grupa Lotos za pośrednictwem Fundacji Lotos z...   \n",
       "199133  [Tylko 19 mln m3 gazu sprzedał podczas ostatni...   \n",
       "199134  [Jak poinformowało 13 marca Ministerstwo Rozwo...   \n",
       "199135  [Portfel zamówień na 2020 r. mamy już praktycz...   \n",
       "199136  [W piątek wieczorem na warszawskiej Pradze-Pół...   \n",
       "\n",
       "                                                     text  \\\n",
       "0       [Według Balcerzyka, choć sprzedaż bezpośrednia...   \n",
       "1       [Samochody zarejestrowane w Polsce emitowały w...   \n",
       "2       [Jak podaje gazeta, od 15 marca w życie wchodz...   \n",
       "3       [„Chcemy ułatwić funkcjonowanie tym osobom, kt...   \n",
       "4       [Od wtorku gliwicka fabryka samochodów Opla, n...   \n",
       "...                                                   ...   \n",
       "199132  [\\n    , \\n\\n    , \\n\\n\\t\\n\\t\\n    Wsparcie re...   \n",
       "199133  [\\n    , \\n\\n    , \\n\\n\\t\\n\\t\\n    Elektronicz...   \n",
       "199134  [\\n    , \\n\\n    , \\n\\n\\t\\n\\t\\n    , \\n\\n, \\n-...   \n",
       "199135  [\\n    , \\n\\n    , \\n\\n\\t\\n\\t\\n    , \\nPrzypom...   \n",
       "199136  [\\n    , \\n\\n    , \\n\\n\\t\\n\\t\\n    Jako pierws...   \n",
       "\n",
       "                                         text_main_points text_list  \n",
       "0                                                     NaN       NaN  \n",
       "1                                                     NaN       NaN  \n",
       "2                                                     NaN       NaN  \n",
       "3                                                     NaN       NaN  \n",
       "4                                                     NaN       NaN  \n",
       "...                                                   ...       ...  \n",
       "199132                                                 []       NaN  \n",
       "199133                                                 []       NaN  \n",
       "199134  [W komunikacie na okolicznośc dalszych prac le...       NaN  \n",
       "199135  [Aktualnie kluczowym zleceniem Sefako jest war...       NaN  \n",
       "199136                                                 []       NaN  \n",
       "\n",
       "[199137 rows x 7 columns]"
      ]
     },
     "execution_count": 214,
     "metadata": {},
     "output_type": "execute_result"
    }
   ],
   "source": [
    "data_all"
   ]
  },
  {
   "cell_type": "code",
   "execution_count": 215,
   "metadata": {},
   "outputs": [],
   "source": [
    "data_all.to_csv('../data/polish_articles.csv')"
   ]
  },
  {
   "cell_type": "code",
   "execution_count": null,
   "metadata": {},
   "outputs": [],
   "source": []
  }
 ],
 "metadata": {
  "kernelspec": {
   "display_name": "Python 3",
   "language": "python",
   "name": "python3"
  },
  "language_info": {
   "codemirror_mode": {
    "name": "ipython",
    "version": 3
   },
   "file_extension": ".py",
   "mimetype": "text/x-python",
   "name": "python",
   "nbconvert_exporter": "python",
   "pygments_lexer": "ipython3",
   "version": "3.7.4"
  }
 },
 "nbformat": 4,
 "nbformat_minor": 4
}
