{
 "cells": [
  {
   "cell_type": "code",
   "execution_count": 1,
   "metadata": {},
   "outputs": [],
   "source": [
    "import numpy as np\n",
    "import pandas as pd\n",
    "\n",
    "from sklearn.model_selection import train_test_split"
   ]
  },
  {
   "cell_type": "code",
   "execution_count": 2,
   "metadata": {},
   "outputs": [],
   "source": [
    "data = pd.read_pickle('../../data/filtered_data/polish_articles_trimmed.pkl')"
   ]
  },
  {
   "cell_type": "code",
   "execution_count": 5,
   "metadata": {},
   "outputs": [],
   "source": [
    "def train_val_test_split(df, train_percentage=0.8, val_percentage=0.1, seed=None, inplace=False):\n",
    "    np.random.seed(seed)\n",
    "    permutation = np.random.permutation(df.index)\n",
    "    length = len(df.index)\n",
    "    train_end = int(train_percentage * length)\n",
    "    val_end = int(val_percentage * length) + train_end\n",
    "    train_ids = permutation[:train_end]\n",
    "    val_ids = permutation[train_end:val_end]\n",
    "    test_ids = permutation[val_end:]\n",
    "    if inplace:\n",
    "        df.loc[df.index.isin(train_ids), 'dataset'] = ['train'] * len(train_ids)\n",
    "        df.loc[df.index.isin(val_ids), 'dataset'] = ['val'] * len(val_ids)\n",
    "        df.loc[df.index.isin(test_ids), 'dataset'] = ['test'] * len(test_ids)\n",
    "        return df\n",
    "    else:\n",
    "        train = df.iloc[train_ids]\n",
    "        val = df.iloc[val_ids]\n",
    "        test = df.iloc[test_ids]\n",
    "        return train.reset_index(drop=True), val.reset_index(drop=True), test.reset_index(drop=True)"
   ]
  },
  {
   "cell_type": "code",
   "execution_count": 6,
   "metadata": {},
   "outputs": [],
   "source": [
    "train_data, val_data, test_data = train_val_test_split(data, seed=9, inplace=False)"
   ]
  },
  {
   "cell_type": "code",
   "execution_count": 7,
   "metadata": {},
   "outputs": [
    {
     "data": {
      "text/html": [
       "<div>\n",
       "<style scoped>\n",
       "    .dataframe tbody tr th:only-of-type {\n",
       "        vertical-align: middle;\n",
       "    }\n",
       "\n",
       "    .dataframe tbody tr th {\n",
       "        vertical-align: top;\n",
       "    }\n",
       "\n",
       "    .dataframe thead th {\n",
       "        text-align: right;\n",
       "    }\n",
       "</style>\n",
       "<table border=\"1\" class=\"dataframe\">\n",
       "  <thead>\n",
       "    <tr style=\"text-align: right;\">\n",
       "      <th></th>\n",
       "      <th>url</th>\n",
       "      <th>title</th>\n",
       "      <th>lead</th>\n",
       "      <th>text</th>\n",
       "      <th>site</th>\n",
       "    </tr>\n",
       "  </thead>\n",
       "  <tbody>\n",
       "    <tr>\n",
       "      <th>0</th>\n",
       "      <td>http://www.wroclaw.sport.pl/sport-wroclaw/1,12...</td>\n",
       "      <td>[Koniec konfliktu z Nichollsem. Żużlowiec podp...</td>\n",
       "      <td>Żużela . anglik scott nicholls zrezygnować z k...</td>\n",
       "      <td>o sprawa nichollsa pisać od kilka dzień . atla...</td>\n",
       "      <td>sport</td>\n",
       "    </tr>\n",
       "    <tr>\n",
       "      <th>1</th>\n",
       "      <td>https://www.sport.pl/pilka/7,65042,24986662,st...</td>\n",
       "      <td>[Statystyka wstydu Legii Warszawa. Powinna się...</td>\n",
       "      <td>legia warszawa skompromitować się remis z gibr...</td>\n",
       "      <td>legia warszawa po fatalny mecz zremisować z gi...</td>\n",
       "      <td>sport</td>\n",
       "    </tr>\n",
       "    <tr>\n",
       "      <th>2</th>\n",
       "      <td>https://www.spidersweb.pl/2016/12/lucid-motors...</td>\n",
       "      <td>[Właśnie tak wygląda luksusowy rywal Tesli Mod...</td>\n",
       "      <td>co powstać kiedy swój siła w praca nad samochó...</td>\n",
       "      <td>zaistnienie na rynek samochód z silnik spalino...</td>\n",
       "      <td>spidersweb</td>\n",
       "    </tr>\n",
       "    <tr>\n",
       "      <th>3</th>\n",
       "      <td>https://polki.pl/rodzina/ciaza,czym-zasluzyla-...</td>\n",
       "      <td>[Czym zasłużyła się święta Aleksandra z Galacji.]</td>\n",
       "      <td>można powiedzieć że on życiorys przypominać wi...</td>\n",
       "      <td>święty Aleksander żyć najprawdopodobniej w iii...</td>\n",
       "      <td>polki</td>\n",
       "    </tr>\n",
       "    <tr>\n",
       "      <th>4</th>\n",
       "      <td>http://www.bydgoszcz.sport.pl/sport-bydgoszcz/...</td>\n",
       "      <td>[Grand Prix znów w Polsce. Najlepsi jadą w Gor...</td>\n",
       "      <td>drogi granda prix na świat obejrzeć w sobota n...</td>\n",
       "      <td>to trzeci z pięć turniej za który władza Gorzó...</td>\n",
       "      <td>sport</td>\n",
       "    </tr>\n",
       "  </tbody>\n",
       "</table>\n",
       "</div>"
      ],
      "text/plain": [
       "                                                 url  \\\n",
       "0  http://www.wroclaw.sport.pl/sport-wroclaw/1,12...   \n",
       "1  https://www.sport.pl/pilka/7,65042,24986662,st...   \n",
       "2  https://www.spidersweb.pl/2016/12/lucid-motors...   \n",
       "3  https://polki.pl/rodzina/ciaza,czym-zasluzyla-...   \n",
       "4  http://www.bydgoszcz.sport.pl/sport-bydgoszcz/...   \n",
       "\n",
       "                                               title  \\\n",
       "0  [Koniec konfliktu z Nichollsem. Żużlowiec podp...   \n",
       "1  [Statystyka wstydu Legii Warszawa. Powinna się...   \n",
       "2  [Właśnie tak wygląda luksusowy rywal Tesli Mod...   \n",
       "3  [Czym zasłużyła się święta Aleksandra z Galacji.]   \n",
       "4  [Grand Prix znów w Polsce. Najlepsi jadą w Gor...   \n",
       "\n",
       "                                                lead  \\\n",
       "0  Żużela . anglik scott nicholls zrezygnować z k...   \n",
       "1  legia warszawa skompromitować się remis z gibr...   \n",
       "2  co powstać kiedy swój siła w praca nad samochó...   \n",
       "3  można powiedzieć że on życiorys przypominać wi...   \n",
       "4  drogi granda prix na świat obejrzeć w sobota n...   \n",
       "\n",
       "                                                text        site  \n",
       "0  o sprawa nichollsa pisać od kilka dzień . atla...       sport  \n",
       "1  legia warszawa po fatalny mecz zremisować z gi...       sport  \n",
       "2  zaistnienie na rynek samochód z silnik spalino...  spidersweb  \n",
       "3  święty Aleksander żyć najprawdopodobniej w iii...       polki  \n",
       "4  to trzeci z pięć turniej za który władza Gorzó...       sport  "
      ]
     },
     "execution_count": 7,
     "metadata": {},
     "output_type": "execute_result"
    }
   ],
   "source": [
    "train_data.head()"
   ]
  },
  {
   "cell_type": "code",
   "execution_count": 11,
   "metadata": {},
   "outputs": [],
   "source": [
    "def save_splits(train, val, test, output_folder, columns=None):\n",
    "    train[columns].to_csv(output_folder + 'train.csv')\n",
    "    val[columns].to_csv(output_folder + 'val.csv')\n",
    "    test[columns].to_csv(output_folder + 'test.csv')"
   ]
  },
  {
   "cell_type": "code",
   "execution_count": 12,
   "metadata": {},
   "outputs": [],
   "source": [
    "save_splits(train=train_data, val=val_data, test=test_data, output_folder='../../data/pl_articles/', columns=['lead', 'text'])"
   ]
  },
  {
   "cell_type": "code",
   "execution_count": null,
   "metadata": {},
   "outputs": [],
   "source": []
  }
 ],
 "metadata": {
  "kernelspec": {
   "display_name": "Python 3",
   "language": "python",
   "name": "python3"
  },
  "language_info": {
   "codemirror_mode": {
    "name": "ipython",
    "version": 3
   },
   "file_extension": ".py",
   "mimetype": "text/x-python",
   "name": "python",
   "nbconvert_exporter": "python",
   "pygments_lexer": "ipython3",
   "version": "3.7.4"
  }
 },
 "nbformat": 4,
 "nbformat_minor": 4
}
