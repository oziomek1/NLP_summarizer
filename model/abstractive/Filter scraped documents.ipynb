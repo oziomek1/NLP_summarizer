{
 "cells": [
  {
   "cell_type": "code",
   "execution_count": 1,
   "metadata": {},
   "outputs": [],
   "source": [
    "import gc\n",
    "import json\n",
    "import matplotlib.pyplot as plt\n",
    "import numpy as np\n",
    "import pandas as pd\n",
    "import re\n",
    "import os\n",
    "import spacy\n",
    "import warnings\n",
    "\n",
    "from bs4 import BeautifulSoup\n",
    "from glob import glob\n",
    "from typing import Callable\n",
    "from typing import Dict\n",
    "from typing import List\n",
    "from typing import Tuple\n",
    "from tqdm.notebook import tqdm\n",
    "\n",
    "warnings.filterwarnings('ignore')\n",
    "tqdm.pandas()"
   ]
  },
  {
   "cell_type": "code",
   "execution_count": 140,
   "metadata": {},
   "outputs": [],
   "source": [
    "nlp = spacy.load('pl_spacy_model', disable=['ner', 'parser'])\n",
    "nlp_full = spacy.load('pl_spacy_model')"
   ]
  },
  {
   "cell_type": "code",
   "execution_count": 3,
   "metadata": {},
   "outputs": [
    {
     "name": "stdout",
     "output_type": "stream",
     "text": [
      "    3809 ../PLArticlesScraper/PLArticlesScraper/scrapy_output/bankier.jsonl\n",
      "     797 ../PLArticlesScraper/PLArticlesScraper/scrapy_output/bankier_moto.jsonl\n",
      "    4702 ../PLArticlesScraper/PLArticlesScraper/scrapy_output/bryla.jsonl\n",
      "   12946 ../PLArticlesScraper/PLArticlesScraper/scrapy_output/gazetakrakowska.jsonl\n",
      "    5905 ../PLArticlesScraper/PLArticlesScraper/scrapy_output/krakowwpigulce.jsonl\n",
      "      93 ../PLArticlesScraper/PLArticlesScraper/scrapy_output/mamstartup.jsonl\n",
      "     356 ../PLArticlesScraper/PLArticlesScraper/scrapy_output/naszemiasto.jsonl\n",
      "   67651 ../PLArticlesScraper/PLArticlesScraper/scrapy_output/nowiny24.jsonl\n",
      "    5280 ../PLArticlesScraper/PLArticlesScraper/scrapy_output/nowymarketing.jsonl\n",
      "   25686 ../PLArticlesScraper/PLArticlesScraper/scrapy_output/polki.jsonl\n",
      "   29133 ../PLArticlesScraper/PLArticlesScraper/scrapy_output/spidersweb.jsonl\n",
      "   78389 ../PLArticlesScraper/PLArticlesScraper/scrapy_output/sport.jsonl\n",
      "    3536 ../PLArticlesScraper/PLArticlesScraper/scrapy_output/strefainwestorow.jsonl\n",
      "    3939 ../PLArticlesScraper/PLArticlesScraper/scrapy_output/sztukaarchitektury.jsonl\n",
      "    6664 ../PLArticlesScraper/PLArticlesScraper/scrapy_output/wirtualnemedia_biznes.jsonl\n",
      "     476 ../PLArticlesScraper/PLArticlesScraper/scrapy_output/wnp.jsonl\n",
      "  249362 total\n"
     ]
    }
   ],
   "source": [
    "!wc -l ../PLArticlesScraper/PLArticlesScraper/scrapy_output/*.jsonl"
   ]
  },
  {
   "cell_type": "code",
   "execution_count": 4,
   "metadata": {},
   "outputs": [],
   "source": [
    "class Utils:\n",
    "    def __init__(self):\n",
    "        pass\n",
    "    \n",
    "    def calculate_words(self, text, return_words=False):\n",
    "        text = self.strip_text(text)\n",
    "        text = self.clean_text(text)\n",
    "        words = self.tokenize_text(text)\n",
    "        number_of_words = len(words)\n",
    "        if return_words:\n",
    "            return number_of_words, words\n",
    "        return number_of_words\n",
    "    \n",
    "    def remove_html_elements(self, text, elements_to_preserve=None):\n",
    "        pass\n",
    "    \n",
    "    def strip_text(self, text):\n",
    "        if text:\n",
    "            text = \" \".join(text).strip().split() if isinstance(text, list) else \"\".join(text).strip().split()\n",
    "            return text\n",
    "        return \"\"\n",
    "    \n",
    "    def hide_numbers(self, text):\n",
    "        text = re.sub(\"[0-9]+\", \" <num> \", str(text)) # hides numbers\n",
    "        return re.sub(\"\\s+\", ' ', str(text)) # remove whitespaces\n",
    "    \n",
    "    def clean_text(self, text):\n",
    "        text = BeautifulSoup(text).get_text(strip=True).replace('\\xa0', ' ') # remove html entities\n",
    "        text = re.sub(\"(\\\\t|\\\\r|\\\\n)\", ' ', str(text)) # tab or newline chars\n",
    "        text = re.sub(\"(\\{.*\\})|(\\[.*\\])\", '', str(text)) # matches curly braces and brackets with text inside\n",
    "        text = re.sub(\"(__+|-+|~+|\\+\\++|\\.\\.+|\\-\\s+|\\:+|)\", ' ', str(text))\n",
    "        text = re.sub(\"\\s+\", ' ', str(text)) # remove whitespaces\n",
    "        \n",
    "        text = re.sub(r\"[<>()|&©ø\\[\\]\\'\\\"\\`,;~*]\", '', str(text))\n",
    "        text = re.sub(r\"[?!]\", '.', str(text))\n",
    "#         text = list(filter(None, text))\n",
    "        return text\n",
    "    \n",
    "    def tokenize_text(self, text):\n",
    "        return [tok.text for tok in nlp.tokenizer(text)]"
   ]
  },
  {
   "cell_type": "code",
   "execution_count": 5,
   "metadata": {},
   "outputs": [],
   "source": [
    "utils = Utils()"
   ]
  },
  {
   "cell_type": "code",
   "execution_count": 6,
   "metadata": {},
   "outputs": [],
   "source": [
    "class FilesReader:\n",
    "    def __init__(self, data_paths: str):\n",
    "        self.data_paths = data_paths\n",
    "        self.files = glob(data_paths + '*')\n",
    "        self.files.sort()\n",
    "        self._get_file_names()\n",
    "        self.data = None\n",
    "        \n",
    "    def _get_file_names(self):\n",
    "        self.file_names = [\n",
    "            os.path.basename(file).split('.')[0]\n",
    "            for file in self.files\n",
    "        ]\n",
    "        \n",
    "    def read_json_lines_files(self) -> None:\n",
    "        self.data = dict(zip(\n",
    "            self.file_names, \n",
    "            (pd.DataFrame(self._read_json_lines_file(file)) for file in self.files),\n",
    "        ))\n",
    "        \n",
    "    def _read_json_lines_file(self, file: str) -> list:\n",
    "        list_of_lines = []\n",
    "        with open(file, 'r', encoding='utf-8') as opened_file:\n",
    "            for line in opened_file:\n",
    "                list_of_lines.append(json.loads(line.rstrip('\\n|\\r')))\n",
    "        return list_of_lines"
   ]
  },
  {
   "cell_type": "code",
   "execution_count": 291,
   "metadata": {},
   "outputs": [],
   "source": [
    "class LengthFilterer:\n",
    "    MIN_MAX_LENGTH = (5, 100)\n",
    "    \n",
    "    def __init__(\n",
    "        self, \n",
    "        title_lead_length_limit: Tuple[int, int]=MIN_MAX_LENGTH, \n",
    "        text_length_limit: Tuple[int, int]=MIN_MAX_LENGTH, \n",
    "        reset_index: bool=True,\n",
    "    ):\n",
    "        self.title_lead_length_limit = title_lead_length_limit\n",
    "        self.text_length_limit = text_length_limit\n",
    "        self.column_types = ['header', 'text']\n",
    "        self.default_header_columns = ['title', 'lead']\n",
    "        self.default_text_columns = ['text']\n",
    "        self.reset_index=True\n",
    "        self.set_conditions(title_lead_length=title_lead_length_limit, text_length=text_length_limit)\n",
    "        \n",
    "    def get_default_columns(self, skip_title: bool=True) -> Dict[str, List[str]]:\n",
    "        header_columns = self.default_header_columns\n",
    "        if skip_title:\n",
    "            header_columns = [header for header in self.default_header_columns if header != 'title']\n",
    "        return dict(zip(self.column_types, (header_columns, self.default_text_columns)))\n",
    "    \n",
    "    def get_default_conditions(self) -> Dict[str, Callable]:\n",
    "        return dict(zip(self.column_types, self.conditions)) \n",
    "    \n",
    "    def get_default_lengths(self) -> Dict[str, Tuple[int, int]]:\n",
    "        return dict(zip(self.column_types, (self.title_lead_length_limit, self.text_length_limit))) \n",
    "    \n",
    "    def set_conditions(\n",
    "        self, \n",
    "        title_lead_length: Tuple[int, int]=MIN_MAX_LENGTH, \n",
    "        text_length: Tuple[int, int]=MIN_MAX_LENGTH,\n",
    "    ) -> None:\n",
    "        self.conditions = [\n",
    "            self.set_condition(title_lead_length), self.set_condition(text_length)\n",
    "        ]\n",
    "        \n",
    "    def set_condition(self, length: Tuple[int, int]) -> Callable:\n",
    "        return lambda x: max(length[0], 1) <= len(\" \".join(x).strip().split()) \\\n",
    "            if isinstance(x, list) else max(length[0], 1) <= len(x.strip().split())\n",
    "    \n",
    "    def join_sentences(self, sentences, lemmatize):\n",
    "        return \" \".join([sent.lemma_ if lemmatize else sent.text for sent in sentences])\n",
    "    \n",
    "    def trim_text_to_limit_length(self, sentences, max_length, lemmatize=True):\n",
    "        parsed = nlp_full(\" \".join(sentences))\n",
    "        cumulative_sentence_lengths = np.cumsum([sent.__len__() for sent in list(parsed.sents)])\n",
    "        if len(parsed) > max_length:\n",
    "            last_sentence_index = next(i for i, length in enumerate(cumulative_sentence_lengths) if length > max_length)\n",
    "            return self.join_sentences(list(parsed.sents)[:last_sentence_index], lemmatize)\n",
    "        else:\n",
    "            return self.join_sentences(list(parsed.sents), lemmatize)\n",
    "        \n",
    "    def trim_column_text(self, data, column_type):\n",
    "        return data.progress_map(lambda x: self.trim_text_to_limit_length(x, self.get_default_lengths()[column_type][1]))\n",
    "\n",
    "    \n",
    "    def filter_site_data(\n",
    "        self, \n",
    "        data: pd.DataFrame, \n",
    "        columns_types_and_names: Dict[str, List[str]]=None, \n",
    "        conditions: Dict[str, Callable]=None,\n",
    "        skip_title: bool=True,\n",
    "    ) -> pd.DataFrame:\n",
    "        if not columns_types_and_names:\n",
    "            columns_types_and_names = self.get_default_columns()\n",
    "        if not conditions:\n",
    "            conditions = self.get_default_conditions()\n",
    "\n",
    "        for column_type, column_names in tqdm(columns_types_and_names.items()):\n",
    "            column_condition = conditions[column_type]\n",
    "            for column_name in column_names:\n",
    "                data = data[data[column_name].map(column_condition)]\n",
    "                data[column_name] = self.trim_column_text(data[column_name], column_type)\n",
    "        if self.reset_index:\n",
    "            return data.reset_index(drop=True)\n",
    "        return data"
   ]
  },
  {
   "cell_type": "code",
   "execution_count": 8,
   "metadata": {},
   "outputs": [],
   "source": [
    "class TextFilterer:\n",
    "    def __init__(self, columns_to_skip=['url'], columns_to_merge=None, columns_to_drop_at=None):\n",
    "        self.columns_to_merge = columns_to_merge\n",
    "        self.columns_to_skip = columns_to_skip\n",
    "        self.columns_to_drop_at = columns_to_drop_at\n",
    "        \n",
    "    def unify_columns_format(self, column_data) -> pd.Series:\n",
    "        column_data.fillna(\"\", inplace=True)\n",
    "        if isinstance(column_data[0], str):\n",
    "            column_data = column_data.apply(lambda x : [x])\n",
    "        return column_data\n",
    "    \n",
    "    def clean_column_data(self, column_data) -> list:\n",
    "        return [list(filter(None, [\n",
    "                utils.clean_text(text)\n",
    "                for text in single_cell\n",
    "            ]))\n",
    "            for single_cell in tqdm(column_data, desc='Cleaning column')\n",
    "        ]\n",
    "    \n",
    "    def merge_columns(self, data, column_name) -> list:\n",
    "        result = data[self.columns_to_merge[column_name]] + data[column_name]\n",
    "        return result\n",
    "        \n",
    "    def filter_site_data(self, df: pd.DataFrame) -> pd.DataFrame:\n",
    "        data = df.copy(deep=True)\n",
    "        for column_name in tqdm(data.columns.drop(self.columns_to_skip)):\n",
    "            data[column_name] = self.unify_columns_format(data[column_name])\n",
    "\n",
    "        for column_name in tqdm(data.columns.drop(self.columns_to_skip), desc='For column:'):\n",
    "            if self.columns_to_merge and column_name in self.columns_to_merge.keys():\n",
    "                data[self.columns_to_merge[column_name]] = self.merge_columns(data, column_name)\n",
    "                data.drop(columns=[column_name], inplace=True)\n",
    "                continue\n",
    "            data[column_name] = self.clean_column_data(data[column_name])\n",
    "            if self.columns_to_drop_at and column_name in self.columns_to_drop_at:\n",
    "                data = data[data[column_name].map(lambda x: len(x) > 0)]\n",
    "        data.reset_index(drop=True, inplace=True)\n",
    "        return data\n",
    "        \n",
    "    def remove_lead_from_text(self, row):\n",
    "        elements_to_remove = [\n",
    "            idx for idx, element in enumerate(row.text) if element in row.lead \n",
    "        ]\n",
    "        for idx in reversed(elements_to_remove):\n",
    "            del row.text[idx]\n",
    "        return row.text\n",
    "\n",
    "    def separate_lead_from_text(self, data, file_names):\n",
    "        for file_name in tqdm(file_names, desc='Article group'):\n",
    "            for it, row in data[file_name][['lead', 'text']].iterrows():\n",
    "                if bool(set(row.lead) & set(row.text)):\n",
    "                    self.remove_lead_from_text(row)"
   ]
  },
  {
   "cell_type": "code",
   "execution_count": 9,
   "metadata": {},
   "outputs": [],
   "source": [
    "file_reader = FilesReader(data_paths='../PLArticlesScraper/PLArticlesScraper/scrapy_output/')"
   ]
  },
  {
   "cell_type": "code",
   "execution_count": 10,
   "metadata": {
    "scrolled": true
   },
   "outputs": [],
   "source": [
    "file_reader.read_json_lines_files()"
   ]
  },
  {
   "cell_type": "markdown",
   "metadata": {},
   "source": [
    "# Filter annd clean data"
   ]
  },
  {
   "cell_type": "code",
   "execution_count": 11,
   "metadata": {},
   "outputs": [],
   "source": [
    "columns_to_merge = {\n",
    "    'text_list': 'text', \n",
    "    'text_main_points': 'text',\n",
    "}"
   ]
  },
  {
   "cell_type": "code",
   "execution_count": 12,
   "metadata": {},
   "outputs": [],
   "source": [
    "textFilterer = TextFilterer(columns_to_merge=columns_to_merge, columns_to_drop_at=['title', 'lead', 'text'])"
   ]
  },
  {
   "cell_type": "code",
   "execution_count": 13,
   "metadata": {},
   "outputs": [
    {
     "data": {
      "application/vnd.jupyter.widget-view+json": {
       "model_id": "832c339dde26491cae098c4446a4b1ae",
       "version_major": 2,
       "version_minor": 0
      },
      "text/plain": [
       "HBox(children=(FloatProgress(value=0.0, max=16.0), HTML(value='')))"
      ]
     },
     "metadata": {},
     "output_type": "display_data"
    },
    {
     "name": "stdout",
     "output_type": "stream",
     "text": [
      "bankier\n"
     ]
    },
    {
     "data": {
      "application/vnd.jupyter.widget-view+json": {
       "model_id": "3c35027ecbbf4b96a0e0325f3e3fe139",
       "version_major": 2,
       "version_minor": 0
      },
      "text/plain": [
       "HBox(children=(FloatProgress(value=0.0, max=4.0), HTML(value='')))"
      ]
     },
     "metadata": {},
     "output_type": "display_data"
    },
    {
     "name": "stdout",
     "output_type": "stream",
     "text": [
      "\n"
     ]
    },
    {
     "data": {
      "application/vnd.jupyter.widget-view+json": {
       "model_id": "2a4cfbd1bb704fd3b46cfbb2ffa5bbe9",
       "version_major": 2,
       "version_minor": 0
      },
      "text/plain": [
       "HBox(children=(FloatProgress(value=0.0, description='For column:', max=4.0, style=ProgressStyle(description_wi…"
      ]
     },
     "metadata": {},
     "output_type": "display_data"
    },
    {
     "data": {
      "application/vnd.jupyter.widget-view+json": {
       "model_id": "2eca6564425b4235aba60f21af1096b5",
       "version_major": 2,
       "version_minor": 0
      },
      "text/plain": [
       "HBox(children=(FloatProgress(value=0.0, description='Cleaning column', max=3809.0, style=ProgressStyle(descrip…"
      ]
     },
     "metadata": {},
     "output_type": "display_data"
    },
    {
     "name": "stdout",
     "output_type": "stream",
     "text": [
      "\n"
     ]
    },
    {
     "data": {
      "application/vnd.jupyter.widget-view+json": {
       "model_id": "b1dfe3cc783f49689d327159dc0ca579",
       "version_major": 2,
       "version_minor": 0
      },
      "text/plain": [
       "HBox(children=(FloatProgress(value=0.0, description='Cleaning column', max=3809.0, style=ProgressStyle(descrip…"
      ]
     },
     "metadata": {},
     "output_type": "display_data"
    },
    {
     "name": "stdout",
     "output_type": "stream",
     "text": [
      "\n"
     ]
    },
    {
     "data": {
      "application/vnd.jupyter.widget-view+json": {
       "model_id": "2957653323434e05b2b7764ea6e63c75",
       "version_major": 2,
       "version_minor": 0
      },
      "text/plain": [
       "HBox(children=(FloatProgress(value=0.0, description='Cleaning column', max=3280.0, style=ProgressStyle(descrip…"
      ]
     },
     "metadata": {},
     "output_type": "display_data"
    },
    {
     "name": "stdout",
     "output_type": "stream",
     "text": [
      "\n",
      "\n",
      "bankier_moto\n"
     ]
    },
    {
     "data": {
      "application/vnd.jupyter.widget-view+json": {
       "model_id": "2b376b88710e4815b8502c560913b604",
       "version_major": 2,
       "version_minor": 0
      },
      "text/plain": [
       "HBox(children=(FloatProgress(value=0.0, max=3.0), HTML(value='')))"
      ]
     },
     "metadata": {},
     "output_type": "display_data"
    },
    {
     "name": "stdout",
     "output_type": "stream",
     "text": [
      "\n"
     ]
    },
    {
     "data": {
      "application/vnd.jupyter.widget-view+json": {
       "model_id": "0fc51e73a0e14dfc8375288c0f0ba86f",
       "version_major": 2,
       "version_minor": 0
      },
      "text/plain": [
       "HBox(children=(FloatProgress(value=0.0, description='For column:', max=3.0, style=ProgressStyle(description_wi…"
      ]
     },
     "metadata": {},
     "output_type": "display_data"
    },
    {
     "data": {
      "application/vnd.jupyter.widget-view+json": {
       "model_id": "5a219537ff604ab5b8c1fd6a28dba069",
       "version_major": 2,
       "version_minor": 0
      },
      "text/plain": [
       "HBox(children=(FloatProgress(value=0.0, description='Cleaning column', max=797.0, style=ProgressStyle(descript…"
      ]
     },
     "metadata": {},
     "output_type": "display_data"
    },
    {
     "name": "stdout",
     "output_type": "stream",
     "text": [
      "\n"
     ]
    },
    {
     "data": {
      "application/vnd.jupyter.widget-view+json": {
       "model_id": "98db75a4680f42dc8be8a8805cb12efd",
       "version_major": 2,
       "version_minor": 0
      },
      "text/plain": [
       "HBox(children=(FloatProgress(value=0.0, description='Cleaning column', max=784.0, style=ProgressStyle(descript…"
      ]
     },
     "metadata": {},
     "output_type": "display_data"
    },
    {
     "name": "stdout",
     "output_type": "stream",
     "text": [
      "\n"
     ]
    },
    {
     "data": {
      "application/vnd.jupyter.widget-view+json": {
       "model_id": "4cf353394a0846f68b50ec918c03b803",
       "version_major": 2,
       "version_minor": 0
      },
      "text/plain": [
       "HBox(children=(FloatProgress(value=0.0, description='Cleaning column', max=662.0, style=ProgressStyle(descript…"
      ]
     },
     "metadata": {},
     "output_type": "display_data"
    },
    {
     "name": "stdout",
     "output_type": "stream",
     "text": [
      "\n",
      "\n",
      "bryla\n"
     ]
    },
    {
     "data": {
      "application/vnd.jupyter.widget-view+json": {
       "model_id": "4c88352cf25040f6b1453dc571289f0d",
       "version_major": 2,
       "version_minor": 0
      },
      "text/plain": [
       "HBox(children=(FloatProgress(value=0.0, max=3.0), HTML(value='')))"
      ]
     },
     "metadata": {},
     "output_type": "display_data"
    },
    {
     "name": "stdout",
     "output_type": "stream",
     "text": [
      "\n"
     ]
    },
    {
     "data": {
      "application/vnd.jupyter.widget-view+json": {
       "model_id": "af96b8cea98c4d63950eeec88d9e743c",
       "version_major": 2,
       "version_minor": 0
      },
      "text/plain": [
       "HBox(children=(FloatProgress(value=0.0, description='For column:', max=3.0, style=ProgressStyle(description_wi…"
      ]
     },
     "metadata": {},
     "output_type": "display_data"
    },
    {
     "data": {
      "application/vnd.jupyter.widget-view+json": {
       "model_id": "5c937d0da8ce48d88c96d072645cb902",
       "version_major": 2,
       "version_minor": 0
      },
      "text/plain": [
       "HBox(children=(FloatProgress(value=0.0, description='Cleaning column', max=4702.0, style=ProgressStyle(descrip…"
      ]
     },
     "metadata": {},
     "output_type": "display_data"
    },
    {
     "name": "stdout",
     "output_type": "stream",
     "text": [
      "\n"
     ]
    },
    {
     "data": {
      "application/vnd.jupyter.widget-view+json": {
       "model_id": "266326fb9e424866b5fe1e9990fc2a1a",
       "version_major": 2,
       "version_minor": 0
      },
      "text/plain": [
       "HBox(children=(FloatProgress(value=0.0, description='Cleaning column', max=4702.0, style=ProgressStyle(descrip…"
      ]
     },
     "metadata": {},
     "output_type": "display_data"
    },
    {
     "name": "stdout",
     "output_type": "stream",
     "text": [
      "\n"
     ]
    },
    {
     "data": {
      "application/vnd.jupyter.widget-view+json": {
       "model_id": "5fe125b7ffb04234830398b7dc9658aa",
       "version_major": 2,
       "version_minor": 0
      },
      "text/plain": [
       "HBox(children=(FloatProgress(value=0.0, description='Cleaning column', max=4701.0, style=ProgressStyle(descrip…"
      ]
     },
     "metadata": {},
     "output_type": "display_data"
    },
    {
     "name": "stdout",
     "output_type": "stream",
     "text": [
      "\n",
      "\n",
      "gazetakrakowska\n"
     ]
    },
    {
     "data": {
      "application/vnd.jupyter.widget-view+json": {
       "model_id": "9657dc1e65ca4dd8b3f7da10d2c2c62f",
       "version_major": 2,
       "version_minor": 0
      },
      "text/plain": [
       "HBox(children=(FloatProgress(value=0.0, max=3.0), HTML(value='')))"
      ]
     },
     "metadata": {},
     "output_type": "display_data"
    },
    {
     "name": "stdout",
     "output_type": "stream",
     "text": [
      "\n"
     ]
    },
    {
     "data": {
      "application/vnd.jupyter.widget-view+json": {
       "model_id": "e99be25ce5454ec2bd30e5a54f74ae8a",
       "version_major": 2,
       "version_minor": 0
      },
      "text/plain": [
       "HBox(children=(FloatProgress(value=0.0, description='For column:', max=3.0, style=ProgressStyle(description_wi…"
      ]
     },
     "metadata": {},
     "output_type": "display_data"
    },
    {
     "data": {
      "application/vnd.jupyter.widget-view+json": {
       "model_id": "84638ecd47d94fc8addec355293cb189",
       "version_major": 2,
       "version_minor": 0
      },
      "text/plain": [
       "HBox(children=(FloatProgress(value=0.0, description='Cleaning column', max=12946.0, style=ProgressStyle(descri…"
      ]
     },
     "metadata": {},
     "output_type": "display_data"
    },
    {
     "name": "stdout",
     "output_type": "stream",
     "text": [
      "\n"
     ]
    },
    {
     "data": {
      "application/vnd.jupyter.widget-view+json": {
       "model_id": "fb33f9c2e23541faae0ab925d97c1b01",
       "version_major": 2,
       "version_minor": 0
      },
      "text/plain": [
       "HBox(children=(FloatProgress(value=0.0, description='Cleaning column', max=12671.0, style=ProgressStyle(descri…"
      ]
     },
     "metadata": {},
     "output_type": "display_data"
    },
    {
     "name": "stdout",
     "output_type": "stream",
     "text": [
      "\n"
     ]
    },
    {
     "data": {
      "application/vnd.jupyter.widget-view+json": {
       "model_id": "1cc79079a29b40638e72ee423893d1b1",
       "version_major": 2,
       "version_minor": 0
      },
      "text/plain": [
       "HBox(children=(FloatProgress(value=0.0, description='Cleaning column', max=12649.0, style=ProgressStyle(descri…"
      ]
     },
     "metadata": {},
     "output_type": "display_data"
    },
    {
     "name": "stdout",
     "output_type": "stream",
     "text": [
      "\n",
      "\n",
      "krakowwpigulce\n"
     ]
    },
    {
     "data": {
      "application/vnd.jupyter.widget-view+json": {
       "model_id": "9c71e20476f448f39230a7151b40e0a7",
       "version_major": 2,
       "version_minor": 0
      },
      "text/plain": [
       "HBox(children=(FloatProgress(value=0.0, max=3.0), HTML(value='')))"
      ]
     },
     "metadata": {},
     "output_type": "display_data"
    },
    {
     "name": "stdout",
     "output_type": "stream",
     "text": [
      "\n"
     ]
    },
    {
     "data": {
      "application/vnd.jupyter.widget-view+json": {
       "model_id": "c7823717fbdb4efd94f2b14f08373a6b",
       "version_major": 2,
       "version_minor": 0
      },
      "text/plain": [
       "HBox(children=(FloatProgress(value=0.0, description='For column:', max=3.0, style=ProgressStyle(description_wi…"
      ]
     },
     "metadata": {},
     "output_type": "display_data"
    },
    {
     "data": {
      "application/vnd.jupyter.widget-view+json": {
       "model_id": "b5ffa98d16f248d4b4318c463ae8a8c4",
       "version_major": 2,
       "version_minor": 0
      },
      "text/plain": [
       "HBox(children=(FloatProgress(value=0.0, description='Cleaning column', max=5905.0, style=ProgressStyle(descrip…"
      ]
     },
     "metadata": {},
     "output_type": "display_data"
    },
    {
     "name": "stdout",
     "output_type": "stream",
     "text": [
      "\n"
     ]
    },
    {
     "data": {
      "application/vnd.jupyter.widget-view+json": {
       "model_id": "d121886b4fc1459db34e4e9039305f04",
       "version_major": 2,
       "version_minor": 0
      },
      "text/plain": [
       "HBox(children=(FloatProgress(value=0.0, description='Cleaning column', max=5903.0, style=ProgressStyle(descrip…"
      ]
     },
     "metadata": {},
     "output_type": "display_data"
    },
    {
     "name": "stdout",
     "output_type": "stream",
     "text": [
      "\n"
     ]
    },
    {
     "data": {
      "application/vnd.jupyter.widget-view+json": {
       "model_id": "86e4283f5d4d4e29a7023931bef9d7fb",
       "version_major": 2,
       "version_minor": 0
      },
      "text/plain": [
       "HBox(children=(FloatProgress(value=0.0, description='Cleaning column', max=5675.0, style=ProgressStyle(descrip…"
      ]
     },
     "metadata": {},
     "output_type": "display_data"
    },
    {
     "name": "stdout",
     "output_type": "stream",
     "text": [
      "\n",
      "\n",
      "mamstartup\n"
     ]
    },
    {
     "data": {
      "application/vnd.jupyter.widget-view+json": {
       "model_id": "3f072f40be4f4f9aa6858ec5e56bbf1a",
       "version_major": 2,
       "version_minor": 0
      },
      "text/plain": [
       "HBox(children=(FloatProgress(value=0.0, max=4.0), HTML(value='')))"
      ]
     },
     "metadata": {},
     "output_type": "display_data"
    },
    {
     "name": "stdout",
     "output_type": "stream",
     "text": [
      "\n"
     ]
    },
    {
     "data": {
      "application/vnd.jupyter.widget-view+json": {
       "model_id": "950f8849590946edb326fc42962836b5",
       "version_major": 2,
       "version_minor": 0
      },
      "text/plain": [
       "HBox(children=(FloatProgress(value=0.0, description='For column:', max=4.0, style=ProgressStyle(description_wi…"
      ]
     },
     "metadata": {},
     "output_type": "display_data"
    },
    {
     "data": {
      "application/vnd.jupyter.widget-view+json": {
       "model_id": "d33dfdf9d49c45c19336f38105b6a68a",
       "version_major": 2,
       "version_minor": 0
      },
      "text/plain": [
       "HBox(children=(FloatProgress(value=0.0, description='Cleaning column', max=93.0, style=ProgressStyle(descripti…"
      ]
     },
     "metadata": {},
     "output_type": "display_data"
    },
    {
     "name": "stdout",
     "output_type": "stream",
     "text": [
      "\n"
     ]
    },
    {
     "data": {
      "application/vnd.jupyter.widget-view+json": {
       "model_id": "00d7abee1e9d4bd6bc41e26f02d91c85",
       "version_major": 2,
       "version_minor": 0
      },
      "text/plain": [
       "HBox(children=(FloatProgress(value=0.0, description='Cleaning column', max=93.0, style=ProgressStyle(descripti…"
      ]
     },
     "metadata": {},
     "output_type": "display_data"
    },
    {
     "name": "stdout",
     "output_type": "stream",
     "text": [
      "\n"
     ]
    },
    {
     "data": {
      "application/vnd.jupyter.widget-view+json": {
       "model_id": "32dacbad0fc944ae94a654447a467201",
       "version_major": 2,
       "version_minor": 0
      },
      "text/plain": [
       "HBox(children=(FloatProgress(value=0.0, description='Cleaning column', max=93.0, style=ProgressStyle(descripti…"
      ]
     },
     "metadata": {},
     "output_type": "display_data"
    },
    {
     "name": "stdout",
     "output_type": "stream",
     "text": [
      "\n",
      "\n",
      "naszemiasto\n"
     ]
    },
    {
     "data": {
      "application/vnd.jupyter.widget-view+json": {
       "model_id": "b66e0159b824451b9af0797ba88855c8",
       "version_major": 2,
       "version_minor": 0
      },
      "text/plain": [
       "HBox(children=(FloatProgress(value=0.0, max=3.0), HTML(value='')))"
      ]
     },
     "metadata": {},
     "output_type": "display_data"
    },
    {
     "name": "stdout",
     "output_type": "stream",
     "text": [
      "\n"
     ]
    },
    {
     "data": {
      "application/vnd.jupyter.widget-view+json": {
       "model_id": "5649b1950c1044f8a8b9cf04e719479d",
       "version_major": 2,
       "version_minor": 0
      },
      "text/plain": [
       "HBox(children=(FloatProgress(value=0.0, description='For column:', max=3.0, style=ProgressStyle(description_wi…"
      ]
     },
     "metadata": {},
     "output_type": "display_data"
    },
    {
     "data": {
      "application/vnd.jupyter.widget-view+json": {
       "model_id": "f78b0807d2a8420c83d2f9f8e395c49d",
       "version_major": 2,
       "version_minor": 0
      },
      "text/plain": [
       "HBox(children=(FloatProgress(value=0.0, description='Cleaning column', max=356.0, style=ProgressStyle(descript…"
      ]
     },
     "metadata": {},
     "output_type": "display_data"
    },
    {
     "name": "stdout",
     "output_type": "stream",
     "text": [
      "\n"
     ]
    },
    {
     "data": {
      "application/vnd.jupyter.widget-view+json": {
       "model_id": "e45f926ddd7a4708aa14d0f3d6dafd7b",
       "version_major": 2,
       "version_minor": 0
      },
      "text/plain": [
       "HBox(children=(FloatProgress(value=0.0, description='Cleaning column', max=348.0, style=ProgressStyle(descript…"
      ]
     },
     "metadata": {},
     "output_type": "display_data"
    },
    {
     "name": "stdout",
     "output_type": "stream",
     "text": [
      "\n"
     ]
    },
    {
     "data": {
      "application/vnd.jupyter.widget-view+json": {
       "model_id": "20b328b3418d4d28b6259c8ecdee6a16",
       "version_major": 2,
       "version_minor": 0
      },
      "text/plain": [
       "HBox(children=(FloatProgress(value=0.0, description='Cleaning column', max=343.0, style=ProgressStyle(descript…"
      ]
     },
     "metadata": {},
     "output_type": "display_data"
    },
    {
     "name": "stdout",
     "output_type": "stream",
     "text": [
      "\n",
      "\n",
      "nowiny24\n"
     ]
    },
    {
     "data": {
      "application/vnd.jupyter.widget-view+json": {
       "model_id": "5da86713e5cf4c48af42f941615a56e7",
       "version_major": 2,
       "version_minor": 0
      },
      "text/plain": [
       "HBox(children=(FloatProgress(value=0.0, max=3.0), HTML(value='')))"
      ]
     },
     "metadata": {},
     "output_type": "display_data"
    },
    {
     "name": "stdout",
     "output_type": "stream",
     "text": [
      "\n"
     ]
    },
    {
     "data": {
      "application/vnd.jupyter.widget-view+json": {
       "model_id": "5ad700d1081a477a8473891eea0a1d70",
       "version_major": 2,
       "version_minor": 0
      },
      "text/plain": [
       "HBox(children=(FloatProgress(value=0.0, description='For column:', max=3.0, style=ProgressStyle(description_wi…"
      ]
     },
     "metadata": {},
     "output_type": "display_data"
    },
    {
     "data": {
      "application/vnd.jupyter.widget-view+json": {
       "model_id": "aa4ae937000c47d784b1de251e50144f",
       "version_major": 2,
       "version_minor": 0
      },
      "text/plain": [
       "HBox(children=(FloatProgress(value=0.0, description='Cleaning column', max=67651.0, style=ProgressStyle(descri…"
      ]
     },
     "metadata": {},
     "output_type": "display_data"
    },
    {
     "name": "stdout",
     "output_type": "stream",
     "text": [
      "\n"
     ]
    },
    {
     "data": {
      "application/vnd.jupyter.widget-view+json": {
       "model_id": "c6eb3a84ab834e359f0cf0f2afa60c41",
       "version_major": 2,
       "version_minor": 0
      },
      "text/plain": [
       "HBox(children=(FloatProgress(value=0.0, description='Cleaning column', max=59371.0, style=ProgressStyle(descri…"
      ]
     },
     "metadata": {},
     "output_type": "display_data"
    },
    {
     "name": "stdout",
     "output_type": "stream",
     "text": [
      "\n"
     ]
    },
    {
     "data": {
      "application/vnd.jupyter.widget-view+json": {
       "model_id": "38ab30e00bf14a6b96f5922e95e4449a",
       "version_major": 2,
       "version_minor": 0
      },
      "text/plain": [
       "HBox(children=(FloatProgress(value=0.0, description='Cleaning column', max=57759.0, style=ProgressStyle(descri…"
      ]
     },
     "metadata": {},
     "output_type": "display_data"
    },
    {
     "name": "stdout",
     "output_type": "stream",
     "text": [
      "\n",
      "\n",
      "nowymarketing\n"
     ]
    },
    {
     "data": {
      "application/vnd.jupyter.widget-view+json": {
       "model_id": "f5817ddc12b94cc89e2d3c696bdd917a",
       "version_major": 2,
       "version_minor": 0
      },
      "text/plain": [
       "HBox(children=(FloatProgress(value=0.0, max=3.0), HTML(value='')))"
      ]
     },
     "metadata": {},
     "output_type": "display_data"
    },
    {
     "name": "stdout",
     "output_type": "stream",
     "text": [
      "\n"
     ]
    },
    {
     "data": {
      "application/vnd.jupyter.widget-view+json": {
       "model_id": "cf7ab7ddd6ed47aaaf3e6ab77053744a",
       "version_major": 2,
       "version_minor": 0
      },
      "text/plain": [
       "HBox(children=(FloatProgress(value=0.0, description='For column:', max=3.0, style=ProgressStyle(description_wi…"
      ]
     },
     "metadata": {},
     "output_type": "display_data"
    },
    {
     "data": {
      "application/vnd.jupyter.widget-view+json": {
       "model_id": "cde2666a80c64866bba2e6caa6c05275",
       "version_major": 2,
       "version_minor": 0
      },
      "text/plain": [
       "HBox(children=(FloatProgress(value=0.0, description='Cleaning column', max=5280.0, style=ProgressStyle(descrip…"
      ]
     },
     "metadata": {},
     "output_type": "display_data"
    },
    {
     "name": "stdout",
     "output_type": "stream",
     "text": [
      "\n"
     ]
    },
    {
     "data": {
      "application/vnd.jupyter.widget-view+json": {
       "model_id": "2cdd67399d0b44feaf8af9487f250bdc",
       "version_major": 2,
       "version_minor": 0
      },
      "text/plain": [
       "HBox(children=(FloatProgress(value=0.0, description='Cleaning column', max=5280.0, style=ProgressStyle(descrip…"
      ]
     },
     "metadata": {},
     "output_type": "display_data"
    },
    {
     "name": "stdout",
     "output_type": "stream",
     "text": [
      "\n"
     ]
    },
    {
     "data": {
      "application/vnd.jupyter.widget-view+json": {
       "model_id": "1b972588d32a4bf9a305c1b4500923e1",
       "version_major": 2,
       "version_minor": 0
      },
      "text/plain": [
       "HBox(children=(FloatProgress(value=0.0, description='Cleaning column', max=5244.0, style=ProgressStyle(descrip…"
      ]
     },
     "metadata": {},
     "output_type": "display_data"
    },
    {
     "name": "stdout",
     "output_type": "stream",
     "text": [
      "\n",
      "\n",
      "polki\n"
     ]
    },
    {
     "data": {
      "application/vnd.jupyter.widget-view+json": {
       "model_id": "1a525000292642468826fac49deff8c9",
       "version_major": 2,
       "version_minor": 0
      },
      "text/plain": [
       "HBox(children=(FloatProgress(value=0.0, max=3.0), HTML(value='')))"
      ]
     },
     "metadata": {},
     "output_type": "display_data"
    },
    {
     "name": "stdout",
     "output_type": "stream",
     "text": [
      "\n"
     ]
    },
    {
     "data": {
      "application/vnd.jupyter.widget-view+json": {
       "model_id": "373a7e23799f463b881beb27101ecfc4",
       "version_major": 2,
       "version_minor": 0
      },
      "text/plain": [
       "HBox(children=(FloatProgress(value=0.0, description='For column:', max=3.0, style=ProgressStyle(description_wi…"
      ]
     },
     "metadata": {},
     "output_type": "display_data"
    },
    {
     "data": {
      "application/vnd.jupyter.widget-view+json": {
       "model_id": "8f187a61ea6e405d8bb755ef35bf2ba3",
       "version_major": 2,
       "version_minor": 0
      },
      "text/plain": [
       "HBox(children=(FloatProgress(value=0.0, description='Cleaning column', max=25686.0, style=ProgressStyle(descri…"
      ]
     },
     "metadata": {},
     "output_type": "display_data"
    },
    {
     "name": "stdout",
     "output_type": "stream",
     "text": [
      "\n"
     ]
    },
    {
     "data": {
      "application/vnd.jupyter.widget-view+json": {
       "model_id": "30479f655daf442995e349bc5236fe20",
       "version_major": 2,
       "version_minor": 0
      },
      "text/plain": [
       "HBox(children=(FloatProgress(value=0.0, description='Cleaning column', max=25650.0, style=ProgressStyle(descri…"
      ]
     },
     "metadata": {},
     "output_type": "display_data"
    },
    {
     "name": "stdout",
     "output_type": "stream",
     "text": [
      "\n"
     ]
    },
    {
     "data": {
      "application/vnd.jupyter.widget-view+json": {
       "model_id": "32dbe9249fd2433a82eba19010f5c1c4",
       "version_major": 2,
       "version_minor": 0
      },
      "text/plain": [
       "HBox(children=(FloatProgress(value=0.0, description='Cleaning column', max=25541.0, style=ProgressStyle(descri…"
      ]
     },
     "metadata": {},
     "output_type": "display_data"
    },
    {
     "name": "stdout",
     "output_type": "stream",
     "text": [
      "\n",
      "\n",
      "spidersweb\n"
     ]
    },
    {
     "data": {
      "application/vnd.jupyter.widget-view+json": {
       "model_id": "6ffec7ca3f7c4247b64ab312a7fdf6f4",
       "version_major": 2,
       "version_minor": 0
      },
      "text/plain": [
       "HBox(children=(FloatProgress(value=0.0, max=3.0), HTML(value='')))"
      ]
     },
     "metadata": {},
     "output_type": "display_data"
    },
    {
     "name": "stdout",
     "output_type": "stream",
     "text": [
      "\n"
     ]
    },
    {
     "data": {
      "application/vnd.jupyter.widget-view+json": {
       "model_id": "2892ed62e7d447558ac2539f11d8ddd0",
       "version_major": 2,
       "version_minor": 0
      },
      "text/plain": [
       "HBox(children=(FloatProgress(value=0.0, description='For column:', max=3.0, style=ProgressStyle(description_wi…"
      ]
     },
     "metadata": {},
     "output_type": "display_data"
    },
    {
     "data": {
      "application/vnd.jupyter.widget-view+json": {
       "model_id": "5c70981b93ab46b1a220a92d39780b5c",
       "version_major": 2,
       "version_minor": 0
      },
      "text/plain": [
       "HBox(children=(FloatProgress(value=0.0, description='Cleaning column', max=29133.0, style=ProgressStyle(descri…"
      ]
     },
     "metadata": {},
     "output_type": "display_data"
    },
    {
     "name": "stdout",
     "output_type": "stream",
     "text": [
      "\n"
     ]
    },
    {
     "data": {
      "application/vnd.jupyter.widget-view+json": {
       "model_id": "ff744e45bd214b9599fe6dba2a63c717",
       "version_major": 2,
       "version_minor": 0
      },
      "text/plain": [
       "HBox(children=(FloatProgress(value=0.0, description='Cleaning column', max=29117.0, style=ProgressStyle(descri…"
      ]
     },
     "metadata": {},
     "output_type": "display_data"
    },
    {
     "name": "stdout",
     "output_type": "stream",
     "text": [
      "\n"
     ]
    },
    {
     "data": {
      "application/vnd.jupyter.widget-view+json": {
       "model_id": "84c1887f54fc4ed8a242bdc3636cae2e",
       "version_major": 2,
       "version_minor": 0
      },
      "text/plain": [
       "HBox(children=(FloatProgress(value=0.0, description='Cleaning column', max=28241.0, style=ProgressStyle(descri…"
      ]
     },
     "metadata": {},
     "output_type": "display_data"
    },
    {
     "name": "stdout",
     "output_type": "stream",
     "text": [
      "\n",
      "\n",
      "sport\n"
     ]
    },
    {
     "data": {
      "application/vnd.jupyter.widget-view+json": {
       "model_id": "2b0fc6686ec14260ab40e335b3f025a2",
       "version_major": 2,
       "version_minor": 0
      },
      "text/plain": [
       "HBox(children=(FloatProgress(value=0.0, max=3.0), HTML(value='')))"
      ]
     },
     "metadata": {},
     "output_type": "display_data"
    },
    {
     "name": "stdout",
     "output_type": "stream",
     "text": [
      "\n"
     ]
    },
    {
     "data": {
      "application/vnd.jupyter.widget-view+json": {
       "model_id": "300dd59218d649bbbec0007ea95e1e8f",
       "version_major": 2,
       "version_minor": 0
      },
      "text/plain": [
       "HBox(children=(FloatProgress(value=0.0, description='For column:', max=3.0, style=ProgressStyle(description_wi…"
      ]
     },
     "metadata": {},
     "output_type": "display_data"
    },
    {
     "data": {
      "application/vnd.jupyter.widget-view+json": {
       "model_id": "9bbb9feaad75478eab8c23d163a41204",
       "version_major": 2,
       "version_minor": 0
      },
      "text/plain": [
       "HBox(children=(FloatProgress(value=0.0, description='Cleaning column', max=78389.0, style=ProgressStyle(descri…"
      ]
     },
     "metadata": {},
     "output_type": "display_data"
    },
    {
     "name": "stdout",
     "output_type": "stream",
     "text": [
      "\n"
     ]
    },
    {
     "data": {
      "application/vnd.jupyter.widget-view+json": {
       "model_id": "cfaa6864d7a2458db88bf3b48dacd36c",
       "version_major": 2,
       "version_minor": 0
      },
      "text/plain": [
       "HBox(children=(FloatProgress(value=0.0, description='Cleaning column', max=78374.0, style=ProgressStyle(descri…"
      ]
     },
     "metadata": {},
     "output_type": "display_data"
    },
    {
     "name": "stdout",
     "output_type": "stream",
     "text": [
      "\n"
     ]
    },
    {
     "data": {
      "application/vnd.jupyter.widget-view+json": {
       "model_id": "a36a340d5ca646e38665b1626710a740",
       "version_major": 2,
       "version_minor": 0
      },
      "text/plain": [
       "HBox(children=(FloatProgress(value=0.0, description='Cleaning column', max=73189.0, style=ProgressStyle(descri…"
      ]
     },
     "metadata": {},
     "output_type": "display_data"
    },
    {
     "name": "stdout",
     "output_type": "stream",
     "text": [
      "\n",
      "\n",
      "strefainwestorow\n"
     ]
    },
    {
     "data": {
      "application/vnd.jupyter.widget-view+json": {
       "model_id": "50f08c5ddeb8461c8937fd07db0d51fb",
       "version_major": 2,
       "version_minor": 0
      },
      "text/plain": [
       "HBox(children=(FloatProgress(value=0.0, max=3.0), HTML(value='')))"
      ]
     },
     "metadata": {},
     "output_type": "display_data"
    },
    {
     "name": "stdout",
     "output_type": "stream",
     "text": [
      "\n"
     ]
    },
    {
     "data": {
      "application/vnd.jupyter.widget-view+json": {
       "model_id": "0517d004a1a14063b91e31c6bf2b194b",
       "version_major": 2,
       "version_minor": 0
      },
      "text/plain": [
       "HBox(children=(FloatProgress(value=0.0, description='For column:', max=3.0, style=ProgressStyle(description_wi…"
      ]
     },
     "metadata": {},
     "output_type": "display_data"
    },
    {
     "data": {
      "application/vnd.jupyter.widget-view+json": {
       "model_id": "5825321d080847909abe4e812f49d2b3",
       "version_major": 2,
       "version_minor": 0
      },
      "text/plain": [
       "HBox(children=(FloatProgress(value=0.0, description='Cleaning column', max=3536.0, style=ProgressStyle(descrip…"
      ]
     },
     "metadata": {},
     "output_type": "display_data"
    },
    {
     "name": "stdout",
     "output_type": "stream",
     "text": [
      "\n"
     ]
    },
    {
     "data": {
      "application/vnd.jupyter.widget-view+json": {
       "model_id": "da65b705a5544c67882110e26e2b8ac9",
       "version_major": 2,
       "version_minor": 0
      },
      "text/plain": [
       "HBox(children=(FloatProgress(value=0.0, description='Cleaning column', max=3535.0, style=ProgressStyle(descrip…"
      ]
     },
     "metadata": {},
     "output_type": "display_data"
    },
    {
     "name": "stdout",
     "output_type": "stream",
     "text": [
      "\n"
     ]
    },
    {
     "data": {
      "application/vnd.jupyter.widget-view+json": {
       "model_id": "9ea16efcc8314a5a8d38be3107cbea8a",
       "version_major": 2,
       "version_minor": 0
      },
      "text/plain": [
       "HBox(children=(FloatProgress(value=0.0, description='Cleaning column', max=3473.0, style=ProgressStyle(descrip…"
      ]
     },
     "metadata": {},
     "output_type": "display_data"
    },
    {
     "name": "stdout",
     "output_type": "stream",
     "text": [
      "\n",
      "\n",
      "sztukaarchitektury\n"
     ]
    },
    {
     "data": {
      "application/vnd.jupyter.widget-view+json": {
       "model_id": "f3a3b8d685d948c18085dd5428760abf",
       "version_major": 2,
       "version_minor": 0
      },
      "text/plain": [
       "HBox(children=(FloatProgress(value=0.0, max=3.0), HTML(value='')))"
      ]
     },
     "metadata": {},
     "output_type": "display_data"
    },
    {
     "name": "stdout",
     "output_type": "stream",
     "text": [
      "\n"
     ]
    },
    {
     "data": {
      "application/vnd.jupyter.widget-view+json": {
       "model_id": "641be9092f1b49ecb3c47570eb4103fd",
       "version_major": 2,
       "version_minor": 0
      },
      "text/plain": [
       "HBox(children=(FloatProgress(value=0.0, description='For column:', max=3.0, style=ProgressStyle(description_wi…"
      ]
     },
     "metadata": {},
     "output_type": "display_data"
    },
    {
     "data": {
      "application/vnd.jupyter.widget-view+json": {
       "model_id": "e97ae543e6b742a886dd96fc4c241994",
       "version_major": 2,
       "version_minor": 0
      },
      "text/plain": [
       "HBox(children=(FloatProgress(value=0.0, description='Cleaning column', max=3939.0, style=ProgressStyle(descrip…"
      ]
     },
     "metadata": {},
     "output_type": "display_data"
    },
    {
     "name": "stdout",
     "output_type": "stream",
     "text": [
      "\n"
     ]
    },
    {
     "data": {
      "application/vnd.jupyter.widget-view+json": {
       "model_id": "3abf1d2ce6534e34aa4f6de5ab80a07b",
       "version_major": 2,
       "version_minor": 0
      },
      "text/plain": [
       "HBox(children=(FloatProgress(value=0.0, description='Cleaning column', max=3930.0, style=ProgressStyle(descrip…"
      ]
     },
     "metadata": {},
     "output_type": "display_data"
    },
    {
     "name": "stdout",
     "output_type": "stream",
     "text": [
      "\n"
     ]
    },
    {
     "data": {
      "application/vnd.jupyter.widget-view+json": {
       "model_id": "643f6e2a4b9a48fd8dabc096bd186b5f",
       "version_major": 2,
       "version_minor": 0
      },
      "text/plain": [
       "HBox(children=(FloatProgress(value=0.0, description='Cleaning column', max=3930.0, style=ProgressStyle(descrip…"
      ]
     },
     "metadata": {},
     "output_type": "display_data"
    },
    {
     "name": "stdout",
     "output_type": "stream",
     "text": [
      "\n",
      "\n",
      "wirtualnemedia_biznes\n"
     ]
    },
    {
     "data": {
      "application/vnd.jupyter.widget-view+json": {
       "model_id": "183a72ed152e4a3f90de3818401b6948",
       "version_major": 2,
       "version_minor": 0
      },
      "text/plain": [
       "HBox(children=(FloatProgress(value=0.0, max=3.0), HTML(value='')))"
      ]
     },
     "metadata": {},
     "output_type": "display_data"
    },
    {
     "name": "stdout",
     "output_type": "stream",
     "text": [
      "\n"
     ]
    },
    {
     "data": {
      "application/vnd.jupyter.widget-view+json": {
       "model_id": "a07b9f03b11647e1aaf1d48b1c2bcc68",
       "version_major": 2,
       "version_minor": 0
      },
      "text/plain": [
       "HBox(children=(FloatProgress(value=0.0, description='For column:', max=3.0, style=ProgressStyle(description_wi…"
      ]
     },
     "metadata": {},
     "output_type": "display_data"
    },
    {
     "data": {
      "application/vnd.jupyter.widget-view+json": {
       "model_id": "1ab712fabe854a2dba27f8ca65f421d9",
       "version_major": 2,
       "version_minor": 0
      },
      "text/plain": [
       "HBox(children=(FloatProgress(value=0.0, description='Cleaning column', max=6664.0, style=ProgressStyle(descrip…"
      ]
     },
     "metadata": {},
     "output_type": "display_data"
    },
    {
     "name": "stdout",
     "output_type": "stream",
     "text": [
      "\n"
     ]
    },
    {
     "data": {
      "application/vnd.jupyter.widget-view+json": {
       "model_id": "43073437af664c2283cd6124e7698db5",
       "version_major": 2,
       "version_minor": 0
      },
      "text/plain": [
       "HBox(children=(FloatProgress(value=0.0, description='Cleaning column', max=6664.0, style=ProgressStyle(descrip…"
      ]
     },
     "metadata": {},
     "output_type": "display_data"
    },
    {
     "name": "stdout",
     "output_type": "stream",
     "text": [
      "\n"
     ]
    },
    {
     "data": {
      "application/vnd.jupyter.widget-view+json": {
       "model_id": "4b565db3e0e8437c94ec323979a12ba4",
       "version_major": 2,
       "version_minor": 0
      },
      "text/plain": [
       "HBox(children=(FloatProgress(value=0.0, description='Cleaning column', max=6658.0, style=ProgressStyle(descrip…"
      ]
     },
     "metadata": {},
     "output_type": "display_data"
    },
    {
     "name": "stdout",
     "output_type": "stream",
     "text": [
      "\n",
      "\n",
      "wnp\n"
     ]
    },
    {
     "data": {
      "application/vnd.jupyter.widget-view+json": {
       "model_id": "f517a6ff3d7e47a4a58c5c477711a84b",
       "version_major": 2,
       "version_minor": 0
      },
      "text/plain": [
       "HBox(children=(FloatProgress(value=0.0, max=4.0), HTML(value='')))"
      ]
     },
     "metadata": {},
     "output_type": "display_data"
    },
    {
     "name": "stdout",
     "output_type": "stream",
     "text": [
      "\n"
     ]
    },
    {
     "data": {
      "application/vnd.jupyter.widget-view+json": {
       "model_id": "7489c7b14721482ba94902282cd2d76d",
       "version_major": 2,
       "version_minor": 0
      },
      "text/plain": [
       "HBox(children=(FloatProgress(value=0.0, description='For column:', max=4.0, style=ProgressStyle(description_wi…"
      ]
     },
     "metadata": {},
     "output_type": "display_data"
    },
    {
     "data": {
      "application/vnd.jupyter.widget-view+json": {
       "model_id": "aefaac38468f428dba0155104615a0e4",
       "version_major": 2,
       "version_minor": 0
      },
      "text/plain": [
       "HBox(children=(FloatProgress(value=0.0, description='Cleaning column', max=476.0, style=ProgressStyle(descript…"
      ]
     },
     "metadata": {},
     "output_type": "display_data"
    },
    {
     "name": "stdout",
     "output_type": "stream",
     "text": [
      "\n"
     ]
    },
    {
     "data": {
      "application/vnd.jupyter.widget-view+json": {
       "model_id": "fe932ea3348341238757b272c2acb5d2",
       "version_major": 2,
       "version_minor": 0
      },
      "text/plain": [
       "HBox(children=(FloatProgress(value=0.0, description='Cleaning column', max=476.0, style=ProgressStyle(descript…"
      ]
     },
     "metadata": {},
     "output_type": "display_data"
    },
    {
     "name": "stdout",
     "output_type": "stream",
     "text": [
      "\n"
     ]
    },
    {
     "data": {
      "application/vnd.jupyter.widget-view+json": {
       "model_id": "82618defa02749e4bdfda2cd922e1645",
       "version_major": 2,
       "version_minor": 0
      },
      "text/plain": [
       "HBox(children=(FloatProgress(value=0.0, description='Cleaning column', max=476.0, style=ProgressStyle(descript…"
      ]
     },
     "metadata": {},
     "output_type": "display_data"
    },
    {
     "name": "stdout",
     "output_type": "stream",
     "text": [
      "\n",
      "\n",
      "\n"
     ]
    }
   ],
   "source": [
    "data_filtered = {}\n",
    "for site in tqdm(file_reader.file_names):\n",
    "    print(site)\n",
    "    data_filtered[site] = textFilterer.filter_site_data(file_reader.data[site])"
   ]
  },
  {
   "cell_type": "code",
   "execution_count": 14,
   "metadata": {},
   "outputs": [
    {
     "data": {
      "application/vnd.jupyter.widget-view+json": {
       "model_id": "8836965b01404c669cb3b0d2095d1fc8",
       "version_major": 2,
       "version_minor": 0
      },
      "text/plain": [
       "HBox(children=(FloatProgress(value=0.0, description='Article group', max=16.0, style=ProgressStyle(description…"
      ]
     },
     "metadata": {},
     "output_type": "display_data"
    },
    {
     "name": "stdout",
     "output_type": "stream",
     "text": [
      "\n"
     ]
    }
   ],
   "source": [
    "textFilterer.separate_lead_from_text(data_filtered, file_reader.file_names)"
   ]
  },
  {
   "cell_type": "code",
   "execution_count": null,
   "metadata": {},
   "outputs": [],
   "source": [
    "gc.collect()"
   ]
  },
  {
   "cell_type": "markdown",
   "metadata": {},
   "source": [
    "## Merge and save\n",
    "Merge and save filtered and cleaned data"
   ]
  },
  {
   "cell_type": "code",
   "execution_count": 15,
   "metadata": {},
   "outputs": [],
   "source": [
    "for file_name in data_filtered.keys():\n",
    "    data_filtered[file_name].to_pickle('../data/filtered_data/filtered_data_' + file_name + '.pkl')"
   ]
  },
  {
   "cell_type": "code",
   "execution_count": 259,
   "metadata": {},
   "outputs": [],
   "source": [
    "data_filtered = {}\n",
    "for file_name in file_reader.file_names:\n",
    "    data_filtered[file_name] = pd.read_pickle('../data/filtered_data/filtered_data_' + file_name + '.pkl')"
   ]
  },
  {
   "cell_type": "code",
   "execution_count": 70,
   "metadata": {},
   "outputs": [],
   "source": [
    "def merge_data(dataframe, file_names):\n",
    "    dfs = []\n",
    "    for site in file_names:\n",
    "        df = dataframe[site].copy(deep=True)\n",
    "        df['site'] = site\n",
    "        dfs.append(df)\n",
    "    df_all = pd.concat(dfs, ignore_index=True)\n",
    "    return df_all"
   ]
  },
  {
   "cell_type": "code",
   "execution_count": 71,
   "metadata": {},
   "outputs": [],
   "source": [
    "data_all = merge_data(\n",
    "    dataframe=data_filtered, \n",
    "    file_names=file_reader.file_names, \n",
    ")"
   ]
  },
  {
   "cell_type": "code",
   "execution_count": 72,
   "metadata": {},
   "outputs": [],
   "source": [
    "data_all.to_pickle('../data/filtered_data/polish_articles.pkl')"
   ]
  },
  {
   "cell_type": "markdown",
   "metadata": {},
   "source": [
    "## Plot histograms\n",
    "Plot histograms of data length prior to trimming"
   ]
  },
  {
   "cell_type": "code",
   "execution_count": 87,
   "metadata": {},
   "outputs": [],
   "source": [
    "class Plotter:\n",
    "    def __init__(self):\n",
    "        pass\n",
    "    \n",
    "    def plot_data_for_columns(self, data, file_names, column, bins=25, max_percentile=1, x_limit=None, normalize=False, alpha=0.8):\n",
    "        plt.figure(figsize=(16, 8))\n",
    "        for i, file_name in enumerate(file_names):\n",
    "            file_dataframe = data[file_name]\n",
    "            file_dataframe = file_dataframe[file_dataframe[column].map(lambda x: len(utils.strip_text(x))) < \\\n",
    "                file_dataframe[column].map(lambda x: len(utils.strip_text(x))).quantile(max_percentile)\n",
    "            ]\n",
    "            try:\n",
    "                file_dataframe.applymap(lambda x: len(utils.strip_text(x)))[column].plot.hist(\n",
    "                    bins=bins, title=f'Length of {column}s', label=file_name, legend=True, logy=True, \n",
    "                    density=1 if normalize else None, color=plt.cm.tab20(i), alpha=alpha\n",
    "                )\n",
    "            except TypeError:\n",
    "                continue\n",
    "        plt.show()\n",
    "        \n",
    "    def plot_data_for_single_column(self, data, file_names, column, bins=25, max_percentile=1, x_limit=None, normalize=False):\n",
    "        for i, file_name in enumerate(file_names):\n",
    "            plt.figure(figsize=(12, 5))\n",
    "            file_dataframe = data[file_name]\n",
    "            file_dataframe = file_dataframe[file_dataframe[column].map(lambda x: len(utils.strip_text(x))) < \\\n",
    "                file_dataframe[column].map(lambda x: len(utils.strip_text(x))).quantile(max_percentile)\n",
    "            ]\n",
    "            try:\n",
    "                file_dataframe.applymap(lambda x: len(utils.strip_text(x)))[column].plot.hist(\n",
    "                    bins=bins, title=f'Length of {column}s', label=file_name, legend=True, logy=False, \n",
    "                    density=1 if normalize else None, color=plt.cm.tab20(i), alpha=1\n",
    "                )\n",
    "            except TypeError:\n",
    "                continue\n",
    "            plt.show()"
   ]
  },
  {
   "cell_type": "code",
   "execution_count": 88,
   "metadata": {},
   "outputs": [],
   "source": [
    "plotter = Plotter()"
   ]
  },
  {
   "cell_type": "code",
   "execution_count": 89,
   "metadata": {
    "scrolled": false
   },
   "outputs": [
    {
     "data": {
      "image/png": "[encoded data removed]",
      "text/plain": [
       "<Figure size 1152x576 with 1 Axes>"
      ]
     },
     "metadata": {
      "needs_background": "light"
     },
     "output_type": "display_data"
    }
   ],
   "source": [
    "plotter.plot_data_for_columns(data_filtered, file_reader.file_names, column='title', max_percentile=1, alpha=.5)"
   ]
  },
  {
   "cell_type": "code",
   "execution_count": 90,
   "metadata": {
    "scrolled": false
   },
   "outputs": [
    {
     "data": {
      "image/png": "[encoded data removed]",
      "text/plain": [
       "<Figure size 1152x576 with 1 Axes>"
      ]
     },
     "metadata": {
      "needs_background": "light"
     },
     "output_type": "display_data"
    }
   ],
   "source": [
    "plotter.plot_data_for_columns(data_filtered, file_reader.file_names, bins=50, column='lead', max_percentile=.9, alpha=.5)"
   ]
  },
  {
   "cell_type": "code",
   "execution_count": 91,
   "metadata": {
    "scrolled": true
   },
   "outputs": [
    {
     "data": {
      "image/png": "[encoded data removed]",
      "text/plain": [
       "<Figure size 1152x576 with 1 Axes>"
      ]
     },
     "metadata": {
      "needs_background": "light"
     },
     "output_type": "display_data"
    }
   ],
   "source": [
    "plotter.plot_data_for_columns(data_filtered, file_reader.file_names, bins=50, column='text', max_percentile=.9, alpha=.5)"
   ]
  },
  {
   "cell_type": "code",
   "execution_count": 93,
   "metadata": {
    "scrolled": true
   },
   "outputs": [
    {
     "data": {
      "image/png": "[encoded data removed]",
      "text/plain": [
       "<Figure size 864x360 with 1 Axes>"
      ]
     },
     "metadata": {
      "needs_background": "light"
     },
     "output_type": "display_data"
    },
    {
     "data": {
      "image/png": "[encoded data removed]",
      "text/plain": [
       "<Figure size 864x360 with 1 Axes>"
      ]
     },
     "metadata": {
      "needs_background": "light"
     },
     "output_type": "display_data"
    },
    {
     "data": {
      "image/png": "[encoded data removed]",
      "text/plain": [
       "<Figure size 864x360 with 1 Axes>"
      ]
     },
     "metadata": {
      "needs_background": "light"
     },
     "output_type": "display_data"
    },
    {
     "data": {
      "image/png": "[encoded data removed]",
      "text/plain": [
       "<Figure size 864x360 with 1 Axes>"
      ]
     },
     "metadata": {
      "needs_background": "light"
     },
     "output_type": "display_data"
    },
    {
     "data": {
      "image/png": "[encoded data removed]",
      "text/plain": [
       "<Figure size 864x360 with 1 Axes>"
      ]
     },
     "metadata": {
      "needs_background": "light"
     },
     "output_type": "display_data"
    },
    {
     "data": {
      "image/png": "[encoded data removed]",
      "text/plain": [
       "<Figure size 864x360 with 1 Axes>"
      ]
     },
     "metadata": {
      "needs_background": "light"
     },
     "output_type": "display_data"
    },
    {
     "data": {
      "image/png": "[encoded data removed]",
      "text/plain": [
       "<Figure size 864x360 with 1 Axes>"
      ]
     },
     "metadata": {
      "needs_background": "light"
     },
     "output_type": "display_data"
    },
    {
     "data": {
      "image/png": "[encoded data removed]",
      "text/plain": [
       "<Figure size 864x360 with 1 Axes>"
      ]
     },
     "metadata": {
      "needs_background": "light"
     },
     "output_type": "display_data"
    },
    {
     "data": {
      "image/png": "[encoded data removed]",
      "text/plain": [
       "<Figure size 864x360 with 1 Axes>"
      ]
     },
     "metadata": {
      "needs_background": "light"
     },
     "output_type": "display_data"
    },
    {
     "data": {
      "image/png": "[encoded data removed]",
      "text/plain": [
       "<Figure size 864x360 with 1 Axes>"
      ]
     },
     "metadata": {
      "needs_background": "light"
     },
     "output_type": "display_data"
    },
    {
     "data": {
      "image/png": "[encoded data removed]",
      "text/plain": [
       "<Figure size 864x360 with 1 Axes>"
      ]
     },
     "metadata": {
      "needs_background": "light"
     },
     "output_type": "display_data"
    },
    {
     "data": {
      "image/png": "[encoded data removed]",
      "text/plain": [
       "<Figure size 864x360 with 1 Axes>"
      ]
     },
     "metadata": {
      "needs_background": "light"
     },
     "output_type": "display_data"
    },
    {
     "data": {
      "image/png": "[encoded data removed]",
      "text/plain": [
       "<Figure size 864x360 with 1 Axes>"
      ]
     },
     "metadata": {
      "needs_background": "light"
     },
     "output_type": "display_data"
    },
    {
     "data": {
      "image/png": "[encoded data removed]",
      "text/plain": [
       "<Figure size 864x360 with 1 Axes>"
      ]
     },
     "metadata": {
      "needs_background": "light"
     },
     "output_type": "display_data"
    },
    {
     "data": {
      "image/png": "[encoded data removed]",
      "text/plain": [
       "<Figure size 864x360 with 1 Axes>"
      ]
     },
     "metadata": {
      "needs_background": "light"
     },
     "output_type": "display_data"
    },
    {
     "data": {
      "image/png": "[encoded data removed]",
      "text/plain": [
       "<Figure size 864x360 with 1 Axes>"
      ]
     },
     "metadata": {
      "needs_background": "light"
     },
     "output_type": "display_data"
    }
   ],
   "source": [
    "plotter.plot_data_for_single_column(data_filtered, file_reader.file_names, column='lead', max_percentile=.9)"
   ]
  },
  {
   "cell_type": "markdown",
   "metadata": {},
   "source": [
    "# Trim data \n",
    "Trim data by length of texts\n",
    "Trimming is performed only on **lead** and **text** columns"
   ]
  },
  {
   "cell_type": "code",
   "execution_count": 302,
   "metadata": {},
   "outputs": [],
   "source": [
    "lengthFilterer = LengthFilterer(title_lead_length_limit=(10, 100), text_length_limit=(40, 500))"
   ]
  },
  {
   "cell_type": "code",
   "execution_count": 293,
   "metadata": {},
   "outputs": [
    {
     "data": {
      "application/vnd.jupyter.widget-view+json": {
       "model_id": "cfe3b4fae8ed47b293522693abb0a786",
       "version_major": 2,
       "version_minor": 0
      },
      "text/plain": [
       "HBox(children=(FloatProgress(value=0.0, max=2.0), HTML(value='')))"
      ]
     },
     "metadata": {},
     "output_type": "display_data"
    },
    {
     "data": {
      "application/vnd.jupyter.widget-view+json": {
       "model_id": "e2d7bf76cfb44303adac554a16f1112a",
       "version_major": 2,
       "version_minor": 0
      },
      "text/plain": [
       "HBox(children=(FloatProgress(value=0.0, max=10661.0), HTML(value='')))"
      ]
     },
     "metadata": {},
     "output_type": "display_data"
    },
    {
     "name": "stdout",
     "output_type": "stream",
     "text": [
      "\n"
     ]
    },
    {
     "data": {
      "application/vnd.jupyter.widget-view+json": {
       "model_id": "f7705df99b3d4ca7b8e6bb87a6de2ce1",
       "version_major": 2,
       "version_minor": 0
      },
      "text/plain": [
       "HBox(children=(FloatProgress(value=0.0, max=9564.0), HTML(value='')))"
      ]
     },
     "metadata": {},
     "output_type": "display_data"
    },
    {
     "name": "stdout",
     "output_type": "stream",
     "text": [
      "\n",
      "\n"
     ]
    },
    {
     "data": {
      "text/html": [
       "<div>\n",
       "<style scoped>\n",
       "    .dataframe tbody tr th:only-of-type {\n",
       "        vertical-align: middle;\n",
       "    }\n",
       "\n",
       "    .dataframe tbody tr th {\n",
       "        vertical-align: top;\n",
       "    }\n",
       "\n",
       "    .dataframe thead th {\n",
       "        text-align: right;\n",
       "    }\n",
       "</style>\n",
       "<table border=\"1\" class=\"dataframe\">\n",
       "  <thead>\n",
       "    <tr style=\"text-align: right;\">\n",
       "      <th></th>\n",
       "      <th>url</th>\n",
       "      <th>title</th>\n",
       "      <th>lead</th>\n",
       "      <th>text</th>\n",
       "    </tr>\n",
       "  </thead>\n",
       "  <tbody>\n",
       "    <tr>\n",
       "      <th>0</th>\n",
       "      <td>https://gazetakrakowska.pl/jordanow-w-nocy-spl...</td>\n",
       "      <td>[Jordanów. W nocy spłonął tartak. Niemal 70 st...</td>\n",
       "      <td>nocny pożar w Jordanów w powiat suski . w płom...</td>\n",
       "      <td>ogień zostać zauważyć o godz. 3.30 w noc . na ...</td>\n",
       "    </tr>\n",
       "    <tr>\n",
       "      <th>1</th>\n",
       "      <td>https://gazetakrakowska.pl/koronawirus-w-nowym...</td>\n",
       "      <td>[Koronawirus w Nowym Sączu. Wracający z zagran...</td>\n",
       "      <td>sądeczanin który wracać do dom z zagranica mus...</td>\n",
       "      <td>wiele sądeczanin pracować zagranica w związek ...</td>\n",
       "    </tr>\n",
       "    <tr>\n",
       "      <th>2</th>\n",
       "      <td>https://gazetakrakowska.pl/krakow-trwa-budowa-...</td>\n",
       "      <td>[Kraków. Trwa budowa wodnego placu zabaw w par...</td>\n",
       "      <td>postępywać praca związane z budowa wodny plac ...</td>\n",
       "      <td>wodny plac zabawa w park Jordan to jeden z zad...</td>\n",
       "    </tr>\n",
       "    <tr>\n",
       "      <th>3</th>\n",
       "      <td>https://gazetakrakowska.pl/koronawirus-tarnow-...</td>\n",
       "      <td>[Koronawirus Tarnów. Wracający z zagranicy nie...</td>\n",
       "      <td>mieszkaniec Tarnów i region który planować pow...</td>\n",
       "      <td>pani Katarzyn spod Tarnów pracować dotąd w wie...</td>\n",
       "    </tr>\n",
       "    <tr>\n",
       "      <th>4</th>\n",
       "      <td>https://gazetakrakowska.pl/koronawirus-francis...</td>\n",
       "      <td>[Koronawirus. Franciszkanie z Krakowa zachęcaj...</td>\n",
       "      <td>w trakt walka z epidemia koronawirusa w Polska...</td>\n",
       "      <td>powstawać różny inicjatywa jak wspierać ten kt...</td>\n",
       "    </tr>\n",
       "  </tbody>\n",
       "</table>\n",
       "</div>"
      ],
      "text/plain": [
       "                                                 url  \\\n",
       "0  https://gazetakrakowska.pl/jordanow-w-nocy-spl...   \n",
       "1  https://gazetakrakowska.pl/koronawirus-w-nowym...   \n",
       "2  https://gazetakrakowska.pl/krakow-trwa-budowa-...   \n",
       "3  https://gazetakrakowska.pl/koronawirus-tarnow-...   \n",
       "4  https://gazetakrakowska.pl/koronawirus-francis...   \n",
       "\n",
       "                                               title  \\\n",
       "0  [Jordanów. W nocy spłonął tartak. Niemal 70 st...   \n",
       "1  [Koronawirus w Nowym Sączu. Wracający z zagran...   \n",
       "2  [Kraków. Trwa budowa wodnego placu zabaw w par...   \n",
       "3  [Koronawirus Tarnów. Wracający z zagranicy nie...   \n",
       "4  [Koronawirus. Franciszkanie z Krakowa zachęcaj...   \n",
       "\n",
       "                                                lead  \\\n",
       "0  nocny pożar w Jordanów w powiat suski . w płom...   \n",
       "1  sądeczanin który wracać do dom z zagranica mus...   \n",
       "2  postępywać praca związane z budowa wodny plac ...   \n",
       "3  mieszkaniec Tarnów i region który planować pow...   \n",
       "4  w trakt walka z epidemia koronawirusa w Polska...   \n",
       "\n",
       "                                                text  \n",
       "0  ogień zostać zauważyć o godz. 3.30 w noc . na ...  \n",
       "1  wiele sądeczanin pracować zagranica w związek ...  \n",
       "2  wodny plac zabawa w park Jordan to jeden z zad...  \n",
       "3  pani Katarzyn spod Tarnów pracować dotąd w wie...  \n",
       "4  powstawać różny inicjatywa jak wspierać ten kt...  "
      ]
     },
     "execution_count": 293,
     "metadata": {},
     "output_type": "execute_result"
    }
   ],
   "source": [
    "test_filtered = lengthFilterer.filter_site_data(data_filtered['gazetakrakowska'])\n",
    "test_filtered.head()"
   ]
  },
  {
   "cell_type": "markdown",
   "metadata": {},
   "source": [
    "### Max length of trimmed data"
   ]
  },
  {
   "cell_type": "code",
   "execution_count": 303,
   "metadata": {},
   "outputs": [
    {
     "data": {
      "text/plain": [
       "url        1\n",
       "title     20\n",
       "lead      81\n",
       "text     500\n",
       "dtype: int64"
      ]
     },
     "execution_count": 303,
     "metadata": {},
     "output_type": "execute_result"
    }
   ],
   "source": [
    "test_filtered.applymap(lambda x: len(\" \".join(x).strip().split()) if isinstance(x, list) else len(x.strip().split())).max()"
   ]
  },
  {
   "cell_type": "markdown",
   "metadata": {},
   "source": [
    "### Min length of trimmed data"
   ]
  },
  {
   "cell_type": "code",
   "execution_count": 299,
   "metadata": {},
   "outputs": [
    {
     "data": {
      "text/plain": [
       "url       1\n",
       "title     4\n",
       "lead     20\n",
       "text     76\n",
       "dtype: int64"
      ]
     },
     "execution_count": 299,
     "metadata": {},
     "output_type": "execute_result"
    }
   ],
   "source": [
    "test_filtered.applymap(lambda x: len(\" \".join(x).strip().split()) if isinstance(x, list) else len(x.strip().split())).min()"
   ]
  },
  {
   "cell_type": "code",
   "execution_count": 304,
   "metadata": {},
   "outputs": [
    {
     "data": {
      "application/vnd.jupyter.widget-view+json": {
       "model_id": "1be76c9ba5e44124b8a776cb291625fd",
       "version_major": 2,
       "version_minor": 0
      },
      "text/plain": [
       "HBox(children=(FloatProgress(value=0.0, max=2.0), HTML(value='')))"
      ]
     },
     "metadata": {},
     "output_type": "display_data"
    },
    {
     "data": {
      "application/vnd.jupyter.widget-view+json": {
       "model_id": "8340907de8da43d194da5e077af91cd1",
       "version_major": 2,
       "version_minor": 0
      },
      "text/plain": [
       "HBox(children=(FloatProgress(value=0.0, max=3236.0), HTML(value='')))"
      ]
     },
     "metadata": {},
     "output_type": "display_data"
    },
    {
     "name": "stdout",
     "output_type": "stream",
     "text": [
      "\n"
     ]
    },
    {
     "data": {
      "application/vnd.jupyter.widget-view+json": {
       "model_id": "b4ae0136d8c74e7ab868a728e41f7055",
       "version_major": 2,
       "version_minor": 0
      },
      "text/plain": [
       "HBox(children=(FloatProgress(value=0.0, max=3179.0), HTML(value='')))"
      ]
     },
     "metadata": {},
     "output_type": "display_data"
    },
    {
     "name": "stdout",
     "output_type": "stream",
     "text": [
      "\n",
      "\n"
     ]
    },
    {
     "data": {
      "application/vnd.jupyter.widget-view+json": {
       "model_id": "da6286df50ee41a6a54f22f5937435d2",
       "version_major": 2,
       "version_minor": 0
      },
      "text/plain": [
       "HBox(children=(FloatProgress(value=0.0, max=2.0), HTML(value='')))"
      ]
     },
     "metadata": {},
     "output_type": "display_data"
    },
    {
     "data": {
      "application/vnd.jupyter.widget-view+json": {
       "model_id": "7d89316e5a8f4b8091c54aa86bff15a5",
       "version_major": 2,
       "version_minor": 0
      },
      "text/plain": [
       "HBox(children=(FloatProgress(value=0.0, max=657.0), HTML(value='')))"
      ]
     },
     "metadata": {},
     "output_type": "display_data"
    },
    {
     "name": "stdout",
     "output_type": "stream",
     "text": [
      "\n"
     ]
    },
    {
     "data": {
      "application/vnd.jupyter.widget-view+json": {
       "model_id": "86da71bb1fc148719fa581b249338b59",
       "version_major": 2,
       "version_minor": 0
      },
      "text/plain": [
       "HBox(children=(FloatProgress(value=0.0, max=648.0), HTML(value='')))"
      ]
     },
     "metadata": {},
     "output_type": "display_data"
    },
    {
     "name": "stdout",
     "output_type": "stream",
     "text": [
      "\n",
      "\n"
     ]
    },
    {
     "data": {
      "application/vnd.jupyter.widget-view+json": {
       "model_id": "de0fd52a7b1240ee8665cdd5a3db887c",
       "version_major": 2,
       "version_minor": 0
      },
      "text/plain": [
       "HBox(children=(FloatProgress(value=0.0, max=2.0), HTML(value='')))"
      ]
     },
     "metadata": {},
     "output_type": "display_data"
    },
    {
     "data": {
      "application/vnd.jupyter.widget-view+json": {
       "model_id": "6a3718eb20ef4f51a55fc2fd2452d8d3",
       "version_major": 2,
       "version_minor": 0
      },
      "text/plain": [
       "HBox(children=(FloatProgress(value=0.0, max=3694.0), HTML(value='')))"
      ]
     },
     "metadata": {},
     "output_type": "display_data"
    },
    {
     "name": "stdout",
     "output_type": "stream",
     "text": [
      "\n"
     ]
    },
    {
     "data": {
      "application/vnd.jupyter.widget-view+json": {
       "model_id": "7ff3031d5d6a4b978f9085e3e4782d92",
       "version_major": 2,
       "version_minor": 0
      },
      "text/plain": [
       "HBox(children=(FloatProgress(value=0.0, max=3513.0), HTML(value='')))"
      ]
     },
     "metadata": {},
     "output_type": "display_data"
    },
    {
     "name": "stdout",
     "output_type": "stream",
     "text": [
      "\n",
      "\n"
     ]
    },
    {
     "data": {
      "application/vnd.jupyter.widget-view+json": {
       "model_id": "3d56f997cd574c67a2e7a1fa5aa508bc",
       "version_major": 2,
       "version_minor": 0
      },
      "text/plain": [
       "HBox(children=(FloatProgress(value=0.0, max=2.0), HTML(value='')))"
      ]
     },
     "metadata": {},
     "output_type": "display_data"
    },
    {
     "data": {
      "application/vnd.jupyter.widget-view+json": {
       "model_id": "e5b8b3aef7b94e9ca4183596cd37814f",
       "version_major": 2,
       "version_minor": 0
      },
      "text/plain": [
       "HBox(children=(FloatProgress(value=0.0, max=10661.0), HTML(value='')))"
      ]
     },
     "metadata": {},
     "output_type": "display_data"
    },
    {
     "name": "stdout",
     "output_type": "stream",
     "text": [
      "\n"
     ]
    },
    {
     "data": {
      "application/vnd.jupyter.widget-view+json": {
       "model_id": "67c145bd4ef5482aa2a58a94f1e8ccf1",
       "version_major": 2,
       "version_minor": 0
      },
      "text/plain": [
       "HBox(children=(FloatProgress(value=0.0, max=9564.0), HTML(value='')))"
      ]
     },
     "metadata": {},
     "output_type": "display_data"
    },
    {
     "name": "stdout",
     "output_type": "stream",
     "text": [
      "\n",
      "\n"
     ]
    },
    {
     "data": {
      "application/vnd.jupyter.widget-view+json": {
       "model_id": "d5aaf7a403be477fbd6e4be7899bb2d6",
       "version_major": 2,
       "version_minor": 0
      },
      "text/plain": [
       "HBox(children=(FloatProgress(value=0.0, max=2.0), HTML(value='')))"
      ]
     },
     "metadata": {},
     "output_type": "display_data"
    },
    {
     "data": {
      "application/vnd.jupyter.widget-view+json": {
       "model_id": "e12aa1bb3eac4b5e8d2853f9047dcfb0",
       "version_major": 2,
       "version_minor": 0
      },
      "text/plain": [
       "HBox(children=(FloatProgress(value=0.0, max=4883.0), HTML(value='')))"
      ]
     },
     "metadata": {},
     "output_type": "display_data"
    },
    {
     "name": "stdout",
     "output_type": "stream",
     "text": [
      "\n"
     ]
    },
    {
     "data": {
      "application/vnd.jupyter.widget-view+json": {
       "model_id": "5950b8ebaafe420d9e67ce62638bce5d",
       "version_major": 2,
       "version_minor": 0
      },
      "text/plain": [
       "HBox(children=(FloatProgress(value=0.0, max=3974.0), HTML(value='')))"
      ]
     },
     "metadata": {},
     "output_type": "display_data"
    },
    {
     "name": "stdout",
     "output_type": "stream",
     "text": [
      "\n",
      "\n"
     ]
    },
    {
     "data": {
      "application/vnd.jupyter.widget-view+json": {
       "model_id": "ffa00adceb8c44f2bd48810cf6660f12",
       "version_major": 2,
       "version_minor": 0
      },
      "text/plain": [
       "HBox(children=(FloatProgress(value=0.0, max=2.0), HTML(value='')))"
      ]
     },
     "metadata": {},
     "output_type": "display_data"
    },
    {
     "data": {
      "application/vnd.jupyter.widget-view+json": {
       "model_id": "3c070e5dafe94e25a6fcd14fbe8e86fc",
       "version_major": 2,
       "version_minor": 0
      },
      "text/plain": [
       "HBox(children=(FloatProgress(value=0.0, max=93.0), HTML(value='')))"
      ]
     },
     "metadata": {},
     "output_type": "display_data"
    },
    {
     "name": "stdout",
     "output_type": "stream",
     "text": [
      "\n"
     ]
    },
    {
     "data": {
      "application/vnd.jupyter.widget-view+json": {
       "model_id": "3dcf282aa14a4460a2b69a134f11c5e7",
       "version_major": 2,
       "version_minor": 0
      },
      "text/plain": [
       "HBox(children=(FloatProgress(value=0.0, max=93.0), HTML(value='')))"
      ]
     },
     "metadata": {},
     "output_type": "display_data"
    },
    {
     "name": "stdout",
     "output_type": "stream",
     "text": [
      "\n",
      "\n"
     ]
    },
    {
     "data": {
      "application/vnd.jupyter.widget-view+json": {
       "model_id": "b2be94dbe5fc470fbe627983fccf05a8",
       "version_major": 2,
       "version_minor": 0
      },
      "text/plain": [
       "HBox(children=(FloatProgress(value=0.0, max=2.0), HTML(value='')))"
      ]
     },
     "metadata": {},
     "output_type": "display_data"
    },
    {
     "data": {
      "application/vnd.jupyter.widget-view+json": {
       "model_id": "f5b2e3243396497da2fb66bd659e8968",
       "version_major": 2,
       "version_minor": 0
      },
      "text/plain": [
       "HBox(children=(FloatProgress(value=0.0, max=270.0), HTML(value='')))"
      ]
     },
     "metadata": {},
     "output_type": "display_data"
    },
    {
     "name": "stdout",
     "output_type": "stream",
     "text": [
      "\n"
     ]
    },
    {
     "data": {
      "application/vnd.jupyter.widget-view+json": {
       "model_id": "6a4f1357c702475cbe7f77641e4ad26d",
       "version_major": 2,
       "version_minor": 0
      },
      "text/plain": [
       "HBox(children=(FloatProgress(value=0.0, max=258.0), HTML(value='')))"
      ]
     },
     "metadata": {},
     "output_type": "display_data"
    },
    {
     "name": "stdout",
     "output_type": "stream",
     "text": [
      "\n",
      "\n"
     ]
    },
    {
     "data": {
      "application/vnd.jupyter.widget-view+json": {
       "model_id": "2ee35429ebc34cd6b57622c677640f74",
       "version_major": 2,
       "version_minor": 0
      },
      "text/plain": [
       "HBox(children=(FloatProgress(value=0.0, max=2.0), HTML(value='')))"
      ]
     },
     "metadata": {},
     "output_type": "display_data"
    },
    {
     "data": {
      "application/vnd.jupyter.widget-view+json": {
       "model_id": "8b928f5a055d4cb3b6bf8bc6a8ca55c2",
       "version_major": 2,
       "version_minor": 0
      },
      "text/plain": [
       "HBox(children=(FloatProgress(value=0.0, max=54031.0), HTML(value='')))"
      ]
     },
     "metadata": {},
     "output_type": "display_data"
    },
    {
     "name": "stdout",
     "output_type": "stream",
     "text": [
      "\n"
     ]
    },
    {
     "data": {
      "application/vnd.jupyter.widget-view+json": {
       "model_id": "9941e81ee8fa4b8aab16599e3eb95347",
       "version_major": 2,
       "version_minor": 0
      },
      "text/plain": [
       "HBox(children=(FloatProgress(value=0.0, max=51863.0), HTML(value='')))"
      ]
     },
     "metadata": {},
     "output_type": "display_data"
    },
    {
     "name": "stdout",
     "output_type": "stream",
     "text": [
      "\n",
      "\n"
     ]
    },
    {
     "data": {
      "application/vnd.jupyter.widget-view+json": {
       "model_id": "8af3ef0a297d4de49793f8cf194f529f",
       "version_major": 2,
       "version_minor": 0
      },
      "text/plain": [
       "HBox(children=(FloatProgress(value=0.0, max=2.0), HTML(value='')))"
      ]
     },
     "metadata": {},
     "output_type": "display_data"
    },
    {
     "data": {
      "application/vnd.jupyter.widget-view+json": {
       "model_id": "ae13c7888c9e456585052babe4fcb5e6",
       "version_major": 2,
       "version_minor": 0
      },
      "text/plain": [
       "HBox(children=(FloatProgress(value=0.0, max=5143.0), HTML(value='')))"
      ]
     },
     "metadata": {},
     "output_type": "display_data"
    },
    {
     "name": "stdout",
     "output_type": "stream",
     "text": [
      "\n"
     ]
    },
    {
     "data": {
      "application/vnd.jupyter.widget-view+json": {
       "model_id": "d980db2ac1b04729a681a286effaf6f6",
       "version_major": 2,
       "version_minor": 0
      },
      "text/plain": [
       "HBox(children=(FloatProgress(value=0.0, max=2331.0), HTML(value='')))"
      ]
     },
     "metadata": {},
     "output_type": "display_data"
    },
    {
     "name": "stdout",
     "output_type": "stream",
     "text": [
      "\n",
      "\n"
     ]
    },
    {
     "data": {
      "application/vnd.jupyter.widget-view+json": {
       "model_id": "db6d6d4fa4df456299adf3e6596b798a",
       "version_major": 2,
       "version_minor": 0
      },
      "text/plain": [
       "HBox(children=(FloatProgress(value=0.0, max=2.0), HTML(value='')))"
      ]
     },
     "metadata": {},
     "output_type": "display_data"
    },
    {
     "data": {
      "application/vnd.jupyter.widget-view+json": {
       "model_id": "b6cce50bd32e4a7b82318e1423c73e50",
       "version_major": 2,
       "version_minor": 0
      },
      "text/plain": [
       "HBox(children=(FloatProgress(value=0.0, max=15605.0), HTML(value='')))"
      ]
     },
     "metadata": {},
     "output_type": "display_data"
    },
    {
     "name": "stdout",
     "output_type": "stream",
     "text": [
      "\n"
     ]
    },
    {
     "data": {
      "application/vnd.jupyter.widget-view+json": {
       "model_id": "e194bbe5de1e4130b9bc886309c88d6f",
       "version_major": 2,
       "version_minor": 0
      },
      "text/plain": [
       "HBox(children=(FloatProgress(value=0.0, max=14585.0), HTML(value='')))"
      ]
     },
     "metadata": {},
     "output_type": "display_data"
    },
    {
     "name": "stdout",
     "output_type": "stream",
     "text": [
      "\n",
      "\n"
     ]
    },
    {
     "data": {
      "application/vnd.jupyter.widget-view+json": {
       "model_id": "91cfa7c02c884793aa228b118357a509",
       "version_major": 2,
       "version_minor": 0
      },
      "text/plain": [
       "HBox(children=(FloatProgress(value=0.0, max=2.0), HTML(value='')))"
      ]
     },
     "metadata": {},
     "output_type": "display_data"
    },
    {
     "data": {
      "application/vnd.jupyter.widget-view+json": {
       "model_id": "780fe63501d948db914b26567ad5ca50",
       "version_major": 2,
       "version_minor": 0
      },
      "text/plain": [
       "HBox(children=(FloatProgress(value=0.0, max=27912.0), HTML(value='')))"
      ]
     },
     "metadata": {},
     "output_type": "display_data"
    },
    {
     "name": "stdout",
     "output_type": "stream",
     "text": [
      "\n"
     ]
    },
    {
     "data": {
      "application/vnd.jupyter.widget-view+json": {
       "model_id": "eaea603a1683491582092b914bbc10f2",
       "version_major": 2,
       "version_minor": 0
      },
      "text/plain": [
       "HBox(children=(FloatProgress(value=0.0, max=27893.0), HTML(value='')))"
      ]
     },
     "metadata": {},
     "output_type": "display_data"
    },
    {
     "name": "stdout",
     "output_type": "stream",
     "text": [
      "\n",
      "\n"
     ]
    },
    {
     "data": {
      "application/vnd.jupyter.widget-view+json": {
       "model_id": "4567e726437648acaf60ee9ceebcedd0",
       "version_major": 2,
       "version_minor": 0
      },
      "text/plain": [
       "HBox(children=(FloatProgress(value=0.0, max=2.0), HTML(value='')))"
      ]
     },
     "metadata": {},
     "output_type": "display_data"
    },
    {
     "data": {
      "application/vnd.jupyter.widget-view+json": {
       "model_id": "56384115a787434da1092aa0f5a4a4bf",
       "version_major": 2,
       "version_minor": 0
      },
      "text/plain": [
       "HBox(children=(FloatProgress(value=0.0, max=71940.0), HTML(value='')))"
      ]
     },
     "metadata": {},
     "output_type": "display_data"
    },
    {
     "name": "stdout",
     "output_type": "stream",
     "text": [
      "\n"
     ]
    },
    {
     "data": {
      "application/vnd.jupyter.widget-view+json": {
       "model_id": "d5a39c62a84845908dfcfa7156f1c681",
       "version_major": 2,
       "version_minor": 0
      },
      "text/plain": [
       "HBox(children=(FloatProgress(value=0.0, max=71348.0), HTML(value='')))"
      ]
     },
     "metadata": {},
     "output_type": "display_data"
    },
    {
     "name": "stdout",
     "output_type": "stream",
     "text": [
      "\n",
      "\n"
     ]
    },
    {
     "data": {
      "application/vnd.jupyter.widget-view+json": {
       "model_id": "3f339867f0ed4331a11a574a55a8695d",
       "version_major": 2,
       "version_minor": 0
      },
      "text/plain": [
       "HBox(children=(FloatProgress(value=0.0, max=2.0), HTML(value='')))"
      ]
     },
     "metadata": {},
     "output_type": "display_data"
    },
    {
     "data": {
      "application/vnd.jupyter.widget-view+json": {
       "model_id": "926443f76ac94a6eb88690aa6948ca2f",
       "version_major": 2,
       "version_minor": 0
      },
      "text/plain": [
       "HBox(children=(FloatProgress(value=0.0, max=3413.0), HTML(value='')))"
      ]
     },
     "metadata": {},
     "output_type": "display_data"
    },
    {
     "name": "stdout",
     "output_type": "stream",
     "text": [
      "\n"
     ]
    },
    {
     "data": {
      "application/vnd.jupyter.widget-view+json": {
       "model_id": "007d297648654c19b8d0199456b25415",
       "version_major": 2,
       "version_minor": 0
      },
      "text/plain": [
       "HBox(children=(FloatProgress(value=0.0, max=3408.0), HTML(value='')))"
      ]
     },
     "metadata": {},
     "output_type": "display_data"
    },
    {
     "name": "stdout",
     "output_type": "stream",
     "text": [
      "\n",
      "\n"
     ]
    },
    {
     "data": {
      "application/vnd.jupyter.widget-view+json": {
       "model_id": "eb3daed1d1e0407fa24774a201e7cbad",
       "version_major": 2,
       "version_minor": 0
      },
      "text/plain": [
       "HBox(children=(FloatProgress(value=0.0, max=2.0), HTML(value='')))"
      ]
     },
     "metadata": {},
     "output_type": "display_data"
    },
    {
     "data": {
      "application/vnd.jupyter.widget-view+json": {
       "model_id": "dbe3cf3b49d144cf9aca95a88cd2e041",
       "version_major": 2,
       "version_minor": 0
      },
      "text/plain": [
       "HBox(children=(FloatProgress(value=0.0, max=1139.0), HTML(value='')))"
      ]
     },
     "metadata": {},
     "output_type": "display_data"
    },
    {
     "name": "stdout",
     "output_type": "stream",
     "text": [
      "\n"
     ]
    },
    {
     "data": {
      "application/vnd.jupyter.widget-view+json": {
       "model_id": "ddf3ae41a4b84ffdb79f444877db743d",
       "version_major": 2,
       "version_minor": 0
      },
      "text/plain": [
       "HBox(children=(FloatProgress(value=0.0, max=1013.0), HTML(value='')))"
      ]
     },
     "metadata": {},
     "output_type": "display_data"
    },
    {
     "name": "stdout",
     "output_type": "stream",
     "text": [
      "\n",
      "\n"
     ]
    },
    {
     "data": {
      "application/vnd.jupyter.widget-view+json": {
       "model_id": "3905b281a12e4f33996b6da047fdad90",
       "version_major": 2,
       "version_minor": 0
      },
      "text/plain": [
       "HBox(children=(FloatProgress(value=0.0, max=2.0), HTML(value='')))"
      ]
     },
     "metadata": {},
     "output_type": "display_data"
    },
    {
     "data": {
      "application/vnd.jupyter.widget-view+json": {
       "model_id": "3add4195eb4f4bcba8d0463bc3497f7b",
       "version_major": 2,
       "version_minor": 0
      },
      "text/plain": [
       "HBox(children=(FloatProgress(value=0.0, max=6647.0), HTML(value='')))"
      ]
     },
     "metadata": {},
     "output_type": "display_data"
    },
    {
     "name": "stdout",
     "output_type": "stream",
     "text": [
      "\n"
     ]
    },
    {
     "data": {
      "application/vnd.jupyter.widget-view+json": {
       "model_id": "5733fcbf7c6447fbbdd10ed87951075e",
       "version_major": 2,
       "version_minor": 0
      },
      "text/plain": [
       "HBox(children=(FloatProgress(value=0.0, max=6645.0), HTML(value='')))"
      ]
     },
     "metadata": {},
     "output_type": "display_data"
    },
    {
     "name": "stdout",
     "output_type": "stream",
     "text": [
      "\n",
      "\n"
     ]
    },
    {
     "data": {
      "application/vnd.jupyter.widget-view+json": {
       "model_id": "2ecfd3c769c24ed7881090c60898b904",
       "version_major": 2,
       "version_minor": 0
      },
      "text/plain": [
       "HBox(children=(FloatProgress(value=0.0, max=2.0), HTML(value='')))"
      ]
     },
     "metadata": {},
     "output_type": "display_data"
    },
    {
     "data": {
      "application/vnd.jupyter.widget-view+json": {
       "model_id": "28da622a88a346a4b2fa4fabb1db44df",
       "version_major": 2,
       "version_minor": 0
      },
      "text/plain": [
       "HBox(children=(FloatProgress(value=0.0, max=249.0), HTML(value='')))"
      ]
     },
     "metadata": {},
     "output_type": "display_data"
    },
    {
     "name": "stdout",
     "output_type": "stream",
     "text": [
      "\n"
     ]
    },
    {
     "data": {
      "application/vnd.jupyter.widget-view+json": {
       "model_id": "f214afb843ee4cfea80e41f119825fe2",
       "version_major": 2,
       "version_minor": 0
      },
      "text/plain": [
       "HBox(children=(FloatProgress(value=0.0, max=214.0), HTML(value='')))"
      ]
     },
     "metadata": {},
     "output_type": "display_data"
    },
    {
     "name": "stdout",
     "output_type": "stream",
     "text": [
      "\n",
      "\n"
     ]
    }
   ],
   "source": [
    "data_trimmed = {}\n",
    "for file_name in file_reader.file_names:\n",
    "    data_trimmed[file_name] = lengthFilterer.filter_site_data(data_filtered[file_name])"
   ]
  },
  {
   "cell_type": "code",
   "execution_count": null,
   "metadata": {},
   "outputs": [],
   "source": [
    "gc.collect()"
   ]
  },
  {
   "cell_type": "code",
   "execution_count": 305,
   "metadata": {},
   "outputs": [],
   "source": [
    "for file_name in data_trimmed.keys():\n",
    "    data_trimmed[file_name].to_pickle('../data/filtered_data/trimmed_data_' + file_name + '.pkl')"
   ]
  },
  {
   "cell_type": "markdown",
   "metadata": {},
   "source": [
    "## Merge and save\n",
    "Merge and save trimmed data"
   ]
  },
  {
   "cell_type": "code",
   "execution_count": 306,
   "metadata": {},
   "outputs": [],
   "source": [
    "data_all_trimmed = merge_data(\n",
    "    dataframe=data_trimmed, \n",
    "    file_names=file_reader.file_names, \n",
    ")"
   ]
  },
  {
   "cell_type": "code",
   "execution_count": 307,
   "metadata": {
    "scrolled": true
   },
   "outputs": [
    {
     "data": {
      "text/html": [
       "<div>\n",
       "<style scoped>\n",
       "    .dataframe tbody tr th:only-of-type {\n",
       "        vertical-align: middle;\n",
       "    }\n",
       "\n",
       "    .dataframe tbody tr th {\n",
       "        vertical-align: top;\n",
       "    }\n",
       "\n",
       "    .dataframe thead th {\n",
       "        text-align: right;\n",
       "    }\n",
       "</style>\n",
       "<table border=\"1\" class=\"dataframe\">\n",
       "  <thead>\n",
       "    <tr style=\"text-align: right;\">\n",
       "      <th></th>\n",
       "      <th>url</th>\n",
       "      <th>title</th>\n",
       "      <th>lead</th>\n",
       "      <th>text</th>\n",
       "      <th>site</th>\n",
       "    </tr>\n",
       "  </thead>\n",
       "  <tbody>\n",
       "    <tr>\n",
       "      <th>0</th>\n",
       "      <td>https://www.bankier.pl/wiadomosc/UOKiK-chce-za...</td>\n",
       "      <td>[UOKiK chce zawieszenia spłaty kredytów. KNF T...</td>\n",
       "      <td>komisja nadzór finansowy traktować propozycja ...</td>\n",
       "      <td>analizować on teraz z punkt widzenie odpowiedn...</td>\n",
       "      <td>bankier</td>\n",
       "    </tr>\n",
       "    <tr>\n",
       "      <th>1</th>\n",
       "      <td>https://www.bankier.pl/wiadomosc/Oszust-probow...</td>\n",
       "      <td>[Oszust próbował wyłudzić pieniądze „na żołnie...</td>\n",
       "      <td>w Zabrze woj śląski oszust próbować wyłudzić p...</td>\n",
       "      <td>na szczęście przebywać w dom kobieta zorientow...</td>\n",
       "      <td>bankier</td>\n",
       "    </tr>\n",
       "    <tr>\n",
       "      <th>2</th>\n",
       "      <td>https://www.bankier.pl/wiadomosc/Banknoty-500-...</td>\n",
       "      <td>[Banknoty o nominale 500 zł w powszechnym obiegu]</td>\n",
       "      <td>banknot o nominalny 500 złoty znajdywać się w ...</td>\n",
       "      <td>jak czytać na strona nbp banknot 500 złoty nal...</td>\n",
       "      <td>bankier</td>\n",
       "    </tr>\n",
       "    <tr>\n",
       "      <th>3</th>\n",
       "      <td>https://www.bankier.pl/wiadomosc/ZUS-Swiadczen...</td>\n",
       "      <td>[ZUS Świadczenie chorobowe dla osób powracając...</td>\n",
       "      <td>osoba objąć obowiązkowy kwarantanna po przekro...</td>\n",
       "      <td>osoba który przekraczać granica państwowy mieć...</td>\n",
       "      <td>bankier</td>\n",
       "    </tr>\n",
       "    <tr>\n",
       "      <th>4</th>\n",
       "      <td>https://www.bankier.pl/wiadomosc/Posel-PiS-zak...</td>\n",
       "      <td>[Poseł PiS zakażony koronawirusem]</td>\n",
       "      <td>pochodzić z Podsarnie na Orawa poseł pis Edwar...</td>\n",
       "      <td>poseł czuć się w miara dobrze . zarazić się pe...</td>\n",
       "      <td>bankier</td>\n",
       "    </tr>\n",
       "    <tr>\n",
       "      <th>...</th>\n",
       "      <td>...</td>\n",
       "      <td>...</td>\n",
       "      <td>...</td>\n",
       "      <td>...</td>\n",
       "      <td>...</td>\n",
       "    </tr>\n",
       "    <tr>\n",
       "      <th>200524</th>\n",
       "      <td>https://www.wnp.pl/gazownictwo/gazprom-ma-wiel...</td>\n",
       "      <td>[Gazprom ma wielki problem. Gaz się przestał s...</td>\n",
       "      <td>tylko 19 milion m3 gaz sprzedać podczas ostatn...</td>\n",
       "      <td>elektroniczny platforma sprzedaż mieć spowodow...</td>\n",
       "      <td>wnp</td>\n",
       "    </tr>\n",
       "    <tr>\n",
       "      <th>200525</th>\n",
       "      <td>https://www.wnp.pl/budownictwo/dane-planistycz...</td>\n",
       "      <td>[Dane planistyczne będą powszechnie dostępne]</td>\n",
       "      <td>jak poinformować 13 marzec ministerstwo rozwój...</td>\n",
       "      <td>zmiana zostać zaprojektować z myśl o przyspies...</td>\n",
       "      <td>wnp</td>\n",
       "    </tr>\n",
       "    <tr>\n",
       "      <th>200526</th>\n",
       "      <td>https://www.wnp.pl/energetyka/cieplownictwo/se...</td>\n",
       "      <td>[Sefako ma pełny portfel zamówień]</td>\n",
       "      <td>portfel zamówienie na 2020 r. mieć już praktyc...</td>\n",
       "      <td>przypomnieć że w połów grudzień 2019 r. dotycz...</td>\n",
       "      <td>wnp</td>\n",
       "    </tr>\n",
       "    <tr>\n",
       "      <th>200527</th>\n",
       "      <td>https://www.wnp.pl/energetyka/cieplownictwo/wa...</td>\n",
       "      <td>[Warszawa Awaria ciepłownicza na Pradze Północ...</td>\n",
       "      <td>w piątka wieczór na warszawski Praha północ na...</td>\n",
       "      <td>jako pierwszy o zdarzenie poinformować portal ...</td>\n",
       "      <td>wnp</td>\n",
       "    </tr>\n",
       "    <tr>\n",
       "      <th>200528</th>\n",
       "      <td>https://www.wnp.pl/energetyka/cieplownictwo/po...</td>\n",
       "      <td>[Posco oraz konsorcjum spółek Zarmen i Remak E...</td>\n",
       "      <td>miejski przedsiębiorstwo oczyszczania otrzymać...</td>\n",
       "      <td>przy ocena oferta pod uwaga mieć być brać cena...</td>\n",
       "      <td>wnp</td>\n",
       "    </tr>\n",
       "  </tbody>\n",
       "</table>\n",
       "<p>200529 rows × 5 columns</p>\n",
       "</div>"
      ],
      "text/plain": [
       "                                                      url  \\\n",
       "0       https://www.bankier.pl/wiadomosc/UOKiK-chce-za...   \n",
       "1       https://www.bankier.pl/wiadomosc/Oszust-probow...   \n",
       "2       https://www.bankier.pl/wiadomosc/Banknoty-500-...   \n",
       "3       https://www.bankier.pl/wiadomosc/ZUS-Swiadczen...   \n",
       "4       https://www.bankier.pl/wiadomosc/Posel-PiS-zak...   \n",
       "...                                                   ...   \n",
       "200524  https://www.wnp.pl/gazownictwo/gazprom-ma-wiel...   \n",
       "200525  https://www.wnp.pl/budownictwo/dane-planistycz...   \n",
       "200526  https://www.wnp.pl/energetyka/cieplownictwo/se...   \n",
       "200527  https://www.wnp.pl/energetyka/cieplownictwo/wa...   \n",
       "200528  https://www.wnp.pl/energetyka/cieplownictwo/po...   \n",
       "\n",
       "                                                    title  \\\n",
       "0       [UOKiK chce zawieszenia spłaty kredytów. KNF T...   \n",
       "1       [Oszust próbował wyłudzić pieniądze „na żołnie...   \n",
       "2       [Banknoty o nominale 500 zł w powszechnym obiegu]   \n",
       "3       [ZUS Świadczenie chorobowe dla osób powracając...   \n",
       "4                      [Poseł PiS zakażony koronawirusem]   \n",
       "...                                                   ...   \n",
       "200524  [Gazprom ma wielki problem. Gaz się przestał s...   \n",
       "200525      [Dane planistyczne będą powszechnie dostępne]   \n",
       "200526                 [Sefako ma pełny portfel zamówień]   \n",
       "200527  [Warszawa Awaria ciepłownicza na Pradze Północ...   \n",
       "200528  [Posco oraz konsorcjum spółek Zarmen i Remak E...   \n",
       "\n",
       "                                                     lead  \\\n",
       "0       komisja nadzór finansowy traktować propozycja ...   \n",
       "1       w Zabrze woj śląski oszust próbować wyłudzić p...   \n",
       "2       banknot o nominalny 500 złoty znajdywać się w ...   \n",
       "3       osoba objąć obowiązkowy kwarantanna po przekro...   \n",
       "4       pochodzić z Podsarnie na Orawa poseł pis Edwar...   \n",
       "...                                                   ...   \n",
       "200524  tylko 19 milion m3 gaz sprzedać podczas ostatn...   \n",
       "200525  jak poinformować 13 marzec ministerstwo rozwój...   \n",
       "200526  portfel zamówienie na 2020 r. mieć już praktyc...   \n",
       "200527  w piątka wieczór na warszawski Praha północ na...   \n",
       "200528  miejski przedsiębiorstwo oczyszczania otrzymać...   \n",
       "\n",
       "                                                     text     site  \n",
       "0       analizować on teraz z punkt widzenie odpowiedn...  bankier  \n",
       "1       na szczęście przebywać w dom kobieta zorientow...  bankier  \n",
       "2       jak czytać na strona nbp banknot 500 złoty nal...  bankier  \n",
       "3       osoba który przekraczać granica państwowy mieć...  bankier  \n",
       "4       poseł czuć się w miara dobrze . zarazić się pe...  bankier  \n",
       "...                                                   ...      ...  \n",
       "200524  elektroniczny platforma sprzedaż mieć spowodow...      wnp  \n",
       "200525  zmiana zostać zaprojektować z myśl o przyspies...      wnp  \n",
       "200526  przypomnieć że w połów grudzień 2019 r. dotycz...      wnp  \n",
       "200527  jako pierwszy o zdarzenie poinformować portal ...      wnp  \n",
       "200528  przy ocena oferta pod uwaga mieć być brać cena...      wnp  \n",
       "\n",
       "[200529 rows x 5 columns]"
      ]
     },
     "execution_count": 307,
     "metadata": {},
     "output_type": "execute_result"
    }
   ],
   "source": [
    "data_all_trimmed"
   ]
  },
  {
   "cell_type": "code",
   "execution_count": 308,
   "metadata": {},
   "outputs": [],
   "source": [
    "data_all_trimmed.to_pickle('../data/filtered_data/polish_articles_trimmed.pkl')"
   ]
  },
  {
   "cell_type": "markdown",
   "metadata": {},
   "source": [
    "## Plot histograms\n",
    "Plot histograms of trimmed data length"
   ]
  },
  {
   "cell_type": "code",
   "execution_count": 309,
   "metadata": {},
   "outputs": [
    {
     "data": {
      "image/png": "[encoded data removed]",
      "text/plain": [
       "<Figure size 1152x576 with 1 Axes>"
      ]
     },
     "metadata": {
      "needs_background": "light"
     },
     "output_type": "display_data"
    }
   ],
   "source": [
    "plotter.plot_data_for_columns(data_trimmed, file_reader.file_names, column='lead', max_percentile=1, alpha=.5)"
   ]
  },
  {
   "cell_type": "code",
   "execution_count": 310,
   "metadata": {},
   "outputs": [
    {
     "data": {
      "image/png": "[encoded data removed]",
      "text/plain": [
       "<Figure size 1152x576 with 1 Axes>"
      ]
     },
     "metadata": {
      "needs_background": "light"
     },
     "output_type": "display_data"
    }
   ],
   "source": [
    "plotter.plot_data_for_columns(data_trimmed, file_reader.file_names, column='text', max_percentile=1, alpha=.5)"
   ]
  },
  {
   "cell_type": "code",
   "execution_count": null,
   "metadata": {},
   "outputs": [],
   "source": []
  }
 ],
 "metadata": {
  "kernelspec": {
   "display_name": "Python 3",
   "language": "python",
   "name": "python3"
  },
  "language_info": {
   "codemirror_mode": {
    "name": "ipython",
    "version": 3
   },
   "file_extension": ".py",
   "mimetype": "text/x-python",
   "name": "python",
   "nbconvert_exporter": "python",
   "pygments_lexer": "ipython3",
   "version": "3.7.4"
  }
 },
 "nbformat": 4,
 "nbformat_minor": 4
}
